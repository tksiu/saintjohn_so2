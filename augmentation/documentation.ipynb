{
  "cells": [
    {
      "cell_type": "code",
      "execution_count": 1,
      "metadata": {
        "id": "qeCwQCUWUptI"
      },
      "outputs": [],
      "source": [
        "import os\n",
        "import copy\n",
        "import pickle\n",
        "import pandas as pd\n",
        "import geopandas as gpd\n",
        "import numpy as np\n",
        "import scipy\n",
        "import shapely\n",
        "import datetime\n",
        "import math\n",
        "\n",
        "import seaborn\n",
        "from matplotlib import pyplot as plt\n",
        "from itertools import chain\n",
        "from functools import reduce\n",
        "from collections import Counter\n",
        "\n",
        "import statsmodels.api as sm\n",
        "import statsmodels.gam.api as smgam\n",
        "from statsmodels.tsa.seasonal import seasonal_decompose\n",
        "from statsmodels.tsa.stattools import acf, pacf\n",
        "from statsmodels.graphics.tsaplots import plot_acf, plot_pacf\n",
        "from statsmodels.tsa.stattools import grangercausalitytests\n",
        "\n",
        "from sklearn.ensemble import RandomForestRegressor, RandomForestClassifier\n",
        "from sklearn.ensemble import GradientBoostingRegressor, GradientBoostingClassifier\n",
        "from sklearn.ensemble import HistGradientBoostingRegressor, HistGradientBoostingClassifier\n",
        "from sklearn.metrics import mean_absolute_error, mean_squared_error, median_absolute_error, explained_variance_score, r2_score\n",
        "from sklearn.metrics import classification_report, confusion_matrix\n",
        "from sklearn.model_selection import train_test_split\n",
        "from sklearn.model_selection import cross_val_score\n",
        "from sklearn.model_selection import KFold, TimeSeriesSplit\n",
        "from sklearn.preprocessing import PowerTransformer\n",
        "from sklearn.preprocessing import QuantileTransformer\n",
        "from sklearn.preprocessing import StandardScaler"
      ]
    },
    {
      "cell_type": "code",
      "execution_count": 2,
      "metadata": {
        "id": "OxmxeuXxXOsc"
      },
      "outputs": [],
      "source": [
        "import warnings\n",
        "warnings.filterwarnings(\"ignore\")"
      ]
    },
    {
      "cell_type": "code",
      "execution_count": 4,
      "metadata": {
        "id": "9yoAztWrV4I6"
      },
      "outputs": [],
      "source": [
        "###  step 1)  recall all downloaded records\n",
        "\n",
        "nb_stations = pd.read_excel(f\"./src/NB_Air_Quality_stations_metadata.xlsx\")\n",
        "\n",
        "nb_records_path = f\"/content/drive/MyDrive/TEMPO/Code Resources/Saint John/output/\"\n",
        "nb_so2_files = [x for x in os.listdir(nb_records_path) if \"NB FEM SO2\" in x]\n",
        "nb_trs_files = [x for x in os.listdir(nb_records_path) if \"NB FEM TRS\" in x]\n",
        "\n",
        "\n",
        "nb_so2_records = []\n",
        "nb_so2_stations = []\n",
        "\n",
        "for s in range(len(nb_so2_files)):\n",
        "    nb_station_records = pd.read_excel(nb_records_path + nb_so2_files[s])\n",
        "    nb_station_records = nb_station_records.iloc[0:-1,:]\n",
        "\n",
        "    nb_map_stations = list(nb_station_records.columns)[1:]\n",
        "    nb_map_stations = [x for x in nb_map_stations if x != \"Colson Cove - Musquash\"]\n",
        "    nb_map_stations = [x.replace(\"–\", \"-\").replace(\" - IOL\", \"\") for x in nb_map_stations]\n",
        "\n",
        "    nb_stations_tem = nb_stations[(nb_stations['city'] + \" - \" + nb_stations['station_name']).isin(nb_map_stations) &\n",
        "                                  (nb_stations['measurements'] == \"SO2\")]\n",
        "    nb_stations_tem = nb_stations_tem[~((nb_stations_tem['station_name'] == \"Forest Hills\") & (nb_stations_tem['owner'] == \"Government of New Brunswick\"))]\n",
        "\n",
        "    nb_stations_tem['geometry'] = list(zip(nb_stations_tem['longitude'], nb_stations_tem['latitude']))\n",
        "    nb_stations_tem['geometry'] = nb_stations_tem['geometry'].apply(shapely.Point)\n",
        "    nb_stations_tem = gpd.GeoDataFrame(nb_stations_tem, geometry='geometry', crs = 'epsg:4326')\n",
        "\n",
        "    nb_so2_records.append(nb_station_records)\n",
        "    nb_so2_stations.append(nb_stations_tem)\n",
        "\n",
        "nb_so2_records = pd.concat(nb_so2_records)\n",
        "nb_so2_stations = pd.concat(nb_so2_stations).drop_duplicates()\n",
        "nb_so2_records = nb_so2_records.drop([\"Colson Cove - Musquash\"], axis=1)\n",
        "nb_so2_records.columns = [\"Result_Date\"] + nb_map_stations\n",
        "\n",
        "\n",
        "nb_TRS_records = pd.read_excel(nb_records_path + nb_trs_files[0])\n",
        "nb_TRS_records = nb_TRS_records.iloc[0:-1,:]\n",
        "nb_TRS_map_stations = list(nb_TRS_records.columns)[1:]\n",
        "nb_TRS_map_stations = [x.replace(\"–\", \"-\").replace(\" - IOL\", \"\") for x in nb_TRS_map_stations]\n",
        "\n",
        "nb_TRS_stations = nb_stations[(nb_stations['city'] + \" - \" + nb_stations['station_name']).isin(nb_TRS_map_stations)]\n",
        "nb_TRS_stations = nb_TRS_stations.drop([\"measurements\"], axis=1).drop_duplicates()\n",
        "nb_TRS_stations = nb_TRS_stations[~((nb_TRS_stations['station_name'] == \"Forest Hills\") & (nb_TRS_stations['owner'] == \"Government of New Brunswick\"))]\n",
        "\n",
        "nb_TRS_stations['geometry'] = list(zip(nb_TRS_stations['longitude'], nb_stations_tem['latitude']))\n",
        "nb_TRS_stations['geometry'] = nb_TRS_stations['geometry'].apply(shapely.Point)\n",
        "nb_TRS_stations = gpd.GeoDataFrame(nb_TRS_stations, geometry='geometry', crs = 'epsg:4326')\n",
        "\n",
        "nb_TRS_records.columns = [\"Result_Date\"] + nb_TRS_map_stations"
      ]
    },
    {
      "cell_type": "code",
      "execution_count": 7,
      "metadata": {
        "id": "hStfVXzFW7eA"
      },
      "outputs": [],
      "source": [
        "###  step 2)  create a time-series SO2 and TRS dataset\n",
        "\n",
        "date_range = pd.date_range(start='2021-05-25 00:00:00', end='2024-01-01 23:00:00', freq='H')\n",
        "\n",
        "ts_train_data_so2 = copy.deepcopy(nb_so2_records)\n",
        "ts_train_data_trs = nb_TRS_records[[x for x in nb_TRS_records.columns if x in nb_so2_records.columns]]\n",
        "ts_train_data_so2['pollutant'] = \"SO2\"\n",
        "ts_train_data_trs['pollutant'] = \"TRS\"\n",
        "\n",
        "ts_train_data = pd.concat([ts_train_data_so2, ts_train_data_trs])\n",
        "ts_train_data = pd.melt(ts_train_data, id_vars=[\"Result_Date\",\"pollutant\"])\n",
        "ts_train_data = pd.pivot(ts_train_data, index=[\"variable\",\"Result_Date\"], columns=[\"pollutant\"])\n",
        "ts_train_data = ts_train_data.reset_index()\n",
        "ts_train_data.columns = ['station', 'date_hour'] + [c[1] for c in ts_train_data.columns][2:]\n",
        "ts_train_data['station'] = ts_train_data['station'].apply(lambda x: x.replace(\"Saint John - \", \"\"))\n",
        "ts_train_data['station'] = ts_train_data['station'].apply(lambda x: x.replace(\"Colson Cove - \", \"\"))\n",
        "\n",
        "ts_train_data['year_month'] = ts_train_data['date_hour'].apply(lambda x: str(x.year) + \"-\" + str(x.month))\n",
        "ts_train_data['year_week'] = ts_train_data['date_hour'].apply(lambda x: str(x.year) + \"-\" + str(x.week))\n",
        "ts_train_data['day'] = ts_train_data['date_hour'].apply(lambda x: x.date())\n",
        "ts_train_data['day_of_year'] = ts_train_data['day'].apply(lambda x: x.timetuple().tm_yday)\n",
        "ts_train_data['month'] = ts_train_data['date_hour'].apply(lambda x: x.month)\n",
        "ts_train_data['hour'] = ts_train_data['date_hour'].apply(lambda x: x.hour)\n",
        "ts_train_data['week'] = ts_train_data['date_hour'].apply(lambda x: x.week)\n",
        "ts_train_data['weekday'] = ts_train_data['date_hour'].apply(lambda x: x.weekday())"
      ]
    },
    {
      "cell_type": "code",
      "execution_count": 8,
      "metadata": {
        "id": "UGOPVtGSXV-Q"
      },
      "outputs": [],
      "source": [
        "ts_train_data_local_daily_mean = ts_train_data.groupby([\"station\",\"day\"]).agg({\"SO2\": np.nanmean, \"TRS\": np.nanmean})\n",
        "ts_train_data_local_daily_mean = ts_train_data_local_daily_mean.reset_index()\n",
        "\n",
        "ts_train_data_local_weekly_mean = ts_train_data.groupby([\"station\",\"year_week\"]).agg({\"SO2\": np.nanmean, \"TRS\": np.nanmean})\n",
        "ts_train_data_local_weekly_mean = ts_train_data_local_weekly_mean.reset_index()\n",
        "\n",
        "ts_train_data_local_monthly_mean = ts_train_data.groupby([\"station\",\"year_month\"]).agg({\"SO2\": np.nanmean, \"TRS\": np.nanmean})\n",
        "ts_train_data_local_monthly_mean = ts_train_data_local_monthly_mean.reset_index()\n",
        "\n",
        "ts_train_data['SO2'] = ts_train_data.apply(lambda x: ts_train_data_local_daily_mean[((ts_train_data_local_daily_mean['station'] == x['station']) &\n",
        "                                                                                     (ts_train_data_local_daily_mean['day'] == x['day']))]['SO2'].values[0]\n",
        "                                                       if pd.isnull(x['SO2']) else x['SO2'],\n",
        "                                                       axis = 1)\n",
        "ts_train_data['TRS'] = ts_train_data.apply(lambda x: ts_train_data_local_daily_mean[((ts_train_data_local_daily_mean['station'] == x['station']) &\n",
        "                                                                                     (ts_train_data_local_daily_mean['day'] == x['day']))]['TRS'].values[0]\n",
        "                                                       if pd.isnull(x['TRS']) else x['TRS'],\n",
        "                                                       axis = 1)\n",
        "\n",
        "ts_train_data['SO2'] = ts_train_data.apply(lambda x: ts_train_data_local_weekly_mean[((ts_train_data_local_weekly_mean['station'] == x['station']) &\n",
        "                                                                                      (ts_train_data_local_weekly_mean['year_week'] == x['year_week']))]['SO2'].values[0]\n",
        "                                                       if pd.isnull(x['SO2']) else x['SO2'],\n",
        "                                                       axis = 1)\n",
        "ts_train_data['TRS'] = ts_train_data.apply(lambda x: ts_train_data_local_weekly_mean[((ts_train_data_local_weekly_mean['station'] == x['station']) &\n",
        "                                                                                      (ts_train_data_local_weekly_mean['year_week'] == x['year_week']))]['TRS'].values[0]\n",
        "                                                       if pd.isnull(x['TRS']) else x['TRS'],\n",
        "                                                       axis = 1)\n",
        "\n",
        "ts_train_data['SO2'] = ts_train_data.apply(lambda x: ts_train_data_local_monthly_mean[((ts_train_data_local_monthly_mean['station'] == x['station']) &\n",
        "                                                                                       (ts_train_data_local_monthly_mean['year_month'] == x['year_month']))]['SO2'].values[0]\n",
        "                                                       if pd.isnull(x['SO2']) else x['SO2'],\n",
        "                                                       axis = 1)\n",
        "ts_train_data['TRS'] = ts_train_data.apply(lambda x: ts_train_data_local_monthly_mean[((ts_train_data_local_monthly_mean['station'] == x['station']) &\n",
        "                                                                                       (ts_train_data_local_monthly_mean['year_month'] == x['year_month']))]['TRS'].values[0]\n",
        "                                                       if pd.isnull(x['TRS']) else x['TRS'],\n",
        "                                                       axis = 1)"
      ]
    },
    {
      "cell_type": "code",
      "execution_count": 9,
      "metadata": {
        "id": "G14VPUF4XXKN"
      },
      "outputs": [],
      "source": [
        "ts_train_data_expand = copy.deepcopy(ts_train_data)\n",
        "\n",
        "for lag in range(36):\n",
        "    ts_train_data_expand[\"TRS_1hr_lag_\" + str(lag+1)] = ts_train_data_expand.groupby([\"station\"])[\"TRS\"].shift(lag)\n",
        "\n",
        "ts_train_data_expand['TRS_4hr_lag_mean'] = ts_train_data_expand[[\"TRS_1hr_lag_\" + str(x) for x in range(1, 5)]].mean(axis=1)\n",
        "ts_train_data_expand['TRS_4hr_lag_max'] = ts_train_data_expand[[\"TRS_1hr_lag_\" + str(x) for x in range(1, 5)]].max(axis=1)\n",
        "ts_train_data_expand['TRS_8hr_lag_mean'] = ts_train_data_expand[[\"TRS_1hr_lag_\" + str(x) for x in range(1, 9)]].mean(axis=1)\n",
        "ts_train_data_expand['TRS_8hr_lag_max'] = ts_train_data_expand[[\"TRS_1hr_lag_\" + str(x) for x in range(1, 9)]].max(axis=1)\n",
        "ts_train_data_expand['TRS_12hr_lag_mean'] = ts_train_data_expand[[\"TRS_1hr_lag_\" + str(x) for x in range(1, 13)]].mean(axis=1)\n",
        "ts_train_data_expand['TRS_12hr_lag_max'] = ts_train_data_expand[[\"TRS_1hr_lag_\" + str(x) for x in range(1, 13)]].max(axis=1)\n",
        "ts_train_data_expand['TRS_24hr_lag_mean'] = ts_train_data_expand[[\"TRS_1hr_lag_\" + str(x) for x in range(1, 25)]].mean(axis=1)\n",
        "ts_train_data_expand['TRS_24hr_lag_max'] = ts_train_data_expand[[\"TRS_1hr_lag_\" + str(x) for x in range(1, 25)]].max(axis=1)"
      ]
    },
    {
      "cell_type": "code",
      "execution_count": 10,
      "metadata": {
        "id": "jSiib1PGXeav"
      },
      "outputs": [],
      "source": [
        "train_stations = [x.replace(\"Saint John - \", \"\") for x in nb_so2_records.columns if x in nb_TRS_records.columns and x != \"Result_Date\"]\n",
        "train_stations = nb_stations[nb_stations['station_name'].isin(train_stations)][['station_name','latitude','longitude']].drop_duplicates()\n",
        "train_stations = train_stations.iloc[1:,:]\n",
        "\n",
        "all_stations = nb_stations[nb_stations['station_name'].isin(ts_train_data_expand['station'])][['station_name','latitude','longitude']].drop_duplicates()\n",
        "all_stations = all_stations.iloc[1:,:]"
      ]
    },
    {
      "cell_type": "code",
      "execution_count": 11,
      "metadata": {
        "id": "oqlA0U-5XiAt"
      },
      "outputs": [],
      "source": [
        "def dist(x, y):\n",
        "    lat1 = math.radians(x[0])\n",
        "    lon1 = math.radians(x[1])\n",
        "    lat2 = math.radians(y[0])\n",
        "    lon2 = math.radians(y[1])\n",
        "    R = 6373.0\n",
        "    dlon = lon2 - lon1\n",
        "    dlat = lat2 - lat1\n",
        "    a = math.sin(dlat / 2) ** 2 + math.cos(lat1) * math.cos(lat2) * math.sin(dlon / 2) ** 2\n",
        "    c = 2 * math.atan2(math.sqrt(a), math.sqrt(1 - a))\n",
        "    distance = R * c\n",
        "    return round(distance, 4)"
      ]
    },
    {
      "cell_type": "code",
      "execution_count": 12,
      "metadata": {
        "id": "lm4_SJawXigc"
      },
      "outputs": [],
      "source": [
        "points = all_stations['station_name']\n",
        "distances = scipy.spatial.distance.pdist(all_stations[['latitude','longitude']].values, metric=dist)\n",
        "station_distances = pd.DataFrame(scipy.spatial.distance.squareform(distances), columns=points, index=points)"
      ]
    },
    {
      "cell_type": "code",
      "execution_count": 13,
      "metadata": {
        "id": "3xiGMWLFXpeV"
      },
      "outputs": [],
      "source": [
        "weighted_so2 = []\n",
        "\n",
        "for s in train_stations['station_name']:\n",
        "    station_ts = ts_train_data_expand[ts_train_data_expand['station'] == s]\n",
        "    station_inclusion = station_distances.loc[s, :][station_distances.loc[s, :] < 4].index.tolist()\n",
        "    station_weightings = station_distances.loc[s, [x for x in station_distances.columns if x != s and x in station_inclusion]]\n",
        "    station_weightings = 1 / (station_weightings / station_weightings.sum())\n",
        "    station_weightings = station_weightings / station_weightings.sum()\n",
        "    nearby_counter = 1\n",
        "    for w in [x for x in station_inclusion if x != s]:\n",
        "        station_ts_w = ts_train_data_expand[ts_train_data_expand['station'] == w][['date_hour','SO2']]\n",
        "        station_ts_w['SO2'] = station_ts_w['SO2'] * station_weightings.loc[w]\n",
        "        station_ts_w.columns = ['date_hour','nearby_station_' + str(nearby_counter) + \"_SO2\"]\n",
        "        station_ts = station_ts.merge(station_ts_w, on=['date_hour'], how=\"left\")\n",
        "        nearby_counter += 1\n",
        "    lng = len([x for x in station_inclusion if x != s])\n",
        "    station_ts['weighted_SO2'] = station_ts.iloc[:, (station_ts.shape[1]-lng):station_ts.shape[1]].mean(axis=1)\n",
        "    weighted_so2.append(station_ts)\n",
        "\n",
        "weighted_so2 = pd.concat(weighted_so2)\n",
        "weighted_so2 = weighted_so2[['station','date_hour','weighted_SO2']]"
      ]
    },
    {
      "cell_type": "code",
      "execution_count": 14,
      "metadata": {
        "id": "LJbxk93fYXQv"
      },
      "outputs": [],
      "source": [
        "ts_train_data_expand = ts_train_data_expand[ts_train_data_expand['station'].isin(train_stations['station_name'])]\n",
        "ts_train_data_expand = ts_train_data_expand.merge(weighted_so2, on=['station','date_hour'], how='left')\n",
        "\n",
        "for lag in range(36):\n",
        "    ts_train_data_expand[\"weighted_SO2_1hr_lag_\" + str(lag+1)] = ts_train_data_expand.groupby([\"station\"])[\"weighted_SO2\"].shift(lag)\n",
        "\n",
        "ts_train_data_expand['weighted_SO2_4hr_lag_mean'] = ts_train_data_expand[[\"weighted_SO2_1hr_lag_\" + str(x) for x in range(1, 5)]].mean(axis=1)\n",
        "ts_train_data_expand['weighted_SO2_4hr_lag_max'] = ts_train_data_expand[[\"weighted_SO2_1hr_lag_\" + str(x) for x in range(1, 5)]].max(axis=1)\n",
        "ts_train_data_expand['weighted_SO2_8hr_lag_mean'] = ts_train_data_expand[[\"weighted_SO2_1hr_lag_\" + str(x) for x in range(1, 9)]].mean(axis=1)\n",
        "ts_train_data_expand['weighted_SO2_8hr_lag_max'] = ts_train_data_expand[[\"weighted_SO2_1hr_lag_\" + str(x) for x in range(1, 9)]].max(axis=1)\n",
        "ts_train_data_expand['weighted_SO2_12hr_lag_mean'] = ts_train_data_expand[[\"weighted_SO2_1hr_lag_\" + str(x) for x in range(1, 13)]].mean(axis=1)\n",
        "ts_train_data_expand['weighted_SO2_12hr_lag_max'] = ts_train_data_expand[[\"weighted_SO2_1hr_lag_\" + str(x) for x in range(1, 13)]].max(axis=1)\n",
        "ts_train_data_expand['weighted_SO2_24hr_lag_mean'] = ts_train_data_expand[[\"weighted_SO2_1hr_lag_\" + str(x) for x in range(1, 25)]].mean(axis=1)\n",
        "ts_train_data_expand['weighted_SO2_24hr_lag_max'] = ts_train_data_expand[[\"weighted_SO2_1hr_lag_\" + str(x) for x in range(1, 25)]].max(axis=1)"
      ]
    },
    {
      "cell_type": "code",
      "execution_count": 15,
      "metadata": {
        "id": "pM8cU0sSYX6Q"
      },
      "outputs": [],
      "source": [
        "seasonality_dict = {}\n",
        "trend_dict = {}\n",
        "resid_dict = {}\n",
        "\n",
        "for n in ts_train_data_expand['station'].drop_duplicates():\n",
        "    decompose = seasonal_decompose(ts_train_data_expand[ts_train_data_expand['station'] == n].set_index('date_hour')['TRS'], \n",
        "                                   model=\"additive\", period=24, extrapolate_trend=True)\n",
        "    seasonality_dict[n] = decompose.seasonal\n",
        "    trend_dict[n] = decompose.trend\n",
        "    resid_dict[n] = decompose.resid\n",
        "\n",
        "additive_seasonality_trs = pd.melt(pd.DataFrame(seasonality_dict).reset_index(), id_vars=\"date_hour\")\n",
        "additive_trend_trs = pd.melt(pd.DataFrame(trend_dict).reset_index(), id_vars=\"date_hour\")\n",
        "additive_resid_trs = pd.melt(pd.DataFrame(resid_dict).reset_index(), id_vars=\"date_hour\")\n",
        "\n",
        "seasonality_dict = {}\n",
        "trend_dict = {}\n",
        "resid_dict = {}\n",
        "\n",
        "for n in ts_train_data_expand['station'].drop_duplicates():\n",
        "    decompose = seasonal_decompose(ts_train_data_expand[ts_train_data_expand['station'] == n].set_index('date_hour')['TRS'] + 0.0001, \n",
        "                                   model=\"multiplicative\", period=24, extrapolate_trend=True)\n",
        "    seasonality_dict[n] = decompose.seasonal\n",
        "    trend_dict[n] = decompose.trend\n",
        "    resid_dict[n] = decompose.resid\n",
        "\n",
        "multiplicative_seasonality_trs = pd.melt(pd.DataFrame(seasonality_dict).reset_index(), id_vars=\"date_hour\")\n",
        "multiplicative_trend_trs = pd.melt(pd.DataFrame(trend_dict).reset_index(), id_vars=\"date_hour\")\n",
        "multiplicative_resid_trs = pd.melt(pd.DataFrame(resid_dict).reset_index(), id_vars=\"date_hour\")\n",
        "\n",
        "seasonality_dict = {}\n",
        "trend_dict = {}\n",
        "resid_dict = {}\n",
        "\n",
        "for n in ts_train_data_expand['station'].drop_duplicates():\n",
        "    decompose = seasonal_decompose(ts_train_data_expand[ts_train_data_expand['station'] == n].set_index('date_hour')['weighted_SO2'], \n",
        "                                   model=\"additive\", period=24, extrapolate_trend=True)\n",
        "    seasonality_dict[n] = decompose.seasonal\n",
        "    trend_dict[n] = decompose.trend\n",
        "    resid_dict[n] = decompose.resid\n",
        "\n",
        "additive_seasonality_so2 = pd.melt(pd.DataFrame(seasonality_dict).reset_index(), id_vars=\"date_hour\")\n",
        "additive_trend_so2 = pd.melt(pd.DataFrame(trend_dict).reset_index(), id_vars=\"date_hour\")\n",
        "additive_resid_so2 = pd.melt(pd.DataFrame(resid_dict).reset_index(), id_vars=\"date_hour\")\n",
        "\n",
        "seasonality_dict = {}\n",
        "trend_dict = {}\n",
        "resid_dict = {}\n",
        "\n",
        "for n in ts_train_data_expand['station'].drop_duplicates():\n",
        "    decompose = seasonal_decompose(ts_train_data_expand[ts_train_data_expand['station'] == n].set_index('date_hour')['weighted_SO2'] + 0.0001, \n",
        "                                   model=\"multiplicative\", period=24, extrapolate_trend=True)\n",
        "    seasonality_dict[n] = decompose.seasonal\n",
        "    trend_dict[n] = decompose.trend\n",
        "    resid_dict[n] = decompose.resid\n",
        "\n",
        "multiplicative_seasonality_so2 = pd.melt(pd.DataFrame(seasonality_dict).reset_index(), id_vars=\"date_hour\")\n",
        "multiplicative_trend_so2 = pd.melt(pd.DataFrame(trend_dict).reset_index(), id_vars=\"date_hour\")\n",
        "multiplicative_resid_so2 = pd.melt(pd.DataFrame(resid_dict).reset_index(), id_vars=\"date_hour\")\n",
        "\n",
        "additive_seasonality_trs.columns = ['date_hour','station','additive_seasonality_TRS']\n",
        "additive_trend_trs.columns = ['date_hour','station','additive_trend_TRS']\n",
        "additive_resid_trs.columns = ['date_hour','station','additive_resid_TRS']\n",
        "multiplicative_seasonality_trs.columns = ['date_hour','station','multiplicative_seasonality_TRS']\n",
        "multiplicative_trend_trs.columns = ['date_hour','station','multiplicative_trend_TRS']\n",
        "multiplicative_resid_trs.columns = ['date_hour','station','multiplicative_resid_TRS']\n",
        "\n",
        "additive_seasonality_so2.columns = ['date_hour','station','additive_seasonality_weighted_SO2']\n",
        "additive_trend_so2.columns = ['date_hour','station','additive_trend_weighted_SO2']\n",
        "additive_resid_so2.columns = ['date_hour','station','additive_resid_weighted_SO2']\n",
        "multiplicative_seasonality_so2.columns = ['date_hour','station','multiplicative_seasonality_weighted_SO2']\n",
        "multiplicative_trend_so2.columns = ['date_hour','station','multiplicative_trend_weighted_SO2']\n",
        "multiplicative_resid_so2.columns = ['date_hour','station','multiplicative_resid_weighted_SO2']"
      ]
    },
    {
      "cell_type": "code",
      "execution_count": 16,
      "metadata": {
        "id": "TeqUgrvSYc5g"
      },
      "outputs": [],
      "source": [
        "ts_train_data_expand = reduce(lambda df1, df2: pd.merge(df1, df2, on=['date_hour','station'], how=\"left\"),\n",
        "                              [ts_train_data_expand,\n",
        "                               additive_seasonality_trs, additive_trend_trs, additive_resid_trs,\n",
        "                               multiplicative_seasonality_trs, multiplicative_trend_trs, multiplicative_resid_trs,\n",
        "                               additive_seasonality_so2, additive_trend_so2, additive_resid_so2,\n",
        "                               multiplicative_seasonality_so2, multiplicative_trend_so2, multiplicative_resid_so2\n",
        "                               ])\n",
        "\n",
        "ts_train_data_expand = ts_train_data_expand.dropna()\n",
        "\n",
        "ts_train_data_expand['SO2_above_0'] = ts_train_data_expand['SO2'].apply(lambda x: 0 if x == 0 else 1)"
      ]
    },
    {
      "cell_type": "code",
      "execution_count": 4,
      "metadata": {
        "id": "ESqYE_3zatgf"
      },
      "outputs": [],
      "source": [
        "ts_train_data_expand = ts_train_data_expand[ts_train_data_expand['day'].apply(lambda x: datetime.datetime.strftime(x, \"%Y-%m-%d\")) >= '2022-01-01']"
      ]
    },
    {
      "cell_type": "code",
      "execution_count": 5,
      "metadata": {
        "id": "ZLY3YS6Ea9m9"
      },
      "outputs": [],
      "source": [
        "with open(f\"./archive/gbm_augment_classification.pkl\", \"rb\") as f:\n",
        "    gbmcfull = pickle.load(f)\n",
        "\n",
        "with open(f\"./archive/gbm_augment_log_transform.pkl\", \"rb\") as f:\n",
        "    gbmlogfull = pickle.load(f)"
      ]
    },
    {
      "cell_type": "code",
      "execution_count": 6,
      "metadata": {
        "id": "ghkWi6_VbztF"
      },
      "outputs": [],
      "source": [
        "endog = ts_train_data_expand['SO2_above_0']\n",
        "exog = np.log(ts_train_data_expand[\n",
        "    [x for x in ts_train_data_expand.columns \n",
        "       if \"TRS\" in x or \"weighted_SO2\" in x]\n",
        "] + 0.0001)\n",
        "exog = np.concatenate((\n",
        "        np.log(ts_train_data_expand[[x for x in ts_train_data_expand.columns \n",
        "                                     if x == \"TRS\" or \n",
        "                                        (\"TRS\" in x and \n",
        "                                         \"1hr\" in x)]] + 0.0001),\n",
        "        np.log(ts_train_data_expand[[x for x in ts_train_data_expand.columns \n",
        "                                     if x == \"weighted_SO2\" or \n",
        "                                        (\"weighted_SO2\" in x and \n",
        "                                         \"1hr\" in x)]] + 0.0001),\n",
        "        np.log(ts_train_data_expand[[x for x in ts_train_data_expand.columns \n",
        "                                     if \"TRS_\" in x and \n",
        "                                        \"1hr\" not in x and \n",
        "                                        \"additive\" not in x and \n",
        "                                        \"multiplicative\" not in x and \n",
        "                                        \"diff\" not in x]] + 0.0001),\n",
        "        np.log(ts_train_data_expand[[x for x in ts_train_data_expand.columns \n",
        "                                     if \"weighted_SO2_\" in x and \n",
        "                                        \"1hr\" not in x and \n",
        "                                        \"additive\" not in x and \n",
        "                                        \"multiplicative\" not in x]] + 0.0001),\n",
        "        np.array(ts_train_data_expand[[x for x in ts_train_data_expand.columns \n",
        "                                       if \"TRS\" in x and \n",
        "                                          (\"additive\" in x or \n",
        "                                           \"multiplicative\" in x)]]),\n",
        "        np.array(ts_train_data_expand[[x for x in ts_train_data_expand.columns \n",
        "                                       if \"weighted_SO2\" in x and \n",
        "                                          (\"additive\" in x or \n",
        "                                           \"multiplicative\" in x)]]),\n",
        "        np.array(ts_train_data_expand[['month','week','weekday','day_of_year','hour']])\n",
        "    ), axis = 1)\n",
        "\n",
        "group = ts_train_data_expand['station'].astype(str) + \" - \" + ts_train_data_expand['SO2_above_0'].astype(str)\n",
        "\n",
        "X_train, X_test, y_train, y_test = train_test_split(exog, endog, test_size=0.2, random_state=42, stratify=group)"
      ]
    },
    {
      "cell_type": "code",
      "execution_count": null,
      "metadata": {
        "id": "BpcpL9odfwLB"
      },
      "outputs": [],
      "source": [
        "gbmcfull = HistGradientBoostingClassifier(\n",
        "    max_iter=50000, \n",
        "    learning_rate=0.001, \n",
        "    max_depth=10, \n",
        "    random_state=42,\n",
        "    class_weight={\n",
        "        0: 1 / (Counter(ts_train_data_expand['SO2_above_0'])[0] / (Counter(ts_train_data_expand['SO2_above_0'])[1] + Counter(ts_train_data_expand['SO2_above_0'])[0])),\n",
        "        1: 1 / (Counter(ts_train_data_expand['SO2_above_0'])[1] / (Counter(ts_train_data_expand['SO2_above_0'])[1] + Counter(ts_train_data_expand['SO2_above_0'])[0]))\n",
        "    }\n",
        ")\n",
        "gbmcfull.fit(X_train, y_train)"
      ]
    },
    {
      "cell_type": "code",
      "execution_count": 7,
      "metadata": {
        "id": "Ngna0T63b3YH"
      },
      "outputs": [],
      "source": [
        "gbmcfull_preds_train = gbmcfull.predict(X_train)\n",
        "gbmcfull_preds_test = gbmcfull.predict(X_test)"
      ]
    },
    {
      "cell_type": "code",
      "execution_count": 8,
      "metadata": {
        "colab": {
          "base_uri": "https://localhost:8080/"
        },
        "id": "kox_sntFhZMm",
        "outputId": "bc40fb56-d4db-43ee-ce4e-41c25c017619"
      },
      "outputs": [
        {
          "name": "stdout",
          "output_type": "stream",
          "text": [
            "              precision    recall  f1-score   support\n",
            "\n",
            "           0       0.89      0.94      0.91     22955\n",
            "           1       0.96      0.92      0.94     33262\n",
            "\n",
            "    accuracy                           0.93     56217\n",
            "   macro avg       0.92      0.93      0.92     56217\n",
            "weighted avg       0.93      0.93      0.93     56217\n",
            "\n"
          ]
        }
      ],
      "source": [
        "print(classification_report(y_train, gbmcfull_preds_train))"
      ]
    },
    {
      "cell_type": "code",
      "execution_count": 9,
      "metadata": {
        "colab": {
          "base_uri": "https://localhost:8080/"
        },
        "id": "QsqoJKv-hcRF",
        "outputId": "31a34f22-1046-4235-c7d9-c34f1aef46d5"
      },
      "outputs": [
        {
          "data": {
            "text/plain": [
              "array([[21539,  1416],\n",
              "       [ 2702, 30560]])"
            ]
          },
          "execution_count": 9,
          "metadata": {},
          "output_type": "execute_result"
        }
      ],
      "source": [
        "confusion_matrix(y_train, gbmcfull_preds_train)"
      ]
    },
    {
      "cell_type": "code",
      "execution_count": 10,
      "metadata": {
        "colab": {
          "base_uri": "https://localhost:8080/"
        },
        "id": "0V79Z0uEheyD",
        "outputId": "b2c46de1-128b-4b73-d5c9-dd24e4c2b166"
      },
      "outputs": [
        {
          "name": "stdout",
          "output_type": "stream",
          "text": [
            "              precision    recall  f1-score   support\n",
            "\n",
            "           0       0.79      0.84      0.81      5739\n",
            "           1       0.88      0.84      0.86      8316\n",
            "\n",
            "    accuracy                           0.84     14055\n",
            "   macro avg       0.84      0.84      0.84     14055\n",
            "weighted avg       0.84      0.84      0.84     14055\n",
            "\n"
          ]
        }
      ],
      "source": [
        "print(classification_report(y_test, gbmcfull_preds_test))"
      ]
    },
    {
      "cell_type": "code",
      "execution_count": 11,
      "metadata": {
        "colab": {
          "base_uri": "https://localhost:8080/"
        },
        "id": "CW5LuhFOhgNZ",
        "outputId": "51768ed0-2e38-4bdb-af27-cd55afc1db6b"
      },
      "outputs": [
        {
          "data": {
            "text/plain": [
              "array([[4820,  919],\n",
              "       [1300, 7016]])"
            ]
          },
          "execution_count": 11,
          "metadata": {},
          "output_type": "execute_result"
        }
      ],
      "source": [
        "confusion_matrix(y_test, gbmcfull_preds_test)"
      ]
    },
    {
      "cell_type": "code",
      "execution_count": 12,
      "metadata": {
        "id": "vCDDpF81iFw0"
      },
      "outputs": [],
      "source": [
        "select_data = ts_train_data_expand[ts_train_data_expand['SO2_above_0'] == 1]\n",
        "\n",
        "endog = np.log(select_data['SO2'] + 0.001)\n",
        "exog = np.log(select_data[\n",
        "    [x for x in ts_train_data_expand.columns \n",
        "     if \"TRS\" in x or \"weighted_SO2\" in x]\n",
        "] + 0.0001)\n",
        "exog = np.concatenate((\n",
        "        np.log(select_data[[x for x in ts_train_data_expand.columns \n",
        "                              if x == \"TRS\" or \n",
        "                                 (\"TRS\" in x and \n",
        "                                  \"1hr\" in x)]] + 0.0001),\n",
        "        np.log(select_data[[x for x in ts_train_data_expand.columns \n",
        "                              if x == \"weighted_SO2\" or \n",
        "                                 (\"weighted_SO2\" in x and \n",
        "                                  \"1hr\" in x)]] + 0.0001),\n",
        "        np.log(select_data[[x for x in ts_train_data_expand.columns \n",
        "                              if \"TRS_\" in x and \n",
        "                                 \"1hr\" not in x and \n",
        "                                 \"additive\" not in x and \n",
        "                                 \"multiplicative\" not in x]] + 0.0001),\n",
        "        np.log(select_data[[x for x in ts_train_data_expand.columns \n",
        "                              if \"weighted_SO2_\" in x and \n",
        "                                 \"1hr\" not in x and \n",
        "                                 \"additive\" not in x and \n",
        "                                 \"multiplicative\" not in x]] + 0.0001),\n",
        "        np.array(select_data[[x for x in ts_train_data_expand.columns \n",
        "                                if \"TRS\" in x and \n",
        "                                   (\"additive\" in x or \n",
        "                                    \"multiplicative\" in x)]]),\n",
        "        np.array(select_data[[x for x in ts_train_data_expand.columns \n",
        "                                if \"weighted_SO2\" in x and \n",
        "                                   (\"additive\" in x or \n",
        "                                    \"multiplicative\" in x)]]),\n",
        "        np.array(select_data[['month','week','weekday','day_of_year','hour']])\n",
        "    ), axis = 1)\n",
        "\n",
        "group = ts_train_data_expand[ts_train_data_expand['SO2_above_0'] == 1]['station']\n",
        "\n",
        "X_train, X_test, y_train, y_test = train_test_split(exog, endog, test_size=0.2, random_state=42, stratify=group)"
      ]
    },
    {
      "cell_type": "code",
      "execution_count": null,
      "metadata": {
        "id": "me4jkYJCiJoP"
      },
      "outputs": [],
      "source": [
        "gbmlogfull = HistGradientBoostingRegressor(max_iter=30000, learning_rate=0.001, max_depth=10, random_state=42)\n",
        "gbmlogfull.fit(X_train, y_train)"
      ]
    },
    {
      "cell_type": "code",
      "execution_count": 13,
      "metadata": {
        "id": "1BWuHeI3iL6o"
      },
      "outputs": [],
      "source": [
        "gbmlogfull_preds_train = gbmlogfull.predict(X_train)\n",
        "gbmlogfull_preds_test = gbmlogfull.predict(X_test)"
      ]
    },
    {
      "cell_type": "code",
      "execution_count": 18,
      "metadata": {
        "colab": {
          "base_uri": "https://localhost:8080/"
        },
        "id": "HQOKs5aGiQxs",
        "outputId": "f1fbbc49-8068-4a30-857c-a9723f941b70"
      },
      "outputs": [
        {
          "name": "stdout",
          "output_type": "stream",
          "text": [
            "R2: 0.745165196391065\n",
            "Pearson's r: 0.8764408720668359\n",
            "MSE (log-scaled): 0.48315187389639447\n",
            "MAE (log-scaled): 0.5202929266547476\n",
            "MAE (original scale): 0.9506365373444626\n",
            "MedAE (original scale): 0.13154395510214326\n",
            "75-th Percentile AE (original scale): 0.38460449869842717\n"
          ]
        }
      ],
      "source": [
        "print(\"R2: \" + str(r2_score(y_train, gbmlogfull_preds_train)))\n",
        "print(\"Pearson's r: \" + str(scipy.stats.pearsonr(np.array(y_train).flatten(), gbmlogfull_preds_train)[0]))\n",
        "print(\"MSE (log-scaled): \" + str(mean_squared_error(y_train, gbmlogfull_preds_train)))\n",
        "print(\"MAE (log-scaled): \" + str(mean_absolute_error(y_train, gbmlogfull_preds_train)))\n",
        "print(\"MAE (original scale): \" + str(mean_absolute_error(np.exp(y_train) - 0.001, np.exp(gbmlogfull_preds_train) - 0.001)))\n",
        "print(\"MedAE (original scale): \" + str(median_absolute_error(np.exp(y_train) - 0.001, np.exp(gbmlogfull_preds_train) - 0.001)))\n",
        "print(\"75-th Percentile AE (original scale): \" + str(np.quantile(abs(np.exp(y_train) - np.exp(gbmlogfull_preds_train)), 0.75)))"
      ]
    },
    {
      "cell_type": "code",
      "execution_count": 19,
      "metadata": {
        "colab": {
          "base_uri": "https://localhost:8080/"
        },
        "id": "46u97m_qiRdJ",
        "outputId": "1814e648-1ea2-406b-dda5-a93b82e513ec"
      },
      "outputs": [
        {
          "name": "stdout",
          "output_type": "stream",
          "text": [
            "R2: 0.5868994388063639\n",
            "Pearson's r: 0.7729417314736124\n",
            "MSE (log-scaled): 0.7795302001942177\n",
            "MAE (log-scaled): 0.6577171094072002\n",
            "MAE (original scale): 1.1525044133135467\n",
            "MedAE (original scale): 0.16675862050546014\n",
            "75-th Percentile AE (original scale): 0.5289285765604792\n"
          ]
        }
      ],
      "source": [
        "print(\"R2: \" + str(r2_score(y_test, gbmlogfull_preds_test)))\n",
        "print(\"Pearson's r: \" + str(scipy.stats.pearsonr(np.array(y_test).flatten(), gbmlogfull_preds_test)[0]))\n",
        "print(\"MSE (log-scaled): \" + str(mean_squared_error(y_test, gbmlogfull_preds_test)))\n",
        "print(\"MAE (log-scaled): \" + str(mean_absolute_error(y_test, gbmlogfull_preds_test)))\n",
        "print(\"MAE (original scale): \" + str(mean_absolute_error(np.exp(y_test) - 0.001, np.exp(gbmlogfull_preds_test) - 0.001)))\n",
        "print(\"MedAE (original scale): \" + str(median_absolute_error(np.exp(y_test) - 0.001, np.exp(gbmlogfull_preds_test) - 0.001)))\n",
        "print(\"75-th Percentile AE (original scale): \" + str(np.quantile(abs(np.exp(y_test) - np.exp(gbmlogfull_preds_test)), 0.75)))"
      ]
    },
    {
      "cell_type": "code",
      "execution_count": 16,
      "metadata": {
        "colab": {
          "base_uri": "https://localhost:8080/",
          "height": 581
        },
        "id": "myphDMH0iZua",
        "outputId": "afd2bac9-fad8-4632-886b-064f3147cc36"
      },
      "outputs": [
        {
          "data": {
            "text/plain": [
              "Text(0.5, 1.0, 'Testing Dataset (blue = actual, red = predictions)')"
            ]
          },
          "execution_count": 16,
          "metadata": {},
          "output_type": "execute_result"
        },
        {
          "data": {
            "image/png": "[encoded data removed]",
            "text/plain": [
              "<Figure size 1200x600 with 2 Axes>"
            ]
          },
          "metadata": {},
          "output_type": "display_data"
        }
      ],
      "source": [
        "fig, ax = plt.subplots(nrows=1, ncols=2, figsize=(12,6))\n",
        "seaborn.histplot(y_train, ax=ax[0], color=\"blue\", fill=False, bins=100)\n",
        "seaborn.histplot(gbmlogfull_preds_train.reshape(-1), ax=ax[0], color=\"red\", fill=False, bins=50)\n",
        "ax[0].set_title(\"Training Dataset (blue = actual, red = predictions)\")\n",
        "seaborn.histplot(y_test, ax=ax[1], color=\"blue\", fill=False, bins=100)\n",
        "seaborn.histplot(gbmlogfull_preds_test.reshape(-1), ax=ax[1], color=\"red\", fill=False, bins=50)\n",
        "ax[1].set_title(\"Testing Dataset (blue = actual, red = predictions)\")"
      ]
    }
  ],
  "metadata": {
    "colab": {
      "provenance": []
    },
    "kernelspec": {
      "display_name": "Python 3",
      "name": "python3"
    },
    "language_info": {
      "name": "python"
    }
  },
  "nbformat": 4,
  "nbformat_minor": 0
}
