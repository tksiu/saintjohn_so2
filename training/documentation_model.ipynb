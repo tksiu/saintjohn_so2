{
  "cells": [
    {
      "cell_type": "code",
      "execution_count": null,
      "metadata": {
        "id": "GF-HSYtZclDM"
      },
      "outputs": [],
      "source": [
        "from lightgbm import LGBMClassifier, LGBMRegressor\n",
        "from sklearn.ensemble import HistGradientBoostingRegressor, HistGradientBoostingClassifier\n",
        "from sklearn.linear_model import Lasso\n",
        "from sklearn.linear_model import LogisticRegression\n",
        "from sklearn.impute import KNNImputer\n",
        "from sklearn.pipeline import Pipeline\n",
        "from sklearn.metrics import mean_absolute_error, mean_squared_error, median_absolute_error, r2_score\n",
        "from sklearn.metrics import accuracy_score, recall_score, precision_score, f1_score\n",
        "from sklearn.metrics import classification_report, confusion_matrix\n",
        "from sklearn.model_selection import train_test_split\n",
        "from sklearn.model_selection import cross_val_score\n",
        "from sklearn.model_selection import KFold\n",
        "from sklearn.preprocessing import StandardScaler\n",
        "from collections import Counter"
      ]
    },
    {
      "cell_type": "code",
      "execution_count": null,
      "metadata": {
        "id": "hiyH6aPqI-j4"
      },
      "outputs": [],
      "source": [
        "import math\n",
        "import scipy\n",
        "import shapely\n",
        "import datetime\n",
        "import scipy\n",
        "import numpy as np\n",
        "import pandas as pd\n",
        "import geopandas as gpd"
      ]
    },
    {
      "cell_type": "code",
      "execution_count": null,
      "metadata": {
        "id": "ciQRIrmSJAVX"
      },
      "outputs": [],
      "source": [
        "import warnings\n",
        "warnings.filterwarnings('ignore')"
      ]
    },
    {
      "cell_type": "code",
      "execution_count": null,
      "metadata": {
        "id": "Hq_ljxn7JAtB"
      },
      "outputs": [],
      "source": [
        "data = pd.read_pickle(f\"/content/drive/MyDrive/training_data_grids_final.pkl\")\n",
        "data_lags_nn_queen_less_rook = pd.read_pickle(f\"/content/drive/MyDrive/training_data_grids_nn_queen_less_rook.pkl\")\n",
        "data_lags_nn_rook = pd.read_pickle(f\"/content/drive/MyDrive/training_data_grids_nn_rook.pkl\")\n",
        "\n",
        "data = data.drop([x for x in data.columns if 'neighb' in x or 'edge' in x or 'geom' in x], axis=1)\n",
        "data = pd.concat([data[[c for c in data.columns if \"nn\" not in c]], data_lags_nn_queen_less_rook, data_lags_nn_rook], axis=1)"
      ]
    },
    {
      "cell_type": "code",
      "execution_count": null,
      "metadata": {
        "colab": {
          "base_uri": "https://localhost:8080/"
        },
        "id": "sZUN6Kqgrp00",
        "outputId": "87772a4e-790b-4725-bd82-3bcd366a1640"
      },
      "outputs": [
        {
          "data": {
            "text/plain": [
              "(8760, 318)"
            ]
          },
          "execution_count": 16,
          "metadata": {},
          "output_type": "execute_result"
        }
      ],
      "source": [
        "data.shape"
      ]
    },
    {
      "cell_type": "code",
      "execution_count": null,
      "metadata": {
        "id": "7P444lRxLw4x"
      },
      "outputs": [],
      "source": [
        "data['day'] = data['time'].apply(lambda x: x.day)\n",
        "data['day_of_year'] = data['time'].apply(lambda x: x.timetuple().tm_yday)\n",
        "data['month'] = data['time'].apply(lambda x: x.month)\n",
        "data['week'] = data['time'].apply(lambda x: x.isocalendar()[1])\n",
        "data['weekday'] = data['time'].apply(lambda x: x.weekday())"
      ]
    },
    {
      "cell_type": "code",
      "execution_count": null,
      "metadata": {
        "id": "lx_n2vcQT-Ny"
      },
      "outputs": [],
      "source": [
        "##  monitoring stations\n",
        "grid_stations = gpd.read_file(f\"/content/drive/MyDrive/training_data_grid_stations.shp\")\n",
        "##  outcome of SO2 data\n",
        "out_so2 = pd.read_pickle(f\"/content/drive/MyDrive/training_data_out_so2.pkl\")"
      ]
    },
    {
      "cell_type": "code",
      "execution_count": null,
      "metadata": {
        "id": "jUpbndyVVInB"
      },
      "outputs": [],
      "source": [
        "def dist(x, y):\n",
        "    lat1 = math.radians(x[0])\n",
        "    lon1 = math.radians(x[1])\n",
        "    lat2 = math.radians(y[0])\n",
        "    lon2 = math.radians(y[1])\n",
        "    R = 6373.0\n",
        "    dlon = lon2 - lon1\n",
        "    dlat = lat2 - lat1\n",
        "    a = math.sin(dlat / 2) ** 2 + math.cos(lat1) * math.cos(lat2) * math.sin(dlon / 2) ** 2\n",
        "    c = 2 * math.atan2(math.sqrt(a), math.sqrt(1 - a))\n",
        "    distance = R * c\n",
        "    return round(distance, 4)"
      ]
    },
    {
      "cell_type": "code",
      "execution_count": null,
      "metadata": {
        "id": "J9kEQ_-tN92H"
      },
      "outputs": [],
      "source": [
        "##  Create Lagged Features of Surface Monitored SO2  ##\n",
        "\n",
        "weighted_so2 = []\n",
        "var_list = ['min_so2','mean_so2','max_so2',\n",
        "            'min_so2_4hr','mean_so2_4hr','max_so2_4hr',\n",
        "            'min_so2_8hr','mean_so2_8hr','max_so2_8hr',\n",
        "            'min_so2_12hr','mean_so2_12hr','max_so2_12hr',\n",
        "            'min_so2_24hr','mean_so2_24hr','max_so2_24hr',\n",
        "            'min_so2_48hr','mean_so2_48hr','max_so2_48hr']\n",
        "\n",
        "decay_factor = 0.1      #  multiplier to control the rate of exponential decay by distance\n",
        "\n",
        "for n in range(data[['id','lon','lat']].drop_duplicates().shape[0]):\n",
        "\n",
        "    #  generate distance matrix between stations\n",
        "\n",
        "    tem = data[['id','lon','lat']].drop_duplicates().iloc[n]\n",
        "    tem_coords_ref = tem[['lat','lon']].values.tolist()\n",
        "    distances = [dist(tem_coords_ref, z) for z in grid_stations[['latitude','longitude']].values.tolist()]\n",
        "    tem_dist = pd.DataFrame({\"id\": grid_stations[\"id_right\"].values.tolist(), \"station_name\": grid_stations[\"station_name\"].values.tolist(), \"distances\": distances})\n",
        "\n",
        "    #  include influence from nearby stations within a 10 km buffer,\n",
        "    #  exclude the in-situ / local-grid station to prevent data leakage in modelling\n",
        "\n",
        "    tem_dist = tem_dist[tem_dist['distances'] <= 10]\n",
        "    tem_leak = tem_dist[tem_dist['distances'] <= np.sqrt(0.275**2 + 0.275**2)]\n",
        "\n",
        "    if tem_dist.shape[0] > 0:\n",
        "\n",
        "        #  compute inverse-distance weighting for the influence (SO2 monitored observations) from nearby stations (spatial lags)\n",
        "\n",
        "        tem_dist['weighting'] = 1 / (tem_dist['distances'] / tem_dist['distances'].sum())\n",
        "        tem_dist['weighting'] = tem_dist['weighting'] / tem_dist['weighting'].sum()\n",
        "        tem_out_so2 = out_so2.merge(tem_dist, left_on = ['station_name','id_right'], right_on = ['station_name','id'], how=\"inner\")\n",
        "\n",
        "        if tem_leak.shape[0] > 0:\n",
        "            tem_out_so2['min_so2'] = tem_out_so2.apply(lambda x: x['min_so2'] if x['station_name'] != tem_leak['station_name'].values[0] else np.nan, axis=1)\n",
        "            tem_out_so2['mean_so2'] = tem_out_so2.apply(lambda x: x['mean_so2'] if x['station_name'] != tem_leak['station_name'].values[0] else np.nan, axis=1)\n",
        "            tem_out_so2['max_so2'] = tem_out_so2.apply(lambda x: x['max_so2'] if x['station_name'] != tem_leak['station_name'].values[0] else np.nan, axis=1)\n",
        "\n",
        "        for var in var_list:\n",
        "            tem_out_so2['weighted_' + var] = tem_out_so2[var] * tem_out_so2['weighting']\n",
        "\n",
        "        tem_out_so2_agg = tem_out_so2.groupby([\"day_time\"]).agg({k: [np.nansum] for k in ['weighted_' + x for x in var_list]}).reset_index()\n",
        "        tem_out_so2_agg.columns = [\"time\"] + ['weighted_' + x for x in var_list]\n",
        "\n",
        "        #  apply log-transformation to the SO2 data\n",
        "        #  apply exponential decay function by distance to the SO2 data, hence influence from stations farther away will diminish\n",
        "\n",
        "        for var in var_list:\n",
        "            tem_out_so2_agg['weighted_' + var] = np.log(tem_out_so2_agg['weighted_' + var] + 0.001)\n",
        "            tem_out_so2_agg['weighted_' + var] = tem_out_so2_agg['weighted_' + var] * np.exp(-1 * decay_factor * tem_dist['distances'].min())\n",
        "\n",
        "        tem_out_so2_agg['id'] = data['id'].drop_duplicates().iloc[n]\n",
        "\n",
        "        #  create temporal lags for monitored SO2 at local-grid station up to past 6 days\n",
        "\n",
        "        for lags in range(6):\n",
        "            tem_out_so2_agg['weighted_min_so2_lag_' + str(lags+1)] = tem_out_so2_agg['weighted_min_so2'].shift(lags+1)\n",
        "            tem_out_so2_agg['weighted_mean_so2_lag_' + str(lags+1)] = tem_out_so2_agg['weighted_mean_so2'].shift(lags+1)\n",
        "            tem_out_so2_agg['weighted_max_so2_lag_' + str(lags+1)] = tem_out_so2_agg['weighted_max_so2'].shift(lags+1)\n",
        "\n",
        "        tem_out_so2_agg = tem_out_so2_agg[tem_out_so2_agg['time'] >= datetime.datetime.date(datetime.datetime.strptime('2022-01-01', \"%Y-%m-%d\"))]\n",
        "\n",
        "        weighted_so2.append(tem_out_so2_agg)\n",
        "\n",
        "weighted_so2 = pd.concat(weighted_so2)\n",
        "\n",
        "data = data.merge(weighted_so2, on=['id','time'], how='left')"
      ]
    },
    {
      "cell_type": "code",
      "execution_count": null,
      "metadata": {
        "id": "GUhzW_1fWx28"
      },
      "outputs": [],
      "source": [
        "##  binary outcome variable for SO2-clean vs SO2-polluted days\n",
        "data['SO2_above_0'] = data['mean_so2'].apply(lambda x: 0 if x == 0 else 1)"
      ]
    },
    {
      "cell_type": "code",
      "execution_count": null,
      "metadata": {
        "colab": {
          "base_uri": "https://localhost:8080/"
        },
        "id": "NmOIIIX_W1HU",
        "outputId": "d4594700-5727-447c-921e-d80c91d68ff9"
      },
      "outputs": [
        {
          "data": {
            "text/plain": [
              "(8760, 360)"
            ]
          },
          "execution_count": 36,
          "metadata": {},
          "output_type": "execute_result"
        }
      ],
      "source": [
        "data.shape"
      ]
    },
    {
      "cell_type": "code",
      "execution_count": null,
      "metadata": {
        "id": "4A5dxx_Rrkz1"
      },
      "outputs": [],
      "source": [
        "def cross_validate_fit_binary_classification(model, X_train, y_train):\n",
        "\n",
        "    accuracy = []\n",
        "    precision = []\n",
        "    recall = []\n",
        "    f1score = []\n",
        "\n",
        "    kf = KFold(n_splits=10, random_state=42, shuffle=True)\n",
        "    for i, (train_index, test_index) in enumerate(kf.split(X_train)):\n",
        "        X_train_cv, y_train_cv = X_train[train_index], y_train.values[train_index]\n",
        "        X_test_cv, y_test_cv = X_train[test_index], y_train.values[test_index]\n",
        "\n",
        "        model.fit(X_train, y_train)\n",
        "\n",
        "        binary_preds_train = model.predict(X_train_cv)\n",
        "        binary_preds_test = model.predict(X_test_cv)\n",
        "\n",
        "        m1 = (accuracy_score(y_test_cv, binary_preds_test), accuracy_score(y_train_cv, binary_preds_train))\n",
        "        m2 = (precision_score(y_test_cv, binary_preds_test, average=\"weighted\"), precision_score(y_train_cv, binary_preds_train, average=\"weighted\"))\n",
        "        m3 = (recall_score(y_test_cv, binary_preds_test, average=\"weighted\"), recall_score(y_train_cv, binary_preds_train, average=\"weighted\"))\n",
        "        m4 = (f1_score(y_test_cv, binary_preds_test, average=\"weighted\"), f1_score(y_train_cv, binary_preds_train, average=\"weighted\"))\n",
        "\n",
        "        accuracy.append(m1)\n",
        "        precision.append(m2)\n",
        "        recall.append(m3)\n",
        "        f1score.append(m4)\n",
        "\n",
        "    return accuracy, precision, recall, f1score"
      ]
    },
    {
      "cell_type": "code",
      "execution_count": null,
      "metadata": {
        "id": "2xPS7RtbsYyr"
      },
      "outputs": [],
      "source": [
        "def cross_validate_fit_regression(model, X_train, y_train):\n",
        "\n",
        "    m1a, m2a, m3a, m4a, m5a, m6a, m7a = [], [], [], [], [], [], []\n",
        "    m1b, m2b, m3b, m4b, m5b, m6b, m7b = [], [], [], [], [], [], []\n",
        "\n",
        "    kf = KFold(n_splits=10, random_state=42, shuffle=True)\n",
        "    for i, (train_index, test_index) in enumerate(kf.split(X_train)):\n",
        "        X_train_cv, y_train_cv = X_train[train_index], y_train.values[train_index]\n",
        "        X_test_cv, y_test_cv = X_train[test_index], y_train.values[test_index]\n",
        "\n",
        "        model.fit(X_train, y_train)\n",
        "\n",
        "        gbmlogmean_preds_train = model.predict(X_train_cv)\n",
        "        gbmlogmean_preds_test = model.predict(X_test_cv)\n",
        "\n",
        "        print(\"Train R2: \" + str(r2_score(y_train_cv, gbmlogmean_preds_train)))\n",
        "        print(\"Train R: \" + str(scipy.stats.pearsonr(np.array(y_train_cv).flatten(), gbmlogmean_preds_train)[0]))\n",
        "        print(\"Train MAE: \" + str(mean_absolute_error(y_train_cv, gbmlogmean_preds_train)))\n",
        "        print(\"Train MedAE: \" + str(median_absolute_error(y_train_cv, gbmlogmean_preds_train)))\n",
        "        print(\"Train MAE (original): \" + str(mean_absolute_error(np.exp(y_train_cv) - 0.001, np.exp(gbmlogmean_preds_train) - 0.001)))\n",
        "        print(\"Train MedAE (original): \" + str(median_absolute_error(np.exp(y_train_cv) - 0.001, np.exp(gbmlogmean_preds_train) - 0.001)))\n",
        "        print(\"Train upper quartile (original): \" + str(np.quantile(abs(np.exp(y_train_cv) - np.exp(gbmlogmean_preds_train)), 0.75)))\n",
        "        print(\"\\n\")\n",
        "        print(\"Test R2: \" + str(r2_score(y_test_cv, gbmlogmean_preds_test)))\n",
        "        print(\"Test R: \" + str(scipy.stats.pearsonr(np.array(y_test_cv).flatten(), gbmlogmean_preds_test)[0]))\n",
        "        print(\"Test MAE: \" + str(mean_absolute_error(y_test_cv, gbmlogmean_preds_test)))\n",
        "        print(\"Test MedAE: \" + str(median_absolute_error(y_test_cv, gbmlogmean_preds_test)))\n",
        "        print(\"Test MAE (original): \" + str(mean_absolute_error(np.exp(y_test_cv) - 0.001, np.exp(gbmlogmean_preds_test) - 0.001)))\n",
        "        print(\"Test MedAE (original): \" + str(median_absolute_error(np.exp(y_test_cv) - 0.001, np.exp(gbmlogmean_preds_test) - 0.001)))\n",
        "        print(\"Test upper quartile (original): \" + str(np.quantile(abs(np.exp(y_test_cv) - np.exp(gbmlogmean_preds_test)), 0.75)))\n",
        "        print(\"\\n\")\n",
        "\n",
        "        m1a.append(r2_score(y_test_cv, gbmlogmean_preds_test))\n",
        "        m2a.append(scipy.stats.pearsonr(np.array(y_test_cv).flatten(), gbmlogmean_preds_test)[0])\n",
        "        m3a.append(mean_absolute_error(y_test_cv, gbmlogmean_preds_test))\n",
        "        m4a.append(median_absolute_error(y_test_cv, gbmlogmean_preds_test))\n",
        "        m5a.append(mean_absolute_error(np.exp(y_test_cv) - 0.001, np.exp(gbmlogmean_preds_test) - 0.001))\n",
        "        m6a.append(median_absolute_error(np.exp(y_test_cv) - 0.001, np.exp(gbmlogmean_preds_test) - 0.001))\n",
        "        m7a.append(np.quantile(abs(np.exp(y_test_cv) - np.exp(gbmlogmean_preds_test)), 0.75))\n",
        "\n",
        "        m1b.append(r2_score(y_train_cv, gbmlogmean_preds_train))\n",
        "        m2b.append(scipy.stats.pearsonr(np.array(y_train_cv).flatten(), gbmlogmean_preds_train)[0])\n",
        "        m3b.append(mean_absolute_error(y_train_cv, gbmlogmean_preds_train))\n",
        "        m4b.append(median_absolute_error(y_train_cv, gbmlogmean_preds_train))\n",
        "        m5b.append(mean_absolute_error(np.exp(y_train_cv) - 0.001, np.exp(gbmlogmean_preds_train) - 0.001))\n",
        "        m6b.append(median_absolute_error(np.exp(y_train_cv) - 0.001, np.exp(gbmlogmean_preds_train) - 0.001))\n",
        "        m7b.append(np.quantile(abs(np.exp(y_train_cv) - np.exp(gbmlogmean_preds_train)), 0.75))\n",
        "\n",
        "    return m1a, m2a, m3a, m4a, m5a, m6a, m7a, \\\n",
        "            m1b, m2b, m3b, m4b, m5b, m6b, m7b"
      ]
    },
    {
      "cell_type": "markdown",
      "metadata": {
        "id": "j9MDJIE7kApg"
      },
      "source": [
        "####  **CONTROL 1) Lasso Regression： only Meteorological and Land-Use Land-Cover features**"
      ]
    },
    {
      "cell_type": "markdown",
      "metadata": {
        "id": "CXfAYzsPq7To"
      },
      "source": [
        "#####  **Binary Classification (Cross-Validation):**"
      ]
    },
    {
      "cell_type": "code",
      "execution_count": null,
      "metadata": {
        "id": "VGNiAW6fkFut"
      },
      "outputs": [],
      "source": [
        "y = data['SO2_above_0']\n",
        "X = data.iloc[:,6:323]\n",
        "\n",
        "X_train, X_test, y_train, y_test = train_test_split(X, y, test_size=0.2, random_state=42, stratify=y)"
      ]
    },
    {
      "cell_type": "code",
      "execution_count": null,
      "metadata": {
        "id": "zPSXFAcWsLiq"
      },
      "outputs": [],
      "source": [
        "lasso_logistic = Pipeline([(\"imputer\", KNNImputer(n_neighbors=4, weights='uniform')),\n",
        "                           (\"regressor\", LogisticRegression(penalty='l1', solver='liblinear'))])\n",
        "\n",
        "accuracy, precision, recall, f1score = cross_validate_fit_binary_classification(lasso_logistic , X_train, y_train)"
      ]
    },
    {
      "cell_type": "code",
      "execution_count": null,
      "metadata": {
        "colab": {
          "base_uri": "https://localhost:8080/"
        },
        "id": "08YDnrebtDcG",
        "outputId": "a725e301-3141-4dde-f079-adf942547cf3"
      },
      "outputs": [
        {
          "name": "stdout",
          "output_type": "stream",
          "text": [
            "0.8296254330548198\n",
            "0.7984864869667627\n",
            "0.8296254330548198\n",
            "0.7980414422186178\n"
          ]
        }
      ],
      "source": [
        "print(np.mean([accuracy[n][0] for n in range(10)]))\n",
        "print(np.mean([precision[n][0] for n in range(10)]))\n",
        "print(np.mean([recall[n][0] for n in range(10)]))\n",
        "print(np.mean([f1score[n][0] for n in range(10)]))"
      ]
    },
    {
      "cell_type": "markdown",
      "metadata": {
        "id": "mpWP-SPNqOgX"
      },
      "source": [
        "#####  **Binary Classification (Training & Testing):**"
      ]
    },
    {
      "cell_type": "code",
      "execution_count": null,
      "metadata": {
        "colab": {
          "base_uri": "https://localhost:8080/",
          "height": 128
        },
        "id": "_XJg-kgEMwqU",
        "outputId": "f6cb0788-3d9e-4a81-9b2c-c28c3784d8c4"
      },
      "outputs": [
        {
          "data": {
            "text/html": [
              "<style>#sk-container-id-4 {color: black;}#sk-container-id-4 pre{padding: 0;}#sk-container-id-4 div.sk-toggleable {background-color: white;}#sk-container-id-4 label.sk-toggleable__label {cursor: pointer;display: block;width: 100%;margin-bottom: 0;padding: 0.3em;box-sizing: border-box;text-align: center;}#sk-container-id-4 label.sk-toggleable__label-arrow:before {content: \"▸\";float: left;margin-right: 0.25em;color: #696969;}#sk-container-id-4 label.sk-toggleable__label-arrow:hover:before {color: black;}#sk-container-id-4 div.sk-estimator:hover label.sk-toggleable__label-arrow:before {color: black;}#sk-container-id-4 div.sk-toggleable__content {max-height: 0;max-width: 0;overflow: hidden;text-align: left;background-color: #f0f8ff;}#sk-container-id-4 div.sk-toggleable__content pre {margin: 0.2em;color: black;border-radius: 0.25em;background-color: #f0f8ff;}#sk-container-id-4 input.sk-toggleable__control:checked~div.sk-toggleable__content {max-height: 200px;max-width: 100%;overflow: auto;}#sk-container-id-4 input.sk-toggleable__control:checked~label.sk-toggleable__label-arrow:before {content: \"▾\";}#sk-container-id-4 div.sk-estimator input.sk-toggleable__control:checked~label.sk-toggleable__label {background-color: #d4ebff;}#sk-container-id-4 div.sk-label input.sk-toggleable__control:checked~label.sk-toggleable__label {background-color: #d4ebff;}#sk-container-id-4 input.sk-hidden--visually {border: 0;clip: rect(1px 1px 1px 1px);clip: rect(1px, 1px, 1px, 1px);height: 1px;margin: -1px;overflow: hidden;padding: 0;position: absolute;width: 1px;}#sk-container-id-4 div.sk-estimator {font-family: monospace;background-color: #f0f8ff;border: 1px dotted black;border-radius: 0.25em;box-sizing: border-box;margin-bottom: 0.5em;}#sk-container-id-4 div.sk-estimator:hover {background-color: #d4ebff;}#sk-container-id-4 div.sk-parallel-item::after {content: \"\";width: 100%;border-bottom: 1px solid gray;flex-grow: 1;}#sk-container-id-4 div.sk-label:hover label.sk-toggleable__label {background-color: #d4ebff;}#sk-container-id-4 div.sk-serial::before {content: \"\";position: absolute;border-left: 1px solid gray;box-sizing: border-box;top: 0;bottom: 0;left: 50%;z-index: 0;}#sk-container-id-4 div.sk-serial {display: flex;flex-direction: column;align-items: center;background-color: white;padding-right: 0.2em;padding-left: 0.2em;position: relative;}#sk-container-id-4 div.sk-item {position: relative;z-index: 1;}#sk-container-id-4 div.sk-parallel {display: flex;align-items: stretch;justify-content: center;background-color: white;position: relative;}#sk-container-id-4 div.sk-item::before, #sk-container-id-4 div.sk-parallel-item::before {content: \"\";position: absolute;border-left: 1px solid gray;box-sizing: border-box;top: 0;bottom: 0;left: 50%;z-index: -1;}#sk-container-id-4 div.sk-parallel-item {display: flex;flex-direction: column;z-index: 1;position: relative;background-color: white;}#sk-container-id-4 div.sk-parallel-item:first-child::after {align-self: flex-end;width: 50%;}#sk-container-id-4 div.sk-parallel-item:last-child::after {align-self: flex-start;width: 50%;}#sk-container-id-4 div.sk-parallel-item:only-child::after {width: 0;}#sk-container-id-4 div.sk-dashed-wrapped {border: 1px dashed gray;margin: 0 0.4em 0.5em 0.4em;box-sizing: border-box;padding-bottom: 0.4em;background-color: white;}#sk-container-id-4 div.sk-label label {font-family: monospace;font-weight: bold;display: inline-block;line-height: 1.2em;}#sk-container-id-4 div.sk-label-container {text-align: center;}#sk-container-id-4 div.sk-container {/* jupyter's `normalize.less` sets `[hidden] { display: none; }` but bootstrap.min.css set `[hidden] { display: none !important; }` so we also need the `!important` here to be able to override the default hidden behavior on the sphinx rendered scikit-learn.org. See: https://github.com/scikit-learn/scikit-learn/issues/21755 */display: inline-block !important;position: relative;}#sk-container-id-4 div.sk-text-repr-fallback {display: none;}</style><div id=\"sk-container-id-4\" class=\"sk-top-container\"><div class=\"sk-text-repr-fallback\"><pre>Pipeline(steps=[(&#x27;imputer&#x27;, KNNImputer(n_neighbors=4)),\n",
              "                (&#x27;regressor&#x27;,\n",
              "                 LogisticRegression(penalty=&#x27;l1&#x27;, solver=&#x27;liblinear&#x27;))])</pre><b>In a Jupyter environment, please rerun this cell to show the HTML representation or trust the notebook. <br />On GitHub, the HTML representation is unable to render, please try loading this page with nbviewer.org.</b></div><div class=\"sk-container\" hidden><div class=\"sk-item sk-dashed-wrapped\"><div class=\"sk-label-container\"><div class=\"sk-label sk-toggleable\"><input class=\"sk-toggleable__control sk-hidden--visually\" id=\"sk-estimator-id-4\" type=\"checkbox\" ><label for=\"sk-estimator-id-4\" class=\"sk-toggleable__label sk-toggleable__label-arrow\">Pipeline</label><div class=\"sk-toggleable__content\"><pre>Pipeline(steps=[(&#x27;imputer&#x27;, KNNImputer(n_neighbors=4)),\n",
              "                (&#x27;regressor&#x27;,\n",
              "                 LogisticRegression(penalty=&#x27;l1&#x27;, solver=&#x27;liblinear&#x27;))])</pre></div></div></div><div class=\"sk-serial\"><div class=\"sk-item\"><div class=\"sk-estimator sk-toggleable\"><input class=\"sk-toggleable__control sk-hidden--visually\" id=\"sk-estimator-id-5\" type=\"checkbox\" ><label for=\"sk-estimator-id-5\" class=\"sk-toggleable__label sk-toggleable__label-arrow\">KNNImputer</label><div class=\"sk-toggleable__content\"><pre>KNNImputer(n_neighbors=4)</pre></div></div></div><div class=\"sk-item\"><div class=\"sk-estimator sk-toggleable\"><input class=\"sk-toggleable__control sk-hidden--visually\" id=\"sk-estimator-id-6\" type=\"checkbox\" ><label for=\"sk-estimator-id-6\" class=\"sk-toggleable__label sk-toggleable__label-arrow\">LogisticRegression</label><div class=\"sk-toggleable__content\"><pre>LogisticRegression(penalty=&#x27;l1&#x27;, solver=&#x27;liblinear&#x27;)</pre></div></div></div></div></div></div></div>"
            ],
            "text/plain": [
              "Pipeline(steps=[('imputer', KNNImputer(n_neighbors=4)),\n",
              "                ('regressor',\n",
              "                 LogisticRegression(penalty='l1', solver='liblinear'))])"
            ]
          },
          "execution_count": 44,
          "metadata": {},
          "output_type": "execute_result"
        }
      ],
      "source": [
        "lasso_logistic = Pipeline([(\"imputer\", KNNImputer(n_neighbors=4, weights='uniform')),\n",
        "                           (\"regressor\", LogisticRegression(penalty='l1', solver='liblinear'))])\n",
        "lasso_logistic.fit(X_train, y_train)"
      ]
    },
    {
      "cell_type": "code",
      "execution_count": null,
      "metadata": {
        "id": "w4HH3NAbMwqV"
      },
      "outputs": [],
      "source": [
        "lasso_logistic_preds_train = lasso_logistic.predict(X_train)\n",
        "lasso_logistic_preds_test = lasso_logistic.predict(X_test)"
      ]
    },
    {
      "cell_type": "code",
      "execution_count": null,
      "metadata": {
        "colab": {
          "base_uri": "https://localhost:8080/"
        },
        "id": "MaNusL_cNjp0",
        "outputId": "ac4d086c-9ba4-4580-a899-e775065dbfd2"
      },
      "outputs": [
        {
          "name": "stdout",
          "output_type": "stream",
          "text": [
            "              precision    recall  f1-score   support\n",
            "\n",
            "           0       0.56      0.22      0.32      1252\n",
            "           1       0.85      0.96      0.90      5756\n",
            "\n",
            "    accuracy                           0.83      7008\n",
            "   macro avg       0.71      0.59      0.61      7008\n",
            "weighted avg       0.80      0.83      0.80      7008\n",
            "\n"
          ]
        }
      ],
      "source": [
        "print(classification_report(y_train, lasso_logistic_preds_train))"
      ]
    },
    {
      "cell_type": "code",
      "execution_count": null,
      "metadata": {
        "colab": {
          "base_uri": "https://localhost:8080/"
        },
        "id": "1S3y_VQsNjp7",
        "outputId": "c823474e-d928-42f1-db2f-2b2f0c3a3cd6"
      },
      "outputs": [
        {
          "data": {
            "text/plain": [
              "array([[ 277,  975],\n",
              "       [ 215, 5541]])"
            ]
          },
          "execution_count": 65,
          "metadata": {},
          "output_type": "execute_result"
        }
      ],
      "source": [
        "confusion_matrix(y_train, lasso_logistic_preds_train)"
      ]
    },
    {
      "cell_type": "code",
      "execution_count": null,
      "metadata": {
        "colab": {
          "base_uri": "https://localhost:8080/"
        },
        "id": "OWqYDyUBNjp7",
        "outputId": "61854549-45b0-48f0-da95-1bdc0ba66c56"
      },
      "outputs": [
        {
          "name": "stdout",
          "output_type": "stream",
          "text": [
            "              precision    recall  f1-score   support\n",
            "\n",
            "           0       0.51      0.19      0.28       313\n",
            "           1       0.84      0.96      0.90      1439\n",
            "\n",
            "    accuracy                           0.82      1752\n",
            "   macro avg       0.68      0.57      0.59      1752\n",
            "weighted avg       0.79      0.82      0.79      1752\n",
            "\n"
          ]
        }
      ],
      "source": [
        "print(classification_report(y_test, lasso_logistic_preds_test))"
      ]
    },
    {
      "cell_type": "code",
      "execution_count": null,
      "metadata": {
        "colab": {
          "base_uri": "https://localhost:8080/"
        },
        "id": "7yCTbQpNNjp7",
        "outputId": "9d1b2fbb-5c70-4bbd-911e-67db02ca3f37"
      },
      "outputs": [
        {
          "data": {
            "text/plain": [
              "array([[  59,  254],\n",
              "       [  56, 1383]])"
            ]
          },
          "execution_count": 67,
          "metadata": {},
          "output_type": "execute_result"
        }
      ],
      "source": [
        "confusion_matrix(y_test, lasso_logistic_preds_test)"
      ]
    },
    {
      "cell_type": "markdown",
      "metadata": {
        "id": "1YJvrgXztMg0"
      },
      "source": [
        "#####  **Daily Mean SO2 Regression (Cross-Validation):**"
      ]
    },
    {
      "cell_type": "code",
      "execution_count": null,
      "metadata": {
        "id": "Xyk8fnssnKb5"
      },
      "outputs": [],
      "source": [
        "endog = np.log(data[data['SO2_above_0'] == 1]['mean_so2'] + 0.001)\n",
        "scaler = StandardScaler().fit(data[data['SO2_above_0'] == 1].iloc[:,6:318])\n",
        "exog = np.concatenate((\n",
        "        scaler.transform(data[data['SO2_above_0'] == 1].iloc[:,6:318]),\n",
        "        data[data['SO2_above_0'] == 1].iloc[:,318:323],\n",
        "), axis = 1)\n",
        "group = data[data['SO2_above_0'] == 1]['id']\n",
        "\n",
        "X_train, X_test, y_train, y_test = train_test_split(exog, endog, test_size=0.2, random_state=42, stratify=group)"
      ]
    },
    {
      "cell_type": "code",
      "execution_count": null,
      "metadata": {
        "id": "RTHChnlez1iK"
      },
      "outputs": [],
      "source": [
        "lasso_log_mean = Pipeline([(\"imputer\", KNNImputer(n_neighbors=8, weights='uniform')),\n",
        "                           (\"regressor\", Lasso(alpha=0.1, max_iter=6000, tol=0.00001))])\n",
        "\n",
        "m1a, m2a, m3a, m4a, m5a, m6a, m7a, \\\n",
        "  m1b, m2b, m3b, m4b, m5b, m6b, m7b = cross_validate_fit_regression(lasso_log_mean , X_train, y_train)"
      ]
    },
    {
      "cell_type": "code",
      "execution_count": null,
      "metadata": {
        "colab": {
          "base_uri": "https://localhost:8080/"
        },
        "id": "1S3TE4eq819z",
        "outputId": "5198f992-e655-44e3-c1b2-565fde9259fd"
      },
      "outputs": [
        {
          "name": "stdout",
          "output_type": "stream",
          "text": [
            "R2: 0.1507482451810397\n",
            "r: 0.4087495253880659\n",
            "MAE: 1.1163779408479935\n",
            "MedAE: 0.8300251010593171\n",
            "MAE (original): 0.8148962207142929\n",
            "MedAE (original): 0.19921558668536882\n",
            "upper quartile (original): 0.44838283068481777\n"
          ]
        }
      ],
      "source": [
        "print(\"R2: \" + str(np.mean(m1a)))\n",
        "print(\"r: \" + str(np.mean(m2a)))\n",
        "print(\"MAE: \" + str(np.mean(m3a)))\n",
        "print(\"MedAE: \" + str(np.mean(m4a)))\n",
        "print(\"MAE (original): \" + str(np.mean(m5a)))\n",
        "print(\"MedAE (original): \" + str(np.mean(m6a)))\n",
        "print(\"upper quartile (original): \" + str(np.mean(m7a)))"
      ]
    },
    {
      "cell_type": "markdown",
      "metadata": {
        "id": "CHIx_RwXtT3i"
      },
      "source": [
        "#####  **Daily Mean SO2 Regression (Training & Testing):**"
      ]
    },
    {
      "cell_type": "code",
      "execution_count": null,
      "metadata": {
        "colab": {
          "base_uri": "https://localhost:8080/",
          "height": 145
        },
        "id": "OPZpSFGB0_lo",
        "outputId": "a6dfda1e-c13a-4bcc-bfb9-0634642cc7cc"
      },
      "outputs": [
        {
          "data": {
            "text/html": [
              "<style>#sk-container-id-1 {\n",
              "  /* Definition of color scheme common for light and dark mode */\n",
              "  --sklearn-color-text: black;\n",
              "  --sklearn-color-line: gray;\n",
              "  /* Definition of color scheme for unfitted estimators */\n",
              "  --sklearn-color-unfitted-level-0: #fff5e6;\n",
              "  --sklearn-color-unfitted-level-1: #f6e4d2;\n",
              "  --sklearn-color-unfitted-level-2: #ffe0b3;\n",
              "  --sklearn-color-unfitted-level-3: chocolate;\n",
              "  /* Definition of color scheme for fitted estimators */\n",
              "  --sklearn-color-fitted-level-0: #f0f8ff;\n",
              "  --sklearn-color-fitted-level-1: #d4ebff;\n",
              "  --sklearn-color-fitted-level-2: #b3dbfd;\n",
              "  --sklearn-color-fitted-level-3: cornflowerblue;\n",
              "\n",
              "  /* Specific color for light theme */\n",
              "  --sklearn-color-text-on-default-background: var(--sg-text-color, var(--theme-code-foreground, var(--jp-content-font-color1, black)));\n",
              "  --sklearn-color-background: var(--sg-background-color, var(--theme-background, var(--jp-layout-color0, white)));\n",
              "  --sklearn-color-border-box: var(--sg-text-color, var(--theme-code-foreground, var(--jp-content-font-color1, black)));\n",
              "  --sklearn-color-icon: #696969;\n",
              "\n",
              "  @media (prefers-color-scheme: dark) {\n",
              "    /* Redefinition of color scheme for dark theme */\n",
              "    --sklearn-color-text-on-default-background: var(--sg-text-color, var(--theme-code-foreground, var(--jp-content-font-color1, white)));\n",
              "    --sklearn-color-background: var(--sg-background-color, var(--theme-background, var(--jp-layout-color0, #111)));\n",
              "    --sklearn-color-border-box: var(--sg-text-color, var(--theme-code-foreground, var(--jp-content-font-color1, white)));\n",
              "    --sklearn-color-icon: #878787;\n",
              "  }\n",
              "}\n",
              "\n",
              "#sk-container-id-1 {\n",
              "  color: var(--sklearn-color-text);\n",
              "}\n",
              "\n",
              "#sk-container-id-1 pre {\n",
              "  padding: 0;\n",
              "}\n",
              "\n",
              "#sk-container-id-1 input.sk-hidden--visually {\n",
              "  border: 0;\n",
              "  clip: rect(1px 1px 1px 1px);\n",
              "  clip: rect(1px, 1px, 1px, 1px);\n",
              "  height: 1px;\n",
              "  margin: -1px;\n",
              "  overflow: hidden;\n",
              "  padding: 0;\n",
              "  position: absolute;\n",
              "  width: 1px;\n",
              "}\n",
              "\n",
              "#sk-container-id-1 div.sk-dashed-wrapped {\n",
              "  border: 1px dashed var(--sklearn-color-line);\n",
              "  margin: 0 0.4em 0.5em 0.4em;\n",
              "  box-sizing: border-box;\n",
              "  padding-bottom: 0.4em;\n",
              "  background-color: var(--sklearn-color-background);\n",
              "}\n",
              "\n",
              "#sk-container-id-1 div.sk-container {\n",
              "  /* jupyter's `normalize.less` sets `[hidden] { display: none; }`\n",
              "     but bootstrap.min.css set `[hidden] { display: none !important; }`\n",
              "     so we also need the `!important` here to be able to override the\n",
              "     default hidden behavior on the sphinx rendered scikit-learn.org.\n",
              "     See: https://github.com/scikit-learn/scikit-learn/issues/21755 */\n",
              "  display: inline-block !important;\n",
              "  position: relative;\n",
              "}\n",
              "\n",
              "#sk-container-id-1 div.sk-text-repr-fallback {\n",
              "  display: none;\n",
              "}\n",
              "\n",
              "div.sk-parallel-item,\n",
              "div.sk-serial,\n",
              "div.sk-item {\n",
              "  /* draw centered vertical line to link estimators */\n",
              "  background-image: linear-gradient(var(--sklearn-color-text-on-default-background), var(--sklearn-color-text-on-default-background));\n",
              "  background-size: 2px 100%;\n",
              "  background-repeat: no-repeat;\n",
              "  background-position: center center;\n",
              "}\n",
              "\n",
              "/* Parallel-specific style estimator block */\n",
              "\n",
              "#sk-container-id-1 div.sk-parallel-item::after {\n",
              "  content: \"\";\n",
              "  width: 100%;\n",
              "  border-bottom: 2px solid var(--sklearn-color-text-on-default-background);\n",
              "  flex-grow: 1;\n",
              "}\n",
              "\n",
              "#sk-container-id-1 div.sk-parallel {\n",
              "  display: flex;\n",
              "  align-items: stretch;\n",
              "  justify-content: center;\n",
              "  background-color: var(--sklearn-color-background);\n",
              "  position: relative;\n",
              "}\n",
              "\n",
              "#sk-container-id-1 div.sk-parallel-item {\n",
              "  display: flex;\n",
              "  flex-direction: column;\n",
              "}\n",
              "\n",
              "#sk-container-id-1 div.sk-parallel-item:first-child::after {\n",
              "  align-self: flex-end;\n",
              "  width: 50%;\n",
              "}\n",
              "\n",
              "#sk-container-id-1 div.sk-parallel-item:last-child::after {\n",
              "  align-self: flex-start;\n",
              "  width: 50%;\n",
              "}\n",
              "\n",
              "#sk-container-id-1 div.sk-parallel-item:only-child::after {\n",
              "  width: 0;\n",
              "}\n",
              "\n",
              "/* Serial-specific style estimator block */\n",
              "\n",
              "#sk-container-id-1 div.sk-serial {\n",
              "  display: flex;\n",
              "  flex-direction: column;\n",
              "  align-items: center;\n",
              "  background-color: var(--sklearn-color-background);\n",
              "  padding-right: 1em;\n",
              "  padding-left: 1em;\n",
              "}\n",
              "\n",
              "\n",
              "/* Toggleable style: style used for estimator/Pipeline/ColumnTransformer box that is\n",
              "clickable and can be expanded/collapsed.\n",
              "- Pipeline and ColumnTransformer use this feature and define the default style\n",
              "- Estimators will overwrite some part of the style using the `sk-estimator` class\n",
              "*/\n",
              "\n",
              "/* Pipeline and ColumnTransformer style (default) */\n",
              "\n",
              "#sk-container-id-1 div.sk-toggleable {\n",
              "  /* Default theme specific background. It is overwritten whether we have a\n",
              "  specific estimator or a Pipeline/ColumnTransformer */\n",
              "  background-color: var(--sklearn-color-background);\n",
              "}\n",
              "\n",
              "/* Toggleable label */\n",
              "#sk-container-id-1 label.sk-toggleable__label {\n",
              "  cursor: pointer;\n",
              "  display: block;\n",
              "  width: 100%;\n",
              "  margin-bottom: 0;\n",
              "  padding: 0.5em;\n",
              "  box-sizing: border-box;\n",
              "  text-align: center;\n",
              "}\n",
              "\n",
              "#sk-container-id-1 label.sk-toggleable__label-arrow:before {\n",
              "  /* Arrow on the left of the label */\n",
              "  content: \"▸\";\n",
              "  float: left;\n",
              "  margin-right: 0.25em;\n",
              "  color: var(--sklearn-color-icon);\n",
              "}\n",
              "\n",
              "#sk-container-id-1 label.sk-toggleable__label-arrow:hover:before {\n",
              "  color: var(--sklearn-color-text);\n",
              "}\n",
              "\n",
              "/* Toggleable content - dropdown */\n",
              "\n",
              "#sk-container-id-1 div.sk-toggleable__content {\n",
              "  max-height: 0;\n",
              "  max-width: 0;\n",
              "  overflow: hidden;\n",
              "  text-align: left;\n",
              "  /* unfitted */\n",
              "  background-color: var(--sklearn-color-unfitted-level-0);\n",
              "}\n",
              "\n",
              "#sk-container-id-1 div.sk-toggleable__content.fitted {\n",
              "  /* fitted */\n",
              "  background-color: var(--sklearn-color-fitted-level-0);\n",
              "}\n",
              "\n",
              "#sk-container-id-1 div.sk-toggleable__content pre {\n",
              "  margin: 0.2em;\n",
              "  border-radius: 0.25em;\n",
              "  color: var(--sklearn-color-text);\n",
              "  /* unfitted */\n",
              "  background-color: var(--sklearn-color-unfitted-level-0);\n",
              "}\n",
              "\n",
              "#sk-container-id-1 div.sk-toggleable__content.fitted pre {\n",
              "  /* unfitted */\n",
              "  background-color: var(--sklearn-color-fitted-level-0);\n",
              "}\n",
              "\n",
              "#sk-container-id-1 input.sk-toggleable__control:checked~div.sk-toggleable__content {\n",
              "  /* Expand drop-down */\n",
              "  max-height: 200px;\n",
              "  max-width: 100%;\n",
              "  overflow: auto;\n",
              "}\n",
              "\n",
              "#sk-container-id-1 input.sk-toggleable__control:checked~label.sk-toggleable__label-arrow:before {\n",
              "  content: \"▾\";\n",
              "}\n",
              "\n",
              "/* Pipeline/ColumnTransformer-specific style */\n",
              "\n",
              "#sk-container-id-1 div.sk-label input.sk-toggleable__control:checked~label.sk-toggleable__label {\n",
              "  color: var(--sklearn-color-text);\n",
              "  background-color: var(--sklearn-color-unfitted-level-2);\n",
              "}\n",
              "\n",
              "#sk-container-id-1 div.sk-label.fitted input.sk-toggleable__control:checked~label.sk-toggleable__label {\n",
              "  background-color: var(--sklearn-color-fitted-level-2);\n",
              "}\n",
              "\n",
              "/* Estimator-specific style */\n",
              "\n",
              "/* Colorize estimator box */\n",
              "#sk-container-id-1 div.sk-estimator input.sk-toggleable__control:checked~label.sk-toggleable__label {\n",
              "  /* unfitted */\n",
              "  background-color: var(--sklearn-color-unfitted-level-2);\n",
              "}\n",
              "\n",
              "#sk-container-id-1 div.sk-estimator.fitted input.sk-toggleable__control:checked~label.sk-toggleable__label {\n",
              "  /* fitted */\n",
              "  background-color: var(--sklearn-color-fitted-level-2);\n",
              "}\n",
              "\n",
              "#sk-container-id-1 div.sk-label label.sk-toggleable__label,\n",
              "#sk-container-id-1 div.sk-label label {\n",
              "  /* The background is the default theme color */\n",
              "  color: var(--sklearn-color-text-on-default-background);\n",
              "}\n",
              "\n",
              "/* On hover, darken the color of the background */\n",
              "#sk-container-id-1 div.sk-label:hover label.sk-toggleable__label {\n",
              "  color: var(--sklearn-color-text);\n",
              "  background-color: var(--sklearn-color-unfitted-level-2);\n",
              "}\n",
              "\n",
              "/* Label box, darken color on hover, fitted */\n",
              "#sk-container-id-1 div.sk-label.fitted:hover label.sk-toggleable__label.fitted {\n",
              "  color: var(--sklearn-color-text);\n",
              "  background-color: var(--sklearn-color-fitted-level-2);\n",
              "}\n",
              "\n",
              "/* Estimator label */\n",
              "\n",
              "#sk-container-id-1 div.sk-label label {\n",
              "  font-family: monospace;\n",
              "  font-weight: bold;\n",
              "  display: inline-block;\n",
              "  line-height: 1.2em;\n",
              "}\n",
              "\n",
              "#sk-container-id-1 div.sk-label-container {\n",
              "  text-align: center;\n",
              "}\n",
              "\n",
              "/* Estimator-specific */\n",
              "#sk-container-id-1 div.sk-estimator {\n",
              "  font-family: monospace;\n",
              "  border: 1px dotted var(--sklearn-color-border-box);\n",
              "  border-radius: 0.25em;\n",
              "  box-sizing: border-box;\n",
              "  margin-bottom: 0.5em;\n",
              "  /* unfitted */\n",
              "  background-color: var(--sklearn-color-unfitted-level-0);\n",
              "}\n",
              "\n",
              "#sk-container-id-1 div.sk-estimator.fitted {\n",
              "  /* fitted */\n",
              "  background-color: var(--sklearn-color-fitted-level-0);\n",
              "}\n",
              "\n",
              "/* on hover */\n",
              "#sk-container-id-1 div.sk-estimator:hover {\n",
              "  /* unfitted */\n",
              "  background-color: var(--sklearn-color-unfitted-level-2);\n",
              "}\n",
              "\n",
              "#sk-container-id-1 div.sk-estimator.fitted:hover {\n",
              "  /* fitted */\n",
              "  background-color: var(--sklearn-color-fitted-level-2);\n",
              "}\n",
              "\n",
              "/* Specification for estimator info (e.g. \"i\" and \"?\") */\n",
              "\n",
              "/* Common style for \"i\" and \"?\" */\n",
              "\n",
              ".sk-estimator-doc-link,\n",
              "a:link.sk-estimator-doc-link,\n",
              "a:visited.sk-estimator-doc-link {\n",
              "  float: right;\n",
              "  font-size: smaller;\n",
              "  line-height: 1em;\n",
              "  font-family: monospace;\n",
              "  background-color: var(--sklearn-color-background);\n",
              "  border-radius: 1em;\n",
              "  height: 1em;\n",
              "  width: 1em;\n",
              "  text-decoration: none !important;\n",
              "  margin-left: 1ex;\n",
              "  /* unfitted */\n",
              "  border: var(--sklearn-color-unfitted-level-1) 1pt solid;\n",
              "  color: var(--sklearn-color-unfitted-level-1);\n",
              "}\n",
              "\n",
              ".sk-estimator-doc-link.fitted,\n",
              "a:link.sk-estimator-doc-link.fitted,\n",
              "a:visited.sk-estimator-doc-link.fitted {\n",
              "  /* fitted */\n",
              "  border: var(--sklearn-color-fitted-level-1) 1pt solid;\n",
              "  color: var(--sklearn-color-fitted-level-1);\n",
              "}\n",
              "\n",
              "/* On hover */\n",
              "div.sk-estimator:hover .sk-estimator-doc-link:hover,\n",
              ".sk-estimator-doc-link:hover,\n",
              "div.sk-label-container:hover .sk-estimator-doc-link:hover,\n",
              ".sk-estimator-doc-link:hover {\n",
              "  /* unfitted */\n",
              "  background-color: var(--sklearn-color-unfitted-level-3);\n",
              "  color: var(--sklearn-color-background);\n",
              "  text-decoration: none;\n",
              "}\n",
              "\n",
              "div.sk-estimator.fitted:hover .sk-estimator-doc-link.fitted:hover,\n",
              ".sk-estimator-doc-link.fitted:hover,\n",
              "div.sk-label-container:hover .sk-estimator-doc-link.fitted:hover,\n",
              ".sk-estimator-doc-link.fitted:hover {\n",
              "  /* fitted */\n",
              "  background-color: var(--sklearn-color-fitted-level-3);\n",
              "  color: var(--sklearn-color-background);\n",
              "  text-decoration: none;\n",
              "}\n",
              "\n",
              "/* Span, style for the box shown on hovering the info icon */\n",
              ".sk-estimator-doc-link span {\n",
              "  display: none;\n",
              "  z-index: 9999;\n",
              "  position: relative;\n",
              "  font-weight: normal;\n",
              "  right: .2ex;\n",
              "  padding: .5ex;\n",
              "  margin: .5ex;\n",
              "  width: min-content;\n",
              "  min-width: 20ex;\n",
              "  max-width: 50ex;\n",
              "  color: var(--sklearn-color-text);\n",
              "  box-shadow: 2pt 2pt 4pt #999;\n",
              "  /* unfitted */\n",
              "  background: var(--sklearn-color-unfitted-level-0);\n",
              "  border: .5pt solid var(--sklearn-color-unfitted-level-3);\n",
              "}\n",
              "\n",
              ".sk-estimator-doc-link.fitted span {\n",
              "  /* fitted */\n",
              "  background: var(--sklearn-color-fitted-level-0);\n",
              "  border: var(--sklearn-color-fitted-level-3);\n",
              "}\n",
              "\n",
              ".sk-estimator-doc-link:hover span {\n",
              "  display: block;\n",
              "}\n",
              "\n",
              "/* \"?\"-specific style due to the `<a>` HTML tag */\n",
              "\n",
              "#sk-container-id-1 a.estimator_doc_link {\n",
              "  float: right;\n",
              "  font-size: 1rem;\n",
              "  line-height: 1em;\n",
              "  font-family: monospace;\n",
              "  background-color: var(--sklearn-color-background);\n",
              "  border-radius: 1rem;\n",
              "  height: 1rem;\n",
              "  width: 1rem;\n",
              "  text-decoration: none;\n",
              "  /* unfitted */\n",
              "  color: var(--sklearn-color-unfitted-level-1);\n",
              "  border: var(--sklearn-color-unfitted-level-1) 1pt solid;\n",
              "}\n",
              "\n",
              "#sk-container-id-1 a.estimator_doc_link.fitted {\n",
              "  /* fitted */\n",
              "  border: var(--sklearn-color-fitted-level-1) 1pt solid;\n",
              "  color: var(--sklearn-color-fitted-level-1);\n",
              "}\n",
              "\n",
              "/* On hover */\n",
              "#sk-container-id-1 a.estimator_doc_link:hover {\n",
              "  /* unfitted */\n",
              "  background-color: var(--sklearn-color-unfitted-level-3);\n",
              "  color: var(--sklearn-color-background);\n",
              "  text-decoration: none;\n",
              "}\n",
              "\n",
              "#sk-container-id-1 a.estimator_doc_link.fitted:hover {\n",
              "  /* fitted */\n",
              "  background-color: var(--sklearn-color-fitted-level-3);\n",
              "}\n",
              "</style><div id=\"sk-container-id-1\" class=\"sk-top-container\"><div class=\"sk-text-repr-fallback\"><pre>Pipeline(steps=[(&#x27;imputer&#x27;, KNNImputer(n_neighbors=8)),\n",
              "                (&#x27;regressor&#x27;, Lasso(alpha=0.1, max_iter=6000, tol=1e-05))])</pre><b>In a Jupyter environment, please rerun this cell to show the HTML representation or trust the notebook. <br />On GitHub, the HTML representation is unable to render, please try loading this page with nbviewer.org.</b></div><div class=\"sk-container\" hidden><div class=\"sk-item sk-dashed-wrapped\"><div class=\"sk-label-container\"><div class=\"sk-label fitted sk-toggleable\"><input class=\"sk-toggleable__control sk-hidden--visually\" id=\"sk-estimator-id-1\" type=\"checkbox\" ><label for=\"sk-estimator-id-1\" class=\"sk-toggleable__label fitted sk-toggleable__label-arrow fitted\">&nbsp;&nbsp;Pipeline<a class=\"sk-estimator-doc-link fitted\" rel=\"noreferrer\" target=\"_blank\" href=\"https://scikit-learn.org/1.5/modules/generated/sklearn.pipeline.Pipeline.html\">?<span>Documentation for Pipeline</span></a><span class=\"sk-estimator-doc-link fitted\">i<span>Fitted</span></span></label><div class=\"sk-toggleable__content fitted\"><pre>Pipeline(steps=[(&#x27;imputer&#x27;, KNNImputer(n_neighbors=8)),\n",
              "                (&#x27;regressor&#x27;, Lasso(alpha=0.1, max_iter=6000, tol=1e-05))])</pre></div> </div></div><div class=\"sk-serial\"><div class=\"sk-item\"><div class=\"sk-estimator fitted sk-toggleable\"><input class=\"sk-toggleable__control sk-hidden--visually\" id=\"sk-estimator-id-2\" type=\"checkbox\" ><label for=\"sk-estimator-id-2\" class=\"sk-toggleable__label fitted sk-toggleable__label-arrow fitted\">&nbsp;KNNImputer<a class=\"sk-estimator-doc-link fitted\" rel=\"noreferrer\" target=\"_blank\" href=\"https://scikit-learn.org/1.5/modules/generated/sklearn.impute.KNNImputer.html\">?<span>Documentation for KNNImputer</span></a></label><div class=\"sk-toggleable__content fitted\"><pre>KNNImputer(n_neighbors=8)</pre></div> </div></div><div class=\"sk-item\"><div class=\"sk-estimator fitted sk-toggleable\"><input class=\"sk-toggleable__control sk-hidden--visually\" id=\"sk-estimator-id-3\" type=\"checkbox\" ><label for=\"sk-estimator-id-3\" class=\"sk-toggleable__label fitted sk-toggleable__label-arrow fitted\">&nbsp;Lasso<a class=\"sk-estimator-doc-link fitted\" rel=\"noreferrer\" target=\"_blank\" href=\"https://scikit-learn.org/1.5/modules/generated/sklearn.linear_model.Lasso.html\">?<span>Documentation for Lasso</span></a></label><div class=\"sk-toggleable__content fitted\"><pre>Lasso(alpha=0.1, max_iter=6000, tol=1e-05)</pre></div> </div></div></div></div></div></div>"
            ],
            "text/plain": [
              "Pipeline(steps=[('imputer', KNNImputer(n_neighbors=8)),\n",
              "                ('regressor', Lasso(alpha=0.1, max_iter=6000, tol=1e-05))])"
            ]
          },
          "execution_count": 23,
          "metadata": {},
          "output_type": "execute_result"
        }
      ],
      "source": [
        "lasso_log_mean = Pipeline([(\"imputer\", KNNImputer(n_neighbors=8, weights='uniform')),\n",
        "                           (\"regressor\", Lasso(alpha=0.1, max_iter=6000, tol=0.00001))])\n",
        "lasso_log_mean.fit(X_train, y_train)"
      ]
    },
    {
      "cell_type": "code",
      "execution_count": null,
      "metadata": {
        "id": "5d4Eemkn1Bb6"
      },
      "outputs": [],
      "source": [
        "lasso_log_mean_preds_train = lasso_log_mean.predict(X_train)\n",
        "lasso_log_mean_preds_test = lasso_log_mean.predict(X_test)"
      ]
    },
    {
      "cell_type": "code",
      "execution_count": null,
      "metadata": {
        "colab": {
          "base_uri": "https://localhost:8080/"
        },
        "id": "RN1T2yE_1C1S",
        "outputId": "690b626b-e363-46e7-dcd0-13c05d3a6cfb"
      },
      "outputs": [
        {
          "name": "stdout",
          "output_type": "stream",
          "text": [
            "Train R2: 0.15287259024661226\n",
            "Train R: 0.4082265723661725\n",
            "Train MSE: 2.20332378995343\n",
            "Train MAE: 1.116357074280986\n",
            "Train MedAE: 0.825328037950469\n",
            "Train MSE (original): 5.557832202033876\n",
            "Train MAE (original): 0.8148530130611585\n",
            "Train MedAE (original): 0.19907016638564629\n",
            "Train upper quartile (original): 0.4410981743743934\n",
            "\n",
            "\n",
            "Test R2: 0.14348321663067753\n",
            "Test R: 0.39574849226318876\n",
            "Test MSE: 2.3200010940964138\n",
            "Test MAE: 1.1526888979525207\n",
            "Test MedAE: 0.8352462067136561\n",
            "Test MSE (original): 5.566119896817452\n",
            "Test MAE (original): 0.8057819017377825\n",
            "Test MedAE (original): 0.19104292506727247\n",
            "Test upper quartile (original): 0.42555740525776237\n"
          ]
        }
      ],
      "source": [
        "print(\"Train R2: \" + str(r2_score(y_train, lasso_log_mean_preds_train)))\n",
        "print(\"Train R: \" + str(scipy.stats.pearsonr(np.array(y_train).flatten(), lasso_log_mean_preds_train)[0]))\n",
        "print(\"Train MSE: \" + str(mean_squared_error(y_train, lasso_log_mean_preds_train)))\n",
        "print(\"Train MAE: \" + str(mean_absolute_error(y_train, lasso_log_mean_preds_train)))\n",
        "print(\"Train MedAE: \" + str(median_absolute_error(y_train, lasso_log_mean_preds_train)))\n",
        "print(\"Train MSE (original): \" + str(mean_squared_error(np.exp(y_train) - 0.001, np.exp(lasso_log_mean_preds_train) - 0.001)))\n",
        "print(\"Train MAE (original): \" + str(mean_absolute_error(np.exp(y_train) - 0.001, np.exp(lasso_log_mean_preds_train) - 0.001)))\n",
        "print(\"Train MedAE (original): \" + str(median_absolute_error(np.exp(y_train) - 0.001, np.exp(lasso_log_mean_preds_train) - 0.001)))\n",
        "print(\"Train upper quartile (original): \" + str(np.quantile(abs(np.exp(y_train) - np.exp(lasso_log_mean_preds_train)), 0.75)))\n",
        "print(\"\\n\")\n",
        "print(\"Test R2: \" + str(r2_score(y_test, lasso_log_mean_preds_test)))\n",
        "print(\"Test R: \" + str(scipy.stats.pearsonr(np.array(y_test).flatten(), lasso_log_mean_preds_test)[0]))\n",
        "print(\"Test MSE: \" + str(mean_squared_error(y_test, lasso_log_mean_preds_test)))\n",
        "print(\"Test MAE: \" + str(mean_absolute_error(y_test, lasso_log_mean_preds_test)))\n",
        "print(\"Test MedAE: \" + str(median_absolute_error(y_test, lasso_log_mean_preds_test)))\n",
        "print(\"Test MSE (original): \" + str(mean_squared_error(np.exp(y_test) - 0.001, np.exp(lasso_log_mean_preds_test) - 0.001)))\n",
        "print(\"Test MAE (original): \" + str(mean_absolute_error(np.exp(y_test) - 0.001, np.exp(lasso_log_mean_preds_test) - 0.001)))\n",
        "print(\"Test MedAE (original): \" + str(median_absolute_error(np.exp(y_test) - 0.001, np.exp(lasso_log_mean_preds_test) - 0.001)))\n",
        "print(\"Test upper quartile (original): \" + str(np.quantile(abs(np.exp(y_test) - np.exp(lasso_log_mean_preds_test)), 0.75)))"
      ]
    },
    {
      "cell_type": "markdown",
      "metadata": {
        "id": "MBv8Fjad1q-k"
      },
      "source": [
        "#####  **Daily Max SO2 Regression (Cross-Validation):**"
      ]
    },
    {
      "cell_type": "code",
      "execution_count": null,
      "metadata": {
        "id": "8LK89zg44h0j"
      },
      "outputs": [],
      "source": [
        "endog = np.log(data[data['SO2_above_0'] == 1]['max_so2'] + 0.001)\n",
        "scaler = StandardScaler().fit(data[data['SO2_above_0'] == 1].iloc[:,6:318])\n",
        "exog = np.concatenate((\n",
        "        scaler.transform(data[data['SO2_above_0'] == 1].iloc[:,6:318]),\n",
        "        data[data['SO2_above_0'] == 1].iloc[:,318:323],\n",
        "), axis = 1)\n",
        "group = data[data['SO2_above_0'] == 1]['id']\n",
        "\n",
        "X_train, X_test, y_train, y_test = train_test_split(exog, endog, test_size=0.2, random_state=42, stratify=group)"
      ]
    },
    {
      "cell_type": "code",
      "execution_count": null,
      "metadata": {
        "id": "gKSXQ1O01q-l"
      },
      "outputs": [],
      "source": [
        "lasso_log_max = Pipeline([(\"imputer\", KNNImputer(n_neighbors=8, weights='uniform')),\n",
        "                           (\"regressor\", Lasso(alpha=0.1, max_iter=6000, tol=0.00001))])\n",
        "\n",
        "m1a, m2a, m3a, m4a, m5a, m6a, m7a, \\\n",
        "  m1b, m2b, m3b, m4b, m5b, m6b, m7b = cross_validate_fit_regression(lasso_log_max , X_train, y_train)"
      ]
    },
    {
      "cell_type": "code",
      "execution_count": null,
      "metadata": {
        "colab": {
          "base_uri": "https://localhost:8080/"
        },
        "id": "xhqpx4OW-Y-r",
        "outputId": "df227a99-4734-405a-e2bc-429855d0b0d3"
      },
      "outputs": [
        {
          "name": "stdout",
          "output_type": "stream",
          "text": [
            "R2: 0.13863163485599114\n",
            "r: 0.39582351829566825\n",
            "MAE: 1.137750330270834\n",
            "MedAE: 0.9855915915487634\n",
            "MAE (original): 3.6180353457139276\n",
            "MedAE (original): 0.8361312318641596\n",
            "upper quartile (original): 2.1003414300845376\n"
          ]
        }
      ],
      "source": [
        "print(\"R2: \" + str(np.mean(m1a)))\n",
        "print(\"r: \" + str(np.mean(m2a)))\n",
        "print(\"MAE: \" + str(np.mean(m3a)))\n",
        "print(\"MedAE: \" + str(np.mean(m4a)))\n",
        "print(\"MAE (original): \" + str(np.mean(m5a)))\n",
        "print(\"MedAE (original): \" + str(np.mean(m6a)))\n",
        "print(\"upper quartile (original): \" + str(np.mean(m7a)))"
      ]
    },
    {
      "cell_type": "markdown",
      "metadata": {
        "id": "CBYjX11I2C52"
      },
      "source": [
        "#####  **Daily Max SO2 Regression (Training & Testing):**"
      ]
    },
    {
      "cell_type": "code",
      "execution_count": null,
      "metadata": {
        "colab": {
          "base_uri": "https://localhost:8080/",
          "height": 145
        },
        "id": "M26et-MC53KX",
        "outputId": "23fa86fd-8df4-4617-cb08-250fafa97cc3"
      },
      "outputs": [
        {
          "data": {
            "text/html": [
              "<style>#sk-container-id-2 {\n",
              "  /* Definition of color scheme common for light and dark mode */\n",
              "  --sklearn-color-text: black;\n",
              "  --sklearn-color-line: gray;\n",
              "  /* Definition of color scheme for unfitted estimators */\n",
              "  --sklearn-color-unfitted-level-0: #fff5e6;\n",
              "  --sklearn-color-unfitted-level-1: #f6e4d2;\n",
              "  --sklearn-color-unfitted-level-2: #ffe0b3;\n",
              "  --sklearn-color-unfitted-level-3: chocolate;\n",
              "  /* Definition of color scheme for fitted estimators */\n",
              "  --sklearn-color-fitted-level-0: #f0f8ff;\n",
              "  --sklearn-color-fitted-level-1: #d4ebff;\n",
              "  --sklearn-color-fitted-level-2: #b3dbfd;\n",
              "  --sklearn-color-fitted-level-3: cornflowerblue;\n",
              "\n",
              "  /* Specific color for light theme */\n",
              "  --sklearn-color-text-on-default-background: var(--sg-text-color, var(--theme-code-foreground, var(--jp-content-font-color1, black)));\n",
              "  --sklearn-color-background: var(--sg-background-color, var(--theme-background, var(--jp-layout-color0, white)));\n",
              "  --sklearn-color-border-box: var(--sg-text-color, var(--theme-code-foreground, var(--jp-content-font-color1, black)));\n",
              "  --sklearn-color-icon: #696969;\n",
              "\n",
              "  @media (prefers-color-scheme: dark) {\n",
              "    /* Redefinition of color scheme for dark theme */\n",
              "    --sklearn-color-text-on-default-background: var(--sg-text-color, var(--theme-code-foreground, var(--jp-content-font-color1, white)));\n",
              "    --sklearn-color-background: var(--sg-background-color, var(--theme-background, var(--jp-layout-color0, #111)));\n",
              "    --sklearn-color-border-box: var(--sg-text-color, var(--theme-code-foreground, var(--jp-content-font-color1, white)));\n",
              "    --sklearn-color-icon: #878787;\n",
              "  }\n",
              "}\n",
              "\n",
              "#sk-container-id-2 {\n",
              "  color: var(--sklearn-color-text);\n",
              "}\n",
              "\n",
              "#sk-container-id-2 pre {\n",
              "  padding: 0;\n",
              "}\n",
              "\n",
              "#sk-container-id-2 input.sk-hidden--visually {\n",
              "  border: 0;\n",
              "  clip: rect(1px 1px 1px 1px);\n",
              "  clip: rect(1px, 1px, 1px, 1px);\n",
              "  height: 1px;\n",
              "  margin: -1px;\n",
              "  overflow: hidden;\n",
              "  padding: 0;\n",
              "  position: absolute;\n",
              "  width: 1px;\n",
              "}\n",
              "\n",
              "#sk-container-id-2 div.sk-dashed-wrapped {\n",
              "  border: 1px dashed var(--sklearn-color-line);\n",
              "  margin: 0 0.4em 0.5em 0.4em;\n",
              "  box-sizing: border-box;\n",
              "  padding-bottom: 0.4em;\n",
              "  background-color: var(--sklearn-color-background);\n",
              "}\n",
              "\n",
              "#sk-container-id-2 div.sk-container {\n",
              "  /* jupyter's `normalize.less` sets `[hidden] { display: none; }`\n",
              "     but bootstrap.min.css set `[hidden] { display: none !important; }`\n",
              "     so we also need the `!important` here to be able to override the\n",
              "     default hidden behavior on the sphinx rendered scikit-learn.org.\n",
              "     See: https://github.com/scikit-learn/scikit-learn/issues/21755 */\n",
              "  display: inline-block !important;\n",
              "  position: relative;\n",
              "}\n",
              "\n",
              "#sk-container-id-2 div.sk-text-repr-fallback {\n",
              "  display: none;\n",
              "}\n",
              "\n",
              "div.sk-parallel-item,\n",
              "div.sk-serial,\n",
              "div.sk-item {\n",
              "  /* draw centered vertical line to link estimators */\n",
              "  background-image: linear-gradient(var(--sklearn-color-text-on-default-background), var(--sklearn-color-text-on-default-background));\n",
              "  background-size: 2px 100%;\n",
              "  background-repeat: no-repeat;\n",
              "  background-position: center center;\n",
              "}\n",
              "\n",
              "/* Parallel-specific style estimator block */\n",
              "\n",
              "#sk-container-id-2 div.sk-parallel-item::after {\n",
              "  content: \"\";\n",
              "  width: 100%;\n",
              "  border-bottom: 2px solid var(--sklearn-color-text-on-default-background);\n",
              "  flex-grow: 1;\n",
              "}\n",
              "\n",
              "#sk-container-id-2 div.sk-parallel {\n",
              "  display: flex;\n",
              "  align-items: stretch;\n",
              "  justify-content: center;\n",
              "  background-color: var(--sklearn-color-background);\n",
              "  position: relative;\n",
              "}\n",
              "\n",
              "#sk-container-id-2 div.sk-parallel-item {\n",
              "  display: flex;\n",
              "  flex-direction: column;\n",
              "}\n",
              "\n",
              "#sk-container-id-2 div.sk-parallel-item:first-child::after {\n",
              "  align-self: flex-end;\n",
              "  width: 50%;\n",
              "}\n",
              "\n",
              "#sk-container-id-2 div.sk-parallel-item:last-child::after {\n",
              "  align-self: flex-start;\n",
              "  width: 50%;\n",
              "}\n",
              "\n",
              "#sk-container-id-2 div.sk-parallel-item:only-child::after {\n",
              "  width: 0;\n",
              "}\n",
              "\n",
              "/* Serial-specific style estimator block */\n",
              "\n",
              "#sk-container-id-2 div.sk-serial {\n",
              "  display: flex;\n",
              "  flex-direction: column;\n",
              "  align-items: center;\n",
              "  background-color: var(--sklearn-color-background);\n",
              "  padding-right: 1em;\n",
              "  padding-left: 1em;\n",
              "}\n",
              "\n",
              "\n",
              "/* Toggleable style: style used for estimator/Pipeline/ColumnTransformer box that is\n",
              "clickable and can be expanded/collapsed.\n",
              "- Pipeline and ColumnTransformer use this feature and define the default style\n",
              "- Estimators will overwrite some part of the style using the `sk-estimator` class\n",
              "*/\n",
              "\n",
              "/* Pipeline and ColumnTransformer style (default) */\n",
              "\n",
              "#sk-container-id-2 div.sk-toggleable {\n",
              "  /* Default theme specific background. It is overwritten whether we have a\n",
              "  specific estimator or a Pipeline/ColumnTransformer */\n",
              "  background-color: var(--sklearn-color-background);\n",
              "}\n",
              "\n",
              "/* Toggleable label */\n",
              "#sk-container-id-2 label.sk-toggleable__label {\n",
              "  cursor: pointer;\n",
              "  display: block;\n",
              "  width: 100%;\n",
              "  margin-bottom: 0;\n",
              "  padding: 0.5em;\n",
              "  box-sizing: border-box;\n",
              "  text-align: center;\n",
              "}\n",
              "\n",
              "#sk-container-id-2 label.sk-toggleable__label-arrow:before {\n",
              "  /* Arrow on the left of the label */\n",
              "  content: \"▸\";\n",
              "  float: left;\n",
              "  margin-right: 0.25em;\n",
              "  color: var(--sklearn-color-icon);\n",
              "}\n",
              "\n",
              "#sk-container-id-2 label.sk-toggleable__label-arrow:hover:before {\n",
              "  color: var(--sklearn-color-text);\n",
              "}\n",
              "\n",
              "/* Toggleable content - dropdown */\n",
              "\n",
              "#sk-container-id-2 div.sk-toggleable__content {\n",
              "  max-height: 0;\n",
              "  max-width: 0;\n",
              "  overflow: hidden;\n",
              "  text-align: left;\n",
              "  /* unfitted */\n",
              "  background-color: var(--sklearn-color-unfitted-level-0);\n",
              "}\n",
              "\n",
              "#sk-container-id-2 div.sk-toggleable__content.fitted {\n",
              "  /* fitted */\n",
              "  background-color: var(--sklearn-color-fitted-level-0);\n",
              "}\n",
              "\n",
              "#sk-container-id-2 div.sk-toggleable__content pre {\n",
              "  margin: 0.2em;\n",
              "  border-radius: 0.25em;\n",
              "  color: var(--sklearn-color-text);\n",
              "  /* unfitted */\n",
              "  background-color: var(--sklearn-color-unfitted-level-0);\n",
              "}\n",
              "\n",
              "#sk-container-id-2 div.sk-toggleable__content.fitted pre {\n",
              "  /* unfitted */\n",
              "  background-color: var(--sklearn-color-fitted-level-0);\n",
              "}\n",
              "\n",
              "#sk-container-id-2 input.sk-toggleable__control:checked~div.sk-toggleable__content {\n",
              "  /* Expand drop-down */\n",
              "  max-height: 200px;\n",
              "  max-width: 100%;\n",
              "  overflow: auto;\n",
              "}\n",
              "\n",
              "#sk-container-id-2 input.sk-toggleable__control:checked~label.sk-toggleable__label-arrow:before {\n",
              "  content: \"▾\";\n",
              "}\n",
              "\n",
              "/* Pipeline/ColumnTransformer-specific style */\n",
              "\n",
              "#sk-container-id-2 div.sk-label input.sk-toggleable__control:checked~label.sk-toggleable__label {\n",
              "  color: var(--sklearn-color-text);\n",
              "  background-color: var(--sklearn-color-unfitted-level-2);\n",
              "}\n",
              "\n",
              "#sk-container-id-2 div.sk-label.fitted input.sk-toggleable__control:checked~label.sk-toggleable__label {\n",
              "  background-color: var(--sklearn-color-fitted-level-2);\n",
              "}\n",
              "\n",
              "/* Estimator-specific style */\n",
              "\n",
              "/* Colorize estimator box */\n",
              "#sk-container-id-2 div.sk-estimator input.sk-toggleable__control:checked~label.sk-toggleable__label {\n",
              "  /* unfitted */\n",
              "  background-color: var(--sklearn-color-unfitted-level-2);\n",
              "}\n",
              "\n",
              "#sk-container-id-2 div.sk-estimator.fitted input.sk-toggleable__control:checked~label.sk-toggleable__label {\n",
              "  /* fitted */\n",
              "  background-color: var(--sklearn-color-fitted-level-2);\n",
              "}\n",
              "\n",
              "#sk-container-id-2 div.sk-label label.sk-toggleable__label,\n",
              "#sk-container-id-2 div.sk-label label {\n",
              "  /* The background is the default theme color */\n",
              "  color: var(--sklearn-color-text-on-default-background);\n",
              "}\n",
              "\n",
              "/* On hover, darken the color of the background */\n",
              "#sk-container-id-2 div.sk-label:hover label.sk-toggleable__label {\n",
              "  color: var(--sklearn-color-text);\n",
              "  background-color: var(--sklearn-color-unfitted-level-2);\n",
              "}\n",
              "\n",
              "/* Label box, darken color on hover, fitted */\n",
              "#sk-container-id-2 div.sk-label.fitted:hover label.sk-toggleable__label.fitted {\n",
              "  color: var(--sklearn-color-text);\n",
              "  background-color: var(--sklearn-color-fitted-level-2);\n",
              "}\n",
              "\n",
              "/* Estimator label */\n",
              "\n",
              "#sk-container-id-2 div.sk-label label {\n",
              "  font-family: monospace;\n",
              "  font-weight: bold;\n",
              "  display: inline-block;\n",
              "  line-height: 1.2em;\n",
              "}\n",
              "\n",
              "#sk-container-id-2 div.sk-label-container {\n",
              "  text-align: center;\n",
              "}\n",
              "\n",
              "/* Estimator-specific */\n",
              "#sk-container-id-2 div.sk-estimator {\n",
              "  font-family: monospace;\n",
              "  border: 1px dotted var(--sklearn-color-border-box);\n",
              "  border-radius: 0.25em;\n",
              "  box-sizing: border-box;\n",
              "  margin-bottom: 0.5em;\n",
              "  /* unfitted */\n",
              "  background-color: var(--sklearn-color-unfitted-level-0);\n",
              "}\n",
              "\n",
              "#sk-container-id-2 div.sk-estimator.fitted {\n",
              "  /* fitted */\n",
              "  background-color: var(--sklearn-color-fitted-level-0);\n",
              "}\n",
              "\n",
              "/* on hover */\n",
              "#sk-container-id-2 div.sk-estimator:hover {\n",
              "  /* unfitted */\n",
              "  background-color: var(--sklearn-color-unfitted-level-2);\n",
              "}\n",
              "\n",
              "#sk-container-id-2 div.sk-estimator.fitted:hover {\n",
              "  /* fitted */\n",
              "  background-color: var(--sklearn-color-fitted-level-2);\n",
              "}\n",
              "\n",
              "/* Specification for estimator info (e.g. \"i\" and \"?\") */\n",
              "\n",
              "/* Common style for \"i\" and \"?\" */\n",
              "\n",
              ".sk-estimator-doc-link,\n",
              "a:link.sk-estimator-doc-link,\n",
              "a:visited.sk-estimator-doc-link {\n",
              "  float: right;\n",
              "  font-size: smaller;\n",
              "  line-height: 1em;\n",
              "  font-family: monospace;\n",
              "  background-color: var(--sklearn-color-background);\n",
              "  border-radius: 1em;\n",
              "  height: 1em;\n",
              "  width: 1em;\n",
              "  text-decoration: none !important;\n",
              "  margin-left: 1ex;\n",
              "  /* unfitted */\n",
              "  border: var(--sklearn-color-unfitted-level-1) 1pt solid;\n",
              "  color: var(--sklearn-color-unfitted-level-1);\n",
              "}\n",
              "\n",
              ".sk-estimator-doc-link.fitted,\n",
              "a:link.sk-estimator-doc-link.fitted,\n",
              "a:visited.sk-estimator-doc-link.fitted {\n",
              "  /* fitted */\n",
              "  border: var(--sklearn-color-fitted-level-1) 1pt solid;\n",
              "  color: var(--sklearn-color-fitted-level-1);\n",
              "}\n",
              "\n",
              "/* On hover */\n",
              "div.sk-estimator:hover .sk-estimator-doc-link:hover,\n",
              ".sk-estimator-doc-link:hover,\n",
              "div.sk-label-container:hover .sk-estimator-doc-link:hover,\n",
              ".sk-estimator-doc-link:hover {\n",
              "  /* unfitted */\n",
              "  background-color: var(--sklearn-color-unfitted-level-3);\n",
              "  color: var(--sklearn-color-background);\n",
              "  text-decoration: none;\n",
              "}\n",
              "\n",
              "div.sk-estimator.fitted:hover .sk-estimator-doc-link.fitted:hover,\n",
              ".sk-estimator-doc-link.fitted:hover,\n",
              "div.sk-label-container:hover .sk-estimator-doc-link.fitted:hover,\n",
              ".sk-estimator-doc-link.fitted:hover {\n",
              "  /* fitted */\n",
              "  background-color: var(--sklearn-color-fitted-level-3);\n",
              "  color: var(--sklearn-color-background);\n",
              "  text-decoration: none;\n",
              "}\n",
              "\n",
              "/* Span, style for the box shown on hovering the info icon */\n",
              ".sk-estimator-doc-link span {\n",
              "  display: none;\n",
              "  z-index: 9999;\n",
              "  position: relative;\n",
              "  font-weight: normal;\n",
              "  right: .2ex;\n",
              "  padding: .5ex;\n",
              "  margin: .5ex;\n",
              "  width: min-content;\n",
              "  min-width: 20ex;\n",
              "  max-width: 50ex;\n",
              "  color: var(--sklearn-color-text);\n",
              "  box-shadow: 2pt 2pt 4pt #999;\n",
              "  /* unfitted */\n",
              "  background: var(--sklearn-color-unfitted-level-0);\n",
              "  border: .5pt solid var(--sklearn-color-unfitted-level-3);\n",
              "}\n",
              "\n",
              ".sk-estimator-doc-link.fitted span {\n",
              "  /* fitted */\n",
              "  background: var(--sklearn-color-fitted-level-0);\n",
              "  border: var(--sklearn-color-fitted-level-3);\n",
              "}\n",
              "\n",
              ".sk-estimator-doc-link:hover span {\n",
              "  display: block;\n",
              "}\n",
              "\n",
              "/* \"?\"-specific style due to the `<a>` HTML tag */\n",
              "\n",
              "#sk-container-id-2 a.estimator_doc_link {\n",
              "  float: right;\n",
              "  font-size: 1rem;\n",
              "  line-height: 1em;\n",
              "  font-family: monospace;\n",
              "  background-color: var(--sklearn-color-background);\n",
              "  border-radius: 1rem;\n",
              "  height: 1rem;\n",
              "  width: 1rem;\n",
              "  text-decoration: none;\n",
              "  /* unfitted */\n",
              "  color: var(--sklearn-color-unfitted-level-1);\n",
              "  border: var(--sklearn-color-unfitted-level-1) 1pt solid;\n",
              "}\n",
              "\n",
              "#sk-container-id-2 a.estimator_doc_link.fitted {\n",
              "  /* fitted */\n",
              "  border: var(--sklearn-color-fitted-level-1) 1pt solid;\n",
              "  color: var(--sklearn-color-fitted-level-1);\n",
              "}\n",
              "\n",
              "/* On hover */\n",
              "#sk-container-id-2 a.estimator_doc_link:hover {\n",
              "  /* unfitted */\n",
              "  background-color: var(--sklearn-color-unfitted-level-3);\n",
              "  color: var(--sklearn-color-background);\n",
              "  text-decoration: none;\n",
              "}\n",
              "\n",
              "#sk-container-id-2 a.estimator_doc_link.fitted:hover {\n",
              "  /* fitted */\n",
              "  background-color: var(--sklearn-color-fitted-level-3);\n",
              "}\n",
              "</style><div id=\"sk-container-id-2\" class=\"sk-top-container\"><div class=\"sk-text-repr-fallback\"><pre>Pipeline(steps=[(&#x27;imputer&#x27;, KNNImputer(n_neighbors=8)),\n",
              "                (&#x27;regressor&#x27;, Lasso(alpha=0.1, max_iter=6000, tol=1e-05))])</pre><b>In a Jupyter environment, please rerun this cell to show the HTML representation or trust the notebook. <br />On GitHub, the HTML representation is unable to render, please try loading this page with nbviewer.org.</b></div><div class=\"sk-container\" hidden><div class=\"sk-item sk-dashed-wrapped\"><div class=\"sk-label-container\"><div class=\"sk-label fitted sk-toggleable\"><input class=\"sk-toggleable__control sk-hidden--visually\" id=\"sk-estimator-id-4\" type=\"checkbox\" ><label for=\"sk-estimator-id-4\" class=\"sk-toggleable__label fitted sk-toggleable__label-arrow fitted\">&nbsp;&nbsp;Pipeline<a class=\"sk-estimator-doc-link fitted\" rel=\"noreferrer\" target=\"_blank\" href=\"https://scikit-learn.org/1.5/modules/generated/sklearn.pipeline.Pipeline.html\">?<span>Documentation for Pipeline</span></a><span class=\"sk-estimator-doc-link fitted\">i<span>Fitted</span></span></label><div class=\"sk-toggleable__content fitted\"><pre>Pipeline(steps=[(&#x27;imputer&#x27;, KNNImputer(n_neighbors=8)),\n",
              "                (&#x27;regressor&#x27;, Lasso(alpha=0.1, max_iter=6000, tol=1e-05))])</pre></div> </div></div><div class=\"sk-serial\"><div class=\"sk-item\"><div class=\"sk-estimator fitted sk-toggleable\"><input class=\"sk-toggleable__control sk-hidden--visually\" id=\"sk-estimator-id-5\" type=\"checkbox\" ><label for=\"sk-estimator-id-5\" class=\"sk-toggleable__label fitted sk-toggleable__label-arrow fitted\">&nbsp;KNNImputer<a class=\"sk-estimator-doc-link fitted\" rel=\"noreferrer\" target=\"_blank\" href=\"https://scikit-learn.org/1.5/modules/generated/sklearn.impute.KNNImputer.html\">?<span>Documentation for KNNImputer</span></a></label><div class=\"sk-toggleable__content fitted\"><pre>KNNImputer(n_neighbors=8)</pre></div> </div></div><div class=\"sk-item\"><div class=\"sk-estimator fitted sk-toggleable\"><input class=\"sk-toggleable__control sk-hidden--visually\" id=\"sk-estimator-id-6\" type=\"checkbox\" ><label for=\"sk-estimator-id-6\" class=\"sk-toggleable__label fitted sk-toggleable__label-arrow fitted\">&nbsp;Lasso<a class=\"sk-estimator-doc-link fitted\" rel=\"noreferrer\" target=\"_blank\" href=\"https://scikit-learn.org/1.5/modules/generated/sklearn.linear_model.Lasso.html\">?<span>Documentation for Lasso</span></a></label><div class=\"sk-toggleable__content fitted\"><pre>Lasso(alpha=0.1, max_iter=6000, tol=1e-05)</pre></div> </div></div></div></div></div></div>"
            ],
            "text/plain": [
              "Pipeline(steps=[('imputer', KNNImputer(n_neighbors=8)),\n",
              "                ('regressor', Lasso(alpha=0.1, max_iter=6000, tol=1e-05))])"
            ]
          },
          "execution_count": 27,
          "metadata": {},
          "output_type": "execute_result"
        }
      ],
      "source": [
        "lasso_log_max = Pipeline([(\"imputer\", KNNImputer(n_neighbors=8, weights='uniform')),\n",
        "                          (\"regressor\", Lasso(alpha=0.1, max_iter=6000, tol=0.00001))])\n",
        "lasso_log_max.fit(X_train, y_train)"
      ]
    },
    {
      "cell_type": "code",
      "execution_count": null,
      "metadata": {
        "id": "xhm0pyaH53ja"
      },
      "outputs": [],
      "source": [
        "lasso_log_max_preds_train = lasso_log_max.predict(X_train)\n",
        "lasso_log_max_preds_test = lasso_log_max.predict(X_test)"
      ]
    },
    {
      "cell_type": "code",
      "execution_count": null,
      "metadata": {
        "colab": {
          "base_uri": "https://localhost:8080/"
        },
        "id": "fJ8qCvzq6EUC",
        "outputId": "5e0b6da8-45cc-4df6-9b95-6e069861a817"
      },
      "outputs": [
        {
          "name": "stdout",
          "output_type": "stream",
          "text": [
            "Train R2: 0.13846005376050152\n",
            "Train R: 0.39122792782896315\n",
            "Train MSE: 1.9834102003760028\n",
            "Train MAE: 1.1389703330931107\n",
            "Train MedAE: 0.9892191531122974\n",
            "Train MSE (original): 121.46340730511602\n",
            "Train MAE (original): 3.6196614360544954\n",
            "Train MedAE (original): 0.8337646743498995\n",
            "Train upper quartile (original): 2.0789178599159417\n",
            "\n",
            "\n",
            "Test R2: 0.1389887859565262\n",
            "Test R: 0.39516820205720293\n",
            "Test MSE: 2.0050801556247535\n",
            "Test MAE: 1.1531252708560813\n",
            "Test MedAE: 0.9978067120923934\n",
            "Test MSE (original): 142.04780170668744\n",
            "Test MAE (original): 3.559671265033243\n",
            "Test MedAE (original): 0.8277682906044272\n",
            "Test upper quartile (original): 1.8519437926380387\n"
          ]
        }
      ],
      "source": [
        "print(\"Train R2: \" + str(r2_score(y_train, lasso_log_max_preds_train)))\n",
        "print(\"Train R: \" + str(scipy.stats.pearsonr(np.array(y_train).flatten(), lasso_log_max_preds_train)[0]))\n",
        "print(\"Train MSE: \" + str(mean_squared_error(y_train, lasso_log_max_preds_train)))\n",
        "print(\"Train MAE: \" + str(mean_absolute_error(y_train, lasso_log_max_preds_train)))\n",
        "print(\"Train MedAE: \" + str(median_absolute_error(y_train, lasso_log_max_preds_train)))\n",
        "print(\"Train MSE (original): \" + str(mean_squared_error(np.exp(y_train) - 0.001, np.exp(lasso_log_max_preds_train) - 0.001)))\n",
        "print(\"Train MAE (original): \" + str(mean_absolute_error(np.exp(y_train) - 0.001, np.exp(lasso_log_max_preds_train) - 0.001)))\n",
        "print(\"Train MedAE (original): \" + str(median_absolute_error(np.exp(y_train) - 0.001, np.exp(lasso_log_max_preds_train) - 0.001)))\n",
        "print(\"Train upper quartile (original): \" + str(np.quantile(abs(np.exp(y_train) - np.exp(lasso_log_max_preds_train)), 0.75)))\n",
        "print(\"\\n\")\n",
        "print(\"Test R2: \" + str(r2_score(y_test, lasso_log_max_preds_test)))\n",
        "print(\"Test R: \" + str(scipy.stats.pearsonr(np.array(y_test).flatten(), lasso_log_max_preds_test)[0]))\n",
        "print(\"Test MSE: \" + str(mean_squared_error(y_test, lasso_log_max_preds_test)))\n",
        "print(\"Test MAE: \" + str(mean_absolute_error(y_test, lasso_log_max_preds_test)))\n",
        "print(\"Test MedAE: \" + str(median_absolute_error(y_test, lasso_log_max_preds_test)))\n",
        "print(\"Test MSE (original): \" + str(mean_squared_error(np.exp(y_test) - 0.001, np.exp(lasso_log_max_preds_test) - 0.001)))\n",
        "print(\"Test MAE (original): \" + str(mean_absolute_error(np.exp(y_test) - 0.001, np.exp(lasso_log_max_preds_test) - 0.001)))\n",
        "print(\"Test MedAE (original): \" + str(median_absolute_error(np.exp(y_test) - 0.001, np.exp(lasso_log_max_preds_test) - 0.001)))\n",
        "print(\"Test upper quartile (original): \" + str(np.quantile(abs(np.exp(y_test) - np.exp(lasso_log_max_preds_test)), 0.75)))"
      ]
    },
    {
      "cell_type": "markdown",
      "metadata": {
        "id": "ItgLidZPlqwc"
      },
      "source": [
        "####  **CONTROL 2) HGBM： only Meteorological and Land-Use Land-Cover features**"
      ]
    },
    {
      "cell_type": "markdown",
      "metadata": {
        "id": "qvaxxEtSs9sA"
      },
      "source": [
        "#####  **Binary Classification (Cross-Validation):**"
      ]
    },
    {
      "cell_type": "code",
      "execution_count": null,
      "metadata": {
        "id": "SigNz8Q9MVEZ"
      },
      "outputs": [],
      "source": [
        "y = data['SO2_above_0']\n",
        "X = data.iloc[:,6:317]\n",
        "\n",
        "X_train, X_test, y_train, y_test = train_test_split(X, y, test_size=0.2, random_state=42, stratify=y)"
      ]
    },
    {
      "cell_type": "code",
      "execution_count": null,
      "metadata": {
        "id": "Na71lUXa36Av"
      },
      "outputs": [],
      "source": [
        "binary_gbm = HistGradientBoostingClassifier(max_iter = 5000, learning_rate = 0.001,\n",
        "                                            max_depth = 5, max_leaf_nodes = 2 ** 5 - 1,\n",
        "                                            random_state=42,\n",
        "                                            class_weight={0: 1 / (Counter(data['SO2_above_0'])[0] / (Counter(data['SO2_above_0'])[1] + Counter(data['SO2_above_0'])[0])),\n",
        "                                                          1: 1 / (Counter(data['SO2_above_0'])[1] / (Counter(data['SO2_above_0'])[1] + Counter(data['SO2_above_0'])[0]))})\n",
        "\n",
        "accuracy, precision, recall, f1score = cross_validate_fit_binary_classification(binary_gbm , X_train, y_train)"
      ]
    },
    {
      "cell_type": "code",
      "execution_count": null,
      "metadata": {
        "colab": {
          "base_uri": "https://localhost:8080/"
        },
        "id": "HBS1BgpZ6hBp",
        "outputId": "7d8e35f2-ff78-4a99-9eba-fe8533e8c904"
      },
      "outputs": [
        {
          "name": "stdout",
          "output_type": "stream",
          "text": [
            "0.7634169553698797\n",
            "0.8350738856609181\n",
            "0.7634169553698797\n",
            "0.7855050897634348\n"
          ]
        }
      ],
      "source": [
        "print(np.mean([accuracy[n][0] for n in range(10)]))\n",
        "print(np.mean([precision[n][0] for n in range(10)]))\n",
        "print(np.mean([recall[n][0] for n in range(10)]))\n",
        "print(np.mean([f1score[n][0] for n in range(10)]))"
      ]
    },
    {
      "cell_type": "markdown",
      "metadata": {
        "id": "xwBS2AAitCGz"
      },
      "source": [
        "#####  **Binary Classification (Training & Testing):**"
      ]
    },
    {
      "cell_type": "code",
      "execution_count": null,
      "metadata": {
        "colab": {
          "base_uri": "https://localhost:8080/",
          "height": 127
        },
        "id": "UIiUHTXrDX6Q",
        "outputId": "466c4c55-81ae-4c41-97ac-e014ac058057"
      },
      "outputs": [
        {
          "data": {
            "text/html": [
              "<style>#sk-container-id-3 {color: black;}#sk-container-id-3 pre{padding: 0;}#sk-container-id-3 div.sk-toggleable {background-color: white;}#sk-container-id-3 label.sk-toggleable__label {cursor: pointer;display: block;width: 100%;margin-bottom: 0;padding: 0.3em;box-sizing: border-box;text-align: center;}#sk-container-id-3 label.sk-toggleable__label-arrow:before {content: \"▸\";float: left;margin-right: 0.25em;color: #696969;}#sk-container-id-3 label.sk-toggleable__label-arrow:hover:before {color: black;}#sk-container-id-3 div.sk-estimator:hover label.sk-toggleable__label-arrow:before {color: black;}#sk-container-id-3 div.sk-toggleable__content {max-height: 0;max-width: 0;overflow: hidden;text-align: left;background-color: #f0f8ff;}#sk-container-id-3 div.sk-toggleable__content pre {margin: 0.2em;color: black;border-radius: 0.25em;background-color: #f0f8ff;}#sk-container-id-3 input.sk-toggleable__control:checked~div.sk-toggleable__content {max-height: 200px;max-width: 100%;overflow: auto;}#sk-container-id-3 input.sk-toggleable__control:checked~label.sk-toggleable__label-arrow:before {content: \"▾\";}#sk-container-id-3 div.sk-estimator input.sk-toggleable__control:checked~label.sk-toggleable__label {background-color: #d4ebff;}#sk-container-id-3 div.sk-label input.sk-toggleable__control:checked~label.sk-toggleable__label {background-color: #d4ebff;}#sk-container-id-3 input.sk-hidden--visually {border: 0;clip: rect(1px 1px 1px 1px);clip: rect(1px, 1px, 1px, 1px);height: 1px;margin: -1px;overflow: hidden;padding: 0;position: absolute;width: 1px;}#sk-container-id-3 div.sk-estimator {font-family: monospace;background-color: #f0f8ff;border: 1px dotted black;border-radius: 0.25em;box-sizing: border-box;margin-bottom: 0.5em;}#sk-container-id-3 div.sk-estimator:hover {background-color: #d4ebff;}#sk-container-id-3 div.sk-parallel-item::after {content: \"\";width: 100%;border-bottom: 1px solid gray;flex-grow: 1;}#sk-container-id-3 div.sk-label:hover label.sk-toggleable__label {background-color: #d4ebff;}#sk-container-id-3 div.sk-serial::before {content: \"\";position: absolute;border-left: 1px solid gray;box-sizing: border-box;top: 0;bottom: 0;left: 50%;z-index: 0;}#sk-container-id-3 div.sk-serial {display: flex;flex-direction: column;align-items: center;background-color: white;padding-right: 0.2em;padding-left: 0.2em;position: relative;}#sk-container-id-3 div.sk-item {position: relative;z-index: 1;}#sk-container-id-3 div.sk-parallel {display: flex;align-items: stretch;justify-content: center;background-color: white;position: relative;}#sk-container-id-3 div.sk-item::before, #sk-container-id-3 div.sk-parallel-item::before {content: \"\";position: absolute;border-left: 1px solid gray;box-sizing: border-box;top: 0;bottom: 0;left: 50%;z-index: -1;}#sk-container-id-3 div.sk-parallel-item {display: flex;flex-direction: column;z-index: 1;position: relative;background-color: white;}#sk-container-id-3 div.sk-parallel-item:first-child::after {align-self: flex-end;width: 50%;}#sk-container-id-3 div.sk-parallel-item:last-child::after {align-self: flex-start;width: 50%;}#sk-container-id-3 div.sk-parallel-item:only-child::after {width: 0;}#sk-container-id-3 div.sk-dashed-wrapped {border: 1px dashed gray;margin: 0 0.4em 0.5em 0.4em;box-sizing: border-box;padding-bottom: 0.4em;background-color: white;}#sk-container-id-3 div.sk-label label {font-family: monospace;font-weight: bold;display: inline-block;line-height: 1.2em;}#sk-container-id-3 div.sk-label-container {text-align: center;}#sk-container-id-3 div.sk-container {/* jupyter's `normalize.less` sets `[hidden] { display: none; }` but bootstrap.min.css set `[hidden] { display: none !important; }` so we also need the `!important` here to be able to override the default hidden behavior on the sphinx rendered scikit-learn.org. See: https://github.com/scikit-learn/scikit-learn/issues/21755 */display: inline-block !important;position: relative;}#sk-container-id-3 div.sk-text-repr-fallback {display: none;}</style><div id=\"sk-container-id-3\" class=\"sk-top-container\"><div class=\"sk-text-repr-fallback\"><pre>HistGradientBoostingClassifier(class_weight={0: 5.597444089456869,\n",
              "                                             1: 1.2175121612230715},\n",
              "                               learning_rate=0.001, max_depth=5, max_iter=5000,\n",
              "                               random_state=42)</pre><b>In a Jupyter environment, please rerun this cell to show the HTML representation or trust the notebook. <br />On GitHub, the HTML representation is unable to render, please try loading this page with nbviewer.org.</b></div><div class=\"sk-container\" hidden><div class=\"sk-item\"><div class=\"sk-estimator sk-toggleable\"><input class=\"sk-toggleable__control sk-hidden--visually\" id=\"sk-estimator-id-3\" type=\"checkbox\" checked><label for=\"sk-estimator-id-3\" class=\"sk-toggleable__label sk-toggleable__label-arrow\">HistGradientBoostingClassifier</label><div class=\"sk-toggleable__content\"><pre>HistGradientBoostingClassifier(class_weight={0: 5.597444089456869,\n",
              "                                             1: 1.2175121612230715},\n",
              "                               learning_rate=0.001, max_depth=5, max_iter=5000,\n",
              "                               random_state=42)</pre></div></div></div></div></div>"
            ],
            "text/plain": [
              "HistGradientBoostingClassifier(class_weight={0: 5.597444089456869,\n",
              "                                             1: 1.2175121612230715},\n",
              "                               learning_rate=0.001, max_depth=5, max_iter=5000,\n",
              "                               random_state=42)"
            ]
          },
          "execution_count": 36,
          "metadata": {},
          "output_type": "execute_result"
        }
      ],
      "source": [
        "binary_gbm_control = HistGradientBoostingClassifier(max_iter = 5000, learning_rate = 0.001,\n",
        "                                                    max_depth = 5, max_leaf_nodes = 2 ** 5 - 1,\n",
        "                                                    random_state=42,\n",
        "                                                    class_weight={0: 1 / (Counter(data['SO2_above_0'])[0] / (Counter(data['SO2_above_0'])[1] + Counter(data['SO2_above_0'])[0])),\n",
        "                                                                  1: 1 / (Counter(data['SO2_above_0'])[1] / (Counter(data['SO2_above_0'])[1] + Counter(data['SO2_above_0'])[0]))})\n",
        "binary_gbm_control.fit(X_train, y_train)"
      ]
    },
    {
      "cell_type": "code",
      "execution_count": null,
      "metadata": {
        "id": "C_7HEKSpDbFG"
      },
      "outputs": [],
      "source": [
        "binary_control_preds_train = binary_gbm_control.predict(X_train)\n",
        "binary_control_preds_test = binary_gbm_control.predict(X_test)"
      ]
    },
    {
      "cell_type": "code",
      "execution_count": null,
      "metadata": {
        "colab": {
          "base_uri": "https://localhost:8080/"
        },
        "id": "tnduppRMDdtZ",
        "outputId": "bce39493-4839-471d-8715-42fcbfd1436c"
      },
      "outputs": [
        {
          "name": "stdout",
          "output_type": "stream",
          "text": [
            "              precision    recall  f1-score   support\n",
            "\n",
            "           0       0.52      0.92      0.66      1252\n",
            "           1       0.98      0.81      0.89      5756\n",
            "\n",
            "    accuracy                           0.83      7008\n",
            "   macro avg       0.75      0.87      0.77      7008\n",
            "weighted avg       0.90      0.83      0.85      7008\n",
            "\n"
          ]
        }
      ],
      "source": [
        "print(classification_report(y_train, binary_control_preds_train))"
      ]
    },
    {
      "cell_type": "code",
      "execution_count": null,
      "metadata": {
        "colab": {
          "base_uri": "https://localhost:8080/"
        },
        "id": "71ULiSZvDd03",
        "outputId": "38c8ec02-43ec-4b19-9c15-b7a7dab19230"
      },
      "outputs": [
        {
          "data": {
            "text/plain": [
              "array([[1153,   99],\n",
              "       [1084, 4672]])"
            ]
          },
          "execution_count": 39,
          "metadata": {},
          "output_type": "execute_result"
        }
      ],
      "source": [
        "confusion_matrix(y_train, binary_control_preds_train)"
      ]
    },
    {
      "cell_type": "code",
      "execution_count": null,
      "metadata": {
        "colab": {
          "base_uri": "https://localhost:8080/"
        },
        "id": "r-7QoLn4Dd65",
        "outputId": "12316746-54b7-4c34-e3e6-e56bbd1ea2a7"
      },
      "outputs": [
        {
          "name": "stdout",
          "output_type": "stream",
          "text": [
            "              precision    recall  f1-score   support\n",
            "\n",
            "           0       0.39      0.73      0.51       313\n",
            "           1       0.93      0.75      0.83      1439\n",
            "\n",
            "    accuracy                           0.75      1752\n",
            "   macro avg       0.66      0.74      0.67      1752\n",
            "weighted avg       0.83      0.75      0.77      1752\n",
            "\n"
          ]
        }
      ],
      "source": [
        "print(classification_report(y_test, binary_control_preds_test))"
      ]
    },
    {
      "cell_type": "code",
      "execution_count": null,
      "metadata": {
        "colab": {
          "base_uri": "https://localhost:8080/"
        },
        "id": "sx0q2QGuDeA7",
        "outputId": "0f24e26d-1cff-4d7e-e098-6e97cca9550e"
      },
      "outputs": [
        {
          "data": {
            "text/plain": [
              "array([[ 230,   83],\n",
              "       [ 361, 1078]])"
            ]
          },
          "execution_count": 41,
          "metadata": {},
          "output_type": "execute_result"
        }
      ],
      "source": [
        "confusion_matrix(y_test, binary_control_preds_test)"
      ]
    },
    {
      "cell_type": "markdown",
      "metadata": {
        "id": "3OZ1IG9zs6Uw"
      },
      "source": [
        "#####  **Daily Mean SO2 Regression (Cross-Validation):**"
      ]
    },
    {
      "cell_type": "code",
      "execution_count": null,
      "metadata": {
        "id": "S81A6tdhW94m"
      },
      "outputs": [],
      "source": [
        "endog = np.log(data[data['SO2_above_0'] == 1]['mean_so2'] + 0.001)\n",
        "scaler = StandardScaler().fit(data[data['SO2_above_0'] == 1].iloc[:,6:318])\n",
        "exog = np.concatenate((\n",
        "        scaler.transform(data[data['SO2_above_0'] == 1].iloc[:,6:318]),\n",
        "        data[data['SO2_above_0'] == 1].iloc[:,318:323],\n",
        "), axis = 1)\n",
        "group = data[data['SO2_above_0'] == 1]['id']\n",
        "\n",
        "X_train, X_test, y_train, y_test = train_test_split(exog, endog, test_size=0.2, random_state=42, stratify=group)"
      ]
    },
    {
      "cell_type": "code",
      "execution_count": null,
      "metadata": {
        "id": "J5ggwOla0P5B"
      },
      "outputs": [],
      "source": [
        "gbmlogmean = HistGradientBoostingRegressor(max_iter = 5000,\n",
        "                                           learning_rate = 0.001,\n",
        "                                           max_depth = 5,\n",
        "                                           max_leaf_nodes = 2 ** 5 - 1,\n",
        "                                           random_state=42)\n",
        "\n",
        "m1a, m2a, m3a, m4a, m5a, m6a, m7a, \\\n",
        "  m1b, m2b, m3b, m4b, m5b, m6b, m7b = cross_validate_fit_regression(gbmlogmean , X_train, y_train)"
      ]
    },
    {
      "cell_type": "code",
      "execution_count": null,
      "metadata": {
        "colab": {
          "base_uri": "https://localhost:8080/"
        },
        "id": "nH9iB0qq9vVt",
        "outputId": "1fa6d4e8-0c0e-47ad-f87b-9ed2e7ebaa1b"
      },
      "outputs": [
        {
          "name": "stdout",
          "output_type": "stream",
          "text": [
            "R2: 0.3610050739766022\n",
            "r: 0.6129978196659439\n",
            "MAE: 0.9705195046383699\n",
            "MedAE: 0.7367856474259866\n",
            "MAE (original): 0.7311278576341758\n",
            "MedAE (original): 0.17890754246962404\n",
            "upper quartile (original): 0.4517319296428453\n"
          ]
        }
      ],
      "source": [
        "print(\"R2: \" + str(np.mean(m1a)))\n",
        "print(\"r: \" + str(np.mean(m2a)))\n",
        "print(\"MAE: \" + str(np.mean(m3a)))\n",
        "print(\"MedAE: \" + str(np.mean(m4a)))\n",
        "print(\"MAE (original): \" + str(np.mean(m5a)))\n",
        "print(\"MedAE (original): \" + str(np.mean(m6a)))\n",
        "print(\"upper quartile (original): \" + str(np.mean(m7a)))"
      ]
    },
    {
      "cell_type": "markdown",
      "metadata": {
        "id": "KjW5vebG31LG"
      },
      "source": [
        "#####  **Daily Mean SO2 Regression (Training & Testing):**"
      ]
    },
    {
      "cell_type": "code",
      "execution_count": null,
      "metadata": {
        "colab": {
          "base_uri": "https://localhost:8080/",
          "height": 93
        },
        "id": "rzg2oesPsylr",
        "outputId": "0a53184f-cf7f-4fed-ce8f-3fc1e92f83e3"
      },
      "outputs": [
        {
          "data": {
            "text/html": [
              "<style>#sk-container-id-1 {color: black;}#sk-container-id-1 pre{padding: 0;}#sk-container-id-1 div.sk-toggleable {background-color: white;}#sk-container-id-1 label.sk-toggleable__label {cursor: pointer;display: block;width: 100%;margin-bottom: 0;padding: 0.3em;box-sizing: border-box;text-align: center;}#sk-container-id-1 label.sk-toggleable__label-arrow:before {content: \"▸\";float: left;margin-right: 0.25em;color: #696969;}#sk-container-id-1 label.sk-toggleable__label-arrow:hover:before {color: black;}#sk-container-id-1 div.sk-estimator:hover label.sk-toggleable__label-arrow:before {color: black;}#sk-container-id-1 div.sk-toggleable__content {max-height: 0;max-width: 0;overflow: hidden;text-align: left;background-color: #f0f8ff;}#sk-container-id-1 div.sk-toggleable__content pre {margin: 0.2em;color: black;border-radius: 0.25em;background-color: #f0f8ff;}#sk-container-id-1 input.sk-toggleable__control:checked~div.sk-toggleable__content {max-height: 200px;max-width: 100%;overflow: auto;}#sk-container-id-1 input.sk-toggleable__control:checked~label.sk-toggleable__label-arrow:before {content: \"▾\";}#sk-container-id-1 div.sk-estimator input.sk-toggleable__control:checked~label.sk-toggleable__label {background-color: #d4ebff;}#sk-container-id-1 div.sk-label input.sk-toggleable__control:checked~label.sk-toggleable__label {background-color: #d4ebff;}#sk-container-id-1 input.sk-hidden--visually {border: 0;clip: rect(1px 1px 1px 1px);clip: rect(1px, 1px, 1px, 1px);height: 1px;margin: -1px;overflow: hidden;padding: 0;position: absolute;width: 1px;}#sk-container-id-1 div.sk-estimator {font-family: monospace;background-color: #f0f8ff;border: 1px dotted black;border-radius: 0.25em;box-sizing: border-box;margin-bottom: 0.5em;}#sk-container-id-1 div.sk-estimator:hover {background-color: #d4ebff;}#sk-container-id-1 div.sk-parallel-item::after {content: \"\";width: 100%;border-bottom: 1px solid gray;flex-grow: 1;}#sk-container-id-1 div.sk-label:hover label.sk-toggleable__label {background-color: #d4ebff;}#sk-container-id-1 div.sk-serial::before {content: \"\";position: absolute;border-left: 1px solid gray;box-sizing: border-box;top: 0;bottom: 0;left: 50%;z-index: 0;}#sk-container-id-1 div.sk-serial {display: flex;flex-direction: column;align-items: center;background-color: white;padding-right: 0.2em;padding-left: 0.2em;position: relative;}#sk-container-id-1 div.sk-item {position: relative;z-index: 1;}#sk-container-id-1 div.sk-parallel {display: flex;align-items: stretch;justify-content: center;background-color: white;position: relative;}#sk-container-id-1 div.sk-item::before, #sk-container-id-1 div.sk-parallel-item::before {content: \"\";position: absolute;border-left: 1px solid gray;box-sizing: border-box;top: 0;bottom: 0;left: 50%;z-index: -1;}#sk-container-id-1 div.sk-parallel-item {display: flex;flex-direction: column;z-index: 1;position: relative;background-color: white;}#sk-container-id-1 div.sk-parallel-item:first-child::after {align-self: flex-end;width: 50%;}#sk-container-id-1 div.sk-parallel-item:last-child::after {align-self: flex-start;width: 50%;}#sk-container-id-1 div.sk-parallel-item:only-child::after {width: 0;}#sk-container-id-1 div.sk-dashed-wrapped {border: 1px dashed gray;margin: 0 0.4em 0.5em 0.4em;box-sizing: border-box;padding-bottom: 0.4em;background-color: white;}#sk-container-id-1 div.sk-label label {font-family: monospace;font-weight: bold;display: inline-block;line-height: 1.2em;}#sk-container-id-1 div.sk-label-container {text-align: center;}#sk-container-id-1 div.sk-container {/* jupyter's `normalize.less` sets `[hidden] { display: none; }` but bootstrap.min.css set `[hidden] { display: none !important; }` so we also need the `!important` here to be able to override the default hidden behavior on the sphinx rendered scikit-learn.org. See: https://github.com/scikit-learn/scikit-learn/issues/21755 */display: inline-block !important;position: relative;}#sk-container-id-1 div.sk-text-repr-fallback {display: none;}</style><div id=\"sk-container-id-1\" class=\"sk-top-container\"><div class=\"sk-text-repr-fallback\"><pre>HistGradientBoostingRegressor(learning_rate=0.001, max_depth=5, max_iter=5000,\n",
              "                              random_state=42)</pre><b>In a Jupyter environment, please rerun this cell to show the HTML representation or trust the notebook. <br />On GitHub, the HTML representation is unable to render, please try loading this page with nbviewer.org.</b></div><div class=\"sk-container\" hidden><div class=\"sk-item\"><div class=\"sk-estimator sk-toggleable\"><input class=\"sk-toggleable__control sk-hidden--visually\" id=\"sk-estimator-id-1\" type=\"checkbox\" checked><label for=\"sk-estimator-id-1\" class=\"sk-toggleable__label sk-toggleable__label-arrow\">HistGradientBoostingRegressor</label><div class=\"sk-toggleable__content\"><pre>HistGradientBoostingRegressor(learning_rate=0.001, max_depth=5, max_iter=5000,\n",
              "                              random_state=42)</pre></div></div></div></div></div>"
            ],
            "text/plain": [
              "HistGradientBoostingRegressor(learning_rate=0.001, max_depth=5, max_iter=5000,\n",
              "                              random_state=42)"
            ]
          },
          "execution_count": 24,
          "metadata": {},
          "output_type": "execute_result"
        }
      ],
      "source": [
        "gbmlogmean_control = HistGradientBoostingRegressor(max_iter = 5000, learning_rate = 0.001,\n",
        "                                                  max_depth = 5, max_leaf_nodes = 2 ** 5 - 1,\n",
        "                                                  random_state=42)\n",
        "gbmlogmean_control.fit(X_train, y_train)"
      ]
    },
    {
      "cell_type": "code",
      "execution_count": null,
      "metadata": {
        "id": "vEszyws7s4Th"
      },
      "outputs": [],
      "source": [
        "gbmlogmean_control_preds_train = gbmlogmean_control.predict(X_train)\n",
        "gbmlogmean_control_preds_test = gbmlogmean_control.predict(X_test)"
      ]
    },
    {
      "cell_type": "code",
      "execution_count": null,
      "metadata": {
        "colab": {
          "base_uri": "https://localhost:8080/"
        },
        "id": "po7XOUk-s63z",
        "outputId": "98581bed-8a43-4030-cbb2-580feaca2e59"
      },
      "outputs": [
        {
          "name": "stdout",
          "output_type": "stream",
          "text": [
            "Train R2: 0.5368301264013555\n",
            "Train R: 0.7699660299922577\n",
            "Train MSE: 1.2046749869499607\n",
            "Train MAE: 0.8266513643840013\n",
            "Train MedAE: 0.6300612481581418\n",
            "Train MAE (original): 4.331417141292759\n",
            "Train MAE (original): 0.6728999844494842\n",
            "Train MedAE (original): 0.14851535692377726\n",
            "Train upper quartile (original): 0.3773149618863065\n",
            "\n",
            "\n",
            "Test R2: 0.37306456415363665\n",
            "Test R: 0.6246709015027246\n",
            "Test MSE: 1.6981464056895326\n",
            "Test MAE: 0.9798760484403296\n",
            "Test MedAE: 0.7248643773732115\n",
            "Test MAE (original): 4.672447199992607\n",
            "Test MAE (original): 0.717112555946295\n",
            "Test MedAE (original): 0.16798696779074623\n",
            "Test upper quartile (original): 0.40430344415175845\n"
          ]
        }
      ],
      "source": [
        "print(\"Train R2: \" + str(r2_score(y_train, gbmlogmean_control_preds_train)))\n",
        "print(\"Train R: \" + str(scipy.stats.pearsonr(np.array(y_train).flatten(), gbmlogmean_control_preds_train)[0]))\n",
        "print(\"Train MSE: \" + str(mean_squared_error(y_train, gbmlogmean_control_preds_train)))\n",
        "print(\"Train MAE: \" + str(mean_absolute_error(y_train, gbmlogmean_control_preds_train)))\n",
        "print(\"Train MedAE: \" + str(median_absolute_error(y_train, gbmlogmean_control_preds_train)))\n",
        "print(\"Train MAE (original): \" + str(mean_squared_error(np.exp(y_train) - 0.001, np.exp(gbmlogmean_control_preds_train) - 0.001)))\n",
        "print(\"Train MAE (original): \" + str(mean_absolute_error(np.exp(y_train) - 0.001, np.exp(gbmlogmean_control_preds_train) - 0.001)))\n",
        "print(\"Train MedAE (original): \" + str(median_absolute_error(np.exp(y_train) - 0.001, np.exp(gbmlogmean_control_preds_train) - 0.001)))\n",
        "print(\"Train upper quartile (original): \" + str(np.quantile(abs(np.exp(y_train) - np.exp(gbmlogmean_control_preds_train)), 0.75)))\n",
        "print(\"\\n\")\n",
        "print(\"Test R2: \" + str(r2_score(y_test, gbmlogmean_control_preds_test)))\n",
        "print(\"Test R: \" + str(scipy.stats.pearsonr(np.array(y_test).flatten(), gbmlogmean_control_preds_test)[0]))\n",
        "print(\"Test MSE: \" + str(mean_squared_error(y_test, gbmlogmean_control_preds_test)))\n",
        "print(\"Test MAE: \" + str(mean_absolute_error(y_test, gbmlogmean_control_preds_test)))\n",
        "print(\"Test MedAE: \" + str(median_absolute_error(y_test, gbmlogmean_control_preds_test)))\n",
        "print(\"Test MAE (original): \" + str(mean_squared_error(np.exp(y_test) - 0.001, np.exp(gbmlogmean_control_preds_test) - 0.001)))\n",
        "print(\"Test MAE (original): \" + str(mean_absolute_error(np.exp(y_test) - 0.001, np.exp(gbmlogmean_control_preds_test) - 0.001)))\n",
        "print(\"Test MedAE (original): \" + str(median_absolute_error(np.exp(y_test) - 0.001, np.exp(gbmlogmean_control_preds_test) - 0.001)))\n",
        "print(\"Test upper quartile (original): \" + str(np.quantile(abs(np.exp(y_test) - np.exp(gbmlogmean_control_preds_test)), 0.75)))"
      ]
    },
    {
      "cell_type": "markdown",
      "metadata": {
        "id": "dPAadD714vfQ"
      },
      "source": [
        "#####  **Daily Max SO2 Regression (Cross-Validation):**"
      ]
    },
    {
      "cell_type": "code",
      "execution_count": null,
      "metadata": {
        "id": "Grxwu3sZjxdM"
      },
      "outputs": [],
      "source": [
        "endog = np.log(data[data['SO2_above_0'] == 1]['max_so2'] + 0.001)\n",
        "scaler = StandardScaler().fit(data[data['SO2_above_0'] == 1].iloc[:,6:318])\n",
        "exog = np.concatenate((\n",
        "        scaler.transform(data[data['SO2_above_0'] == 1].iloc[:,6:318]),\n",
        "        data[data['SO2_above_0'] == 1].iloc[:,318:323],\n",
        "), axis = 1)\n",
        "group = data[data['SO2_above_0'] == 1]['id']\n",
        "\n",
        "X_train, X_test, y_train, y_test = train_test_split(exog, endog, test_size=0.2, random_state=42, stratify=group)"
      ]
    },
    {
      "cell_type": "code",
      "execution_count": null,
      "metadata": {
        "id": "Av91BWTt5QtX"
      },
      "outputs": [],
      "source": [
        "gbmlogmean = HistGradientBoostingRegressor(max_iter = 5000,\n",
        "                                           learning_rate = 0.001,\n",
        "                                           max_depth = 5,\n",
        "                                           max_leaf_nodes = 2 ** 5 - 1,\n",
        "                                           random_state=42)\n",
        "\n",
        "m1a, m2a, m3a, m4a, m5a, m6a, m7a, \\\n",
        "  m1b, m2b, m3b, m4b, m5b, m6b, m7b = cross_validate_fit_regression(gbmlogmean , X_train, y_train)"
      ]
    },
    {
      "cell_type": "code",
      "execution_count": null,
      "metadata": {
        "colab": {
          "base_uri": "https://localhost:8080/"
        },
        "id": "e-zm_6_9JpFt",
        "outputId": "5cbbd67a-1843-4626-b0fe-6f055364f904"
      },
      "outputs": [
        {
          "name": "stdout",
          "output_type": "stream",
          "text": [
            "R2: 0.39294678881874345\n",
            "r: 0.6405433313951292\n",
            "MAE: 0.9260604974411522\n",
            "MedAE: 0.7557678870364949\n",
            "MAE (original): 3.246880789714261\n",
            "MedAE (original): 0.7272897597277324\n",
            "upper quartile (original): 2.0271322130802734\n"
          ]
        }
      ],
      "source": [
        "print(\"R2: \" + str(np.mean(m1a)))\n",
        "print(\"r: \" + str(np.mean(m2a)))\n",
        "print(\"MAE: \" + str(np.mean(m3a)))\n",
        "print(\"MedAE: \" + str(np.mean(m4a)))\n",
        "print(\"MAE (original): \" + str(np.mean(m5a)))\n",
        "print(\"MedAE (original): \" + str(np.mean(m6a)))\n",
        "print(\"upper quartile (original): \" + str(np.mean(m7a)))"
      ]
    },
    {
      "cell_type": "markdown",
      "metadata": {
        "id": "FhKtF6p641nX"
      },
      "source": [
        "#####  **Daily Max SO2 Regression (Training & Testing):**"
      ]
    },
    {
      "cell_type": "code",
      "execution_count": null,
      "metadata": {
        "colab": {
          "base_uri": "https://localhost:8080/",
          "height": 93
        },
        "id": "YIcvZNnYuR7P",
        "outputId": "41a06f93-c42c-47fe-9d23-56db650dddb5"
      },
      "outputs": [
        {
          "data": {
            "text/html": [
              "<style>#sk-container-id-2 {color: black;}#sk-container-id-2 pre{padding: 0;}#sk-container-id-2 div.sk-toggleable {background-color: white;}#sk-container-id-2 label.sk-toggleable__label {cursor: pointer;display: block;width: 100%;margin-bottom: 0;padding: 0.3em;box-sizing: border-box;text-align: center;}#sk-container-id-2 label.sk-toggleable__label-arrow:before {content: \"▸\";float: left;margin-right: 0.25em;color: #696969;}#sk-container-id-2 label.sk-toggleable__label-arrow:hover:before {color: black;}#sk-container-id-2 div.sk-estimator:hover label.sk-toggleable__label-arrow:before {color: black;}#sk-container-id-2 div.sk-toggleable__content {max-height: 0;max-width: 0;overflow: hidden;text-align: left;background-color: #f0f8ff;}#sk-container-id-2 div.sk-toggleable__content pre {margin: 0.2em;color: black;border-radius: 0.25em;background-color: #f0f8ff;}#sk-container-id-2 input.sk-toggleable__control:checked~div.sk-toggleable__content {max-height: 200px;max-width: 100%;overflow: auto;}#sk-container-id-2 input.sk-toggleable__control:checked~label.sk-toggleable__label-arrow:before {content: \"▾\";}#sk-container-id-2 div.sk-estimator input.sk-toggleable__control:checked~label.sk-toggleable__label {background-color: #d4ebff;}#sk-container-id-2 div.sk-label input.sk-toggleable__control:checked~label.sk-toggleable__label {background-color: #d4ebff;}#sk-container-id-2 input.sk-hidden--visually {border: 0;clip: rect(1px 1px 1px 1px);clip: rect(1px, 1px, 1px, 1px);height: 1px;margin: -1px;overflow: hidden;padding: 0;position: absolute;width: 1px;}#sk-container-id-2 div.sk-estimator {font-family: monospace;background-color: #f0f8ff;border: 1px dotted black;border-radius: 0.25em;box-sizing: border-box;margin-bottom: 0.5em;}#sk-container-id-2 div.sk-estimator:hover {background-color: #d4ebff;}#sk-container-id-2 div.sk-parallel-item::after {content: \"\";width: 100%;border-bottom: 1px solid gray;flex-grow: 1;}#sk-container-id-2 div.sk-label:hover label.sk-toggleable__label {background-color: #d4ebff;}#sk-container-id-2 div.sk-serial::before {content: \"\";position: absolute;border-left: 1px solid gray;box-sizing: border-box;top: 0;bottom: 0;left: 50%;z-index: 0;}#sk-container-id-2 div.sk-serial {display: flex;flex-direction: column;align-items: center;background-color: white;padding-right: 0.2em;padding-left: 0.2em;position: relative;}#sk-container-id-2 div.sk-item {position: relative;z-index: 1;}#sk-container-id-2 div.sk-parallel {display: flex;align-items: stretch;justify-content: center;background-color: white;position: relative;}#sk-container-id-2 div.sk-item::before, #sk-container-id-2 div.sk-parallel-item::before {content: \"\";position: absolute;border-left: 1px solid gray;box-sizing: border-box;top: 0;bottom: 0;left: 50%;z-index: -1;}#sk-container-id-2 div.sk-parallel-item {display: flex;flex-direction: column;z-index: 1;position: relative;background-color: white;}#sk-container-id-2 div.sk-parallel-item:first-child::after {align-self: flex-end;width: 50%;}#sk-container-id-2 div.sk-parallel-item:last-child::after {align-self: flex-start;width: 50%;}#sk-container-id-2 div.sk-parallel-item:only-child::after {width: 0;}#sk-container-id-2 div.sk-dashed-wrapped {border: 1px dashed gray;margin: 0 0.4em 0.5em 0.4em;box-sizing: border-box;padding-bottom: 0.4em;background-color: white;}#sk-container-id-2 div.sk-label label {font-family: monospace;font-weight: bold;display: inline-block;line-height: 1.2em;}#sk-container-id-2 div.sk-label-container {text-align: center;}#sk-container-id-2 div.sk-container {/* jupyter's `normalize.less` sets `[hidden] { display: none; }` but bootstrap.min.css set `[hidden] { display: none !important; }` so we also need the `!important` here to be able to override the default hidden behavior on the sphinx rendered scikit-learn.org. See: https://github.com/scikit-learn/scikit-learn/issues/21755 */display: inline-block !important;position: relative;}#sk-container-id-2 div.sk-text-repr-fallback {display: none;}</style><div id=\"sk-container-id-2\" class=\"sk-top-container\"><div class=\"sk-text-repr-fallback\"><pre>HistGradientBoostingRegressor(learning_rate=0.001, max_depth=5, max_iter=5000,\n",
              "                              random_state=42)</pre><b>In a Jupyter environment, please rerun this cell to show the HTML representation or trust the notebook. <br />On GitHub, the HTML representation is unable to render, please try loading this page with nbviewer.org.</b></div><div class=\"sk-container\" hidden><div class=\"sk-item\"><div class=\"sk-estimator sk-toggleable\"><input class=\"sk-toggleable__control sk-hidden--visually\" id=\"sk-estimator-id-2\" type=\"checkbox\" checked><label for=\"sk-estimator-id-2\" class=\"sk-toggleable__label sk-toggleable__label-arrow\">HistGradientBoostingRegressor</label><div class=\"sk-toggleable__content\"><pre>HistGradientBoostingRegressor(learning_rate=0.001, max_depth=5, max_iter=5000,\n",
              "                              random_state=42)</pre></div></div></div></div></div>"
            ],
            "text/plain": [
              "HistGradientBoostingRegressor(learning_rate=0.001, max_depth=5, max_iter=5000,\n",
              "                              random_state=42)"
            ]
          },
          "execution_count": 30,
          "metadata": {},
          "output_type": "execute_result"
        }
      ],
      "source": [
        "gbmlogmax_control = HistGradientBoostingRegressor(max_iter = 5000, learning_rate = 0.001,\n",
        "                                                  max_depth = 5, max_leaf_nodes = 2 ** 5 - 1,\n",
        "                                                  random_state=42)\n",
        "gbmlogmax_control.fit(X_train, y_train)"
      ]
    },
    {
      "cell_type": "code",
      "execution_count": null,
      "metadata": {
        "id": "9r7t85-IuR7h"
      },
      "outputs": [],
      "source": [
        "gbmlogmax_control_preds_train = gbmlogmax_control.predict(X_train)\n",
        "gbmlogmax_control_preds_test = gbmlogmax_control.predict(X_test)"
      ]
    },
    {
      "cell_type": "code",
      "execution_count": null,
      "metadata": {
        "colab": {
          "base_uri": "https://localhost:8080/"
        },
        "id": "wi-sg94Tn2OG",
        "outputId": "efa96f61-8a1d-4724-ee58-a721f5950f1f"
      },
      "outputs": [
        {
          "name": "stdout",
          "output_type": "stream",
          "text": [
            "Train R2: 0.5591104870509616\n",
            "Train R: 0.7814019703815241\n",
            "Train MSE: 1.0150019868943363\n",
            "Train MAE: 0.7880973251401575\n",
            "Train MedAE: 0.64460821133303\n",
            "Train MSE (original): 104.14630095409971\n",
            "Train MAE (original): 3.006345130889141\n",
            "Train MedAE (original): 0.5849721186131842\n",
            "Train upper quartile (original): 1.6497116795164788\n",
            "\n",
            "\n",
            "Test R2: 0.39958067168821776\n",
            "Test R: 0.6455019029422159\n",
            "Test MSE: 1.3982267136775202\n",
            "Test MAE: 0.93934434975434\n",
            "Test MedAE: 0.7722671068511082\n",
            "Test MSE (original): 132.13614215967482\n",
            "Test MAE (original): 3.227593159418506\n",
            "Test MedAE (original): 0.7221773817801661\n",
            "Test upper quartile (original): 1.8005347357789319\n"
          ]
        }
      ],
      "source": [
        "print(\"Train R2: \" + str(r2_score(y_train, gbmlogmax_control_preds_train)))\n",
        "print(\"Train R: \" + str(scipy.stats.pearsonr(np.array(y_train).flatten(), gbmlogmax_control_preds_train)[0]))\n",
        "print(\"Train MSE: \" + str(mean_squared_error(y_train, gbmlogmax_control_preds_train)))\n",
        "print(\"Train MAE: \" + str(mean_absolute_error(y_train, gbmlogmax_control_preds_train)))\n",
        "print(\"Train MedAE: \" + str(median_absolute_error(y_train, gbmlogmax_control_preds_train)))\n",
        "print(\"Train MSE (original): \" + str(mean_squared_error(np.exp(y_train) - 0.001, np.exp(gbmlogmax_control_preds_train) - 0.001)))\n",
        "print(\"Train MAE (original): \" + str(mean_absolute_error(np.exp(y_train) - 0.001, np.exp(gbmlogmax_control_preds_train) - 0.001)))\n",
        "print(\"Train MedAE (original): \" + str(median_absolute_error(np.exp(y_train) - 0.001, np.exp(gbmlogmax_control_preds_train) - 0.001)))\n",
        "print(\"Train upper quartile (original): \" + str(np.quantile(abs(np.exp(y_train) - np.exp(gbmlogmax_control_preds_train)), 0.75)))\n",
        "print(\"\\n\")\n",
        "print(\"Test R2: \" + str(r2_score(y_test, gbmlogmax_control_preds_test)))\n",
        "print(\"Test R: \" + str(scipy.stats.pearsonr(np.array(y_test).flatten(), gbmlogmax_control_preds_test)[0]))\n",
        "print(\"Test MSE: \" + str(mean_squared_error(y_test, gbmlogmax_control_preds_test)))\n",
        "print(\"Test MAE: \" + str(mean_absolute_error(y_test, gbmlogmax_control_preds_test)))\n",
        "print(\"Test MedAE: \" + str(median_absolute_error(y_test, gbmlogmax_control_preds_test)))\n",
        "print(\"Test MSE (original): \" + str(mean_squared_error(np.exp(y_test) - 0.001, np.exp(gbmlogmax_control_preds_test) - 0.001)))\n",
        "print(\"Test MAE (original): \" + str(mean_absolute_error(np.exp(y_test) - 0.001, np.exp(gbmlogmax_control_preds_test) - 0.001)))\n",
        "print(\"Test MedAE (original): \" + str(median_absolute_error(np.exp(y_test) - 0.001, np.exp(gbmlogmax_control_preds_test) - 0.001)))\n",
        "print(\"Test upper quartile (original): \" + str(np.quantile(abs(np.exp(y_test) - np.exp(gbmlogmax_control_preds_test)), 0.75)))"
      ]
    },
    {
      "cell_type": "markdown",
      "metadata": {
        "id": "pRofKs0t5cWx"
      },
      "source": [
        "####  **FINAL 3) HGBM： Full features with Spatiotemporally-lagged Surface Monitored SO2**"
      ]
    },
    {
      "cell_type": "markdown",
      "metadata": {
        "id": "zJ8KSVn65vVS"
      },
      "source": [
        "#####  **Binary Classification (Cross-Validation):**"
      ]
    },
    {
      "cell_type": "code",
      "execution_count": null,
      "metadata": {
        "id": "_D-5AaEg8BL0"
      },
      "outputs": [],
      "source": [
        "y = data['SO2_above_0']\n",
        "X = np.array(data.iloc[:,6:-1])\n",
        "\n",
        "X_train, X_test, y_train, y_test = train_test_split(X, y, test_size=0.2, random_state=42, stratify=y)"
      ]
    },
    {
      "cell_type": "code",
      "execution_count": null,
      "metadata": {
        "id": "oPOsnjI28BoK"
      },
      "outputs": [],
      "source": [
        "binary_gbm = HistGradientBoostingClassifier(max_iter = 5000, learning_rate = 0.001,\n",
        "                                            max_depth = 5, max_leaf_nodes = 2 ** 5 - 1,\n",
        "                                            random_state=42,\n",
        "                                            class_weight={0: 1 / (Counter(data['SO2_above_0'])[0] / (Counter(data['SO2_above_0'])[1] + Counter(data['SO2_above_0'])[0])),\n",
        "                                                          1: 1 / (Counter(data['SO2_above_0'])[1] / (Counter(data['SO2_above_0'])[1] + Counter(data['SO2_above_0'])[0]))})\n",
        "\n",
        "accuracy, precision, recall, f1score = cross_validate_fit_binary_classification(binary_gbm , X_train, y_train)"
      ]
    },
    {
      "cell_type": "code",
      "execution_count": null,
      "metadata": {
        "colab": {
          "base_uri": "https://localhost:8080/"
        },
        "id": "SKZVI4Wg844o",
        "outputId": "59e345bd-fd03-46f2-e78d-33245bbcd904"
      },
      "outputs": [
        {
          "name": "stdout",
          "output_type": "stream",
          "text": [
            "0.8327615651110657\n",
            "0.8647645435105273\n",
            "0.8327615651110657\n",
            "0.8433890111154948\n"
          ]
        }
      ],
      "source": [
        "print(np.mean([accuracy[n][0] for n in range(10)]))\n",
        "print(np.mean([precision[n][0] for n in range(10)]))\n",
        "print(np.mean([recall[n][0] for n in range(10)]))\n",
        "print(np.mean([f1score[n][0] for n in range(10)]))"
      ]
    },
    {
      "cell_type": "markdown",
      "metadata": {
        "id": "2fbZWs9M5v3o"
      },
      "source": [
        "#####  **Binary Classification (Training & Testing):**"
      ]
    },
    {
      "cell_type": "code",
      "execution_count": null,
      "metadata": {
        "colab": {
          "base_uri": "https://localhost:8080/",
          "height": 127
        },
        "id": "9fDAylPcXlxc",
        "outputId": "9c466d2e-9422-41ef-88ba-c8f1326c62a5"
      },
      "outputs": [
        {
          "data": {
            "text/html": [
              "<style>#sk-container-id-2 {color: black;}#sk-container-id-2 pre{padding: 0;}#sk-container-id-2 div.sk-toggleable {background-color: white;}#sk-container-id-2 label.sk-toggleable__label {cursor: pointer;display: block;width: 100%;margin-bottom: 0;padding: 0.3em;box-sizing: border-box;text-align: center;}#sk-container-id-2 label.sk-toggleable__label-arrow:before {content: \"▸\";float: left;margin-right: 0.25em;color: #696969;}#sk-container-id-2 label.sk-toggleable__label-arrow:hover:before {color: black;}#sk-container-id-2 div.sk-estimator:hover label.sk-toggleable__label-arrow:before {color: black;}#sk-container-id-2 div.sk-toggleable__content {max-height: 0;max-width: 0;overflow: hidden;text-align: left;background-color: #f0f8ff;}#sk-container-id-2 div.sk-toggleable__content pre {margin: 0.2em;color: black;border-radius: 0.25em;background-color: #f0f8ff;}#sk-container-id-2 input.sk-toggleable__control:checked~div.sk-toggleable__content {max-height: 200px;max-width: 100%;overflow: auto;}#sk-container-id-2 input.sk-toggleable__control:checked~label.sk-toggleable__label-arrow:before {content: \"▾\";}#sk-container-id-2 div.sk-estimator input.sk-toggleable__control:checked~label.sk-toggleable__label {background-color: #d4ebff;}#sk-container-id-2 div.sk-label input.sk-toggleable__control:checked~label.sk-toggleable__label {background-color: #d4ebff;}#sk-container-id-2 input.sk-hidden--visually {border: 0;clip: rect(1px 1px 1px 1px);clip: rect(1px, 1px, 1px, 1px);height: 1px;margin: -1px;overflow: hidden;padding: 0;position: absolute;width: 1px;}#sk-container-id-2 div.sk-estimator {font-family: monospace;background-color: #f0f8ff;border: 1px dotted black;border-radius: 0.25em;box-sizing: border-box;margin-bottom: 0.5em;}#sk-container-id-2 div.sk-estimator:hover {background-color: #d4ebff;}#sk-container-id-2 div.sk-parallel-item::after {content: \"\";width: 100%;border-bottom: 1px solid gray;flex-grow: 1;}#sk-container-id-2 div.sk-label:hover label.sk-toggleable__label {background-color: #d4ebff;}#sk-container-id-2 div.sk-serial::before {content: \"\";position: absolute;border-left: 1px solid gray;box-sizing: border-box;top: 0;bottom: 0;left: 50%;z-index: 0;}#sk-container-id-2 div.sk-serial {display: flex;flex-direction: column;align-items: center;background-color: white;padding-right: 0.2em;padding-left: 0.2em;position: relative;}#sk-container-id-2 div.sk-item {position: relative;z-index: 1;}#sk-container-id-2 div.sk-parallel {display: flex;align-items: stretch;justify-content: center;background-color: white;position: relative;}#sk-container-id-2 div.sk-item::before, #sk-container-id-2 div.sk-parallel-item::before {content: \"\";position: absolute;border-left: 1px solid gray;box-sizing: border-box;top: 0;bottom: 0;left: 50%;z-index: -1;}#sk-container-id-2 div.sk-parallel-item {display: flex;flex-direction: column;z-index: 1;position: relative;background-color: white;}#sk-container-id-2 div.sk-parallel-item:first-child::after {align-self: flex-end;width: 50%;}#sk-container-id-2 div.sk-parallel-item:last-child::after {align-self: flex-start;width: 50%;}#sk-container-id-2 div.sk-parallel-item:only-child::after {width: 0;}#sk-container-id-2 div.sk-dashed-wrapped {border: 1px dashed gray;margin: 0 0.4em 0.5em 0.4em;box-sizing: border-box;padding-bottom: 0.4em;background-color: white;}#sk-container-id-2 div.sk-label label {font-family: monospace;font-weight: bold;display: inline-block;line-height: 1.2em;}#sk-container-id-2 div.sk-label-container {text-align: center;}#sk-container-id-2 div.sk-container {/* jupyter's `normalize.less` sets `[hidden] { display: none; }` but bootstrap.min.css set `[hidden] { display: none !important; }` so we also need the `!important` here to be able to override the default hidden behavior on the sphinx rendered scikit-learn.org. See: https://github.com/scikit-learn/scikit-learn/issues/21755 */display: inline-block !important;position: relative;}#sk-container-id-2 div.sk-text-repr-fallback {display: none;}</style><div id=\"sk-container-id-2\" class=\"sk-top-container\"><div class=\"sk-text-repr-fallback\"><pre>HistGradientBoostingClassifier(class_weight={0: 5.597444089456869,\n",
              "                                             1: 1.2175121612230715},\n",
              "                               learning_rate=0.001, max_depth=5, max_iter=5000,\n",
              "                               random_state=42)</pre><b>In a Jupyter environment, please rerun this cell to show the HTML representation or trust the notebook. <br />On GitHub, the HTML representation is unable to render, please try loading this page with nbviewer.org.</b></div><div class=\"sk-container\" hidden><div class=\"sk-item\"><div class=\"sk-estimator sk-toggleable\"><input class=\"sk-toggleable__control sk-hidden--visually\" id=\"sk-estimator-id-2\" type=\"checkbox\" checked><label for=\"sk-estimator-id-2\" class=\"sk-toggleable__label sk-toggleable__label-arrow\">HistGradientBoostingClassifier</label><div class=\"sk-toggleable__content\"><pre>HistGradientBoostingClassifier(class_weight={0: 5.597444089456869,\n",
              "                                             1: 1.2175121612230715},\n",
              "                               learning_rate=0.001, max_depth=5, max_iter=5000,\n",
              "                               random_state=42)</pre></div></div></div></div></div>"
            ],
            "text/plain": [
              "HistGradientBoostingClassifier(class_weight={0: 5.597444089456869,\n",
              "                                             1: 1.2175121612230715},\n",
              "                               learning_rate=0.001, max_depth=5, max_iter=5000,\n",
              "                               random_state=42)"
            ]
          },
          "execution_count": 28,
          "metadata": {},
          "output_type": "execute_result"
        }
      ],
      "source": [
        "binary_gbm = HistGradientBoostingClassifier(max_iter = 5000, learning_rate = 0.001,\n",
        "                                            max_depth = 5, max_leaf_nodes = 2 ** 5 - 1,\n",
        "                                            random_state=42,\n",
        "                                            class_weight={0: 1 / (Counter(data['SO2_above_0'])[0] / (Counter(data['SO2_above_0'])[1] + Counter(data['SO2_above_0'])[0])),\n",
        "                                                          1: 1 / (Counter(data['SO2_above_0'])[1] / (Counter(data['SO2_above_0'])[1] + Counter(data['SO2_above_0'])[0]))})\n",
        "binary_gbm.fit(X_train, y_train)"
      ]
    },
    {
      "cell_type": "code",
      "execution_count": null,
      "metadata": {
        "id": "E-7uIKBxdeoZ"
      },
      "outputs": [],
      "source": [
        "binary_preds_train = binary_gbm.predict(X_train)\n",
        "binary_preds_test = binary_gbm.predict(X_test)"
      ]
    },
    {
      "cell_type": "code",
      "execution_count": null,
      "metadata": {
        "colab": {
          "base_uri": "https://localhost:8080/"
        },
        "id": "tRyInBwC2GNn",
        "outputId": "e207fa95-2393-4c33-f5f0-c0f1d263dce6"
      },
      "outputs": [
        {
          "name": "stdout",
          "output_type": "stream",
          "text": [
            "              precision    recall  f1-score   support\n",
            "\n",
            "           0       0.65      0.97      0.78      1252\n",
            "           1       0.99      0.89      0.94      5756\n",
            "\n",
            "    accuracy                           0.90      7008\n",
            "   macro avg       0.82      0.93      0.86      7008\n",
            "weighted avg       0.93      0.90      0.91      7008\n",
            "\n"
          ]
        }
      ],
      "source": [
        "print(classification_report(y_train, binary_preds_train))"
      ]
    },
    {
      "cell_type": "code",
      "execution_count": null,
      "metadata": {
        "colab": {
          "base_uri": "https://localhost:8080/"
        },
        "id": "1u4PLOFs2GNt",
        "outputId": "1e94eca5-abff-4bd1-971b-c3379de9f9d7"
      },
      "outputs": [
        {
          "data": {
            "text/plain": [
              "array([[1218,   34],\n",
              "       [ 646, 5110]])"
            ]
          },
          "execution_count": 140,
          "metadata": {},
          "output_type": "execute_result"
        }
      ],
      "source": [
        "confusion_matrix(y_train, binary_preds_train)"
      ]
    },
    {
      "cell_type": "code",
      "execution_count": null,
      "metadata": {
        "colab": {
          "base_uri": "https://localhost:8080/"
        },
        "id": "mS360BFL2GNt",
        "outputId": "2ddf664b-1e44-4951-beb4-8e8c55ffc5e1"
      },
      "outputs": [
        {
          "name": "stdout",
          "output_type": "stream",
          "text": [
            "              precision    recall  f1-score   support\n",
            "\n",
            "           0       0.51      0.77      0.62       313\n",
            "           1       0.94      0.84      0.89      1439\n",
            "\n",
            "    accuracy                           0.83      1752\n",
            "   macro avg       0.73      0.81      0.75      1752\n",
            "weighted avg       0.87      0.83      0.84      1752\n",
            "\n"
          ]
        }
      ],
      "source": [
        "print(classification_report(y_test, binary_preds_test))"
      ]
    },
    {
      "cell_type": "code",
      "execution_count": null,
      "metadata": {
        "colab": {
          "base_uri": "https://localhost:8080/"
        },
        "id": "mtGXxspP2GNt",
        "outputId": "2db3e78c-0133-42cf-8368-786cfa8b6e43"
      },
      "outputs": [
        {
          "data": {
            "text/plain": [
              "array([[ 242,   71],\n",
              "       [ 230, 1209]])"
            ]
          },
          "execution_count": 142,
          "metadata": {},
          "output_type": "execute_result"
        }
      ],
      "source": [
        "confusion_matrix(y_test, binary_preds_test)"
      ]
    },
    {
      "cell_type": "markdown",
      "metadata": {
        "id": "EDp7w5tW9vq0"
      },
      "source": [
        "#####  **Daily Mean SO2 Regression (Cross-Validation):**"
      ]
    },
    {
      "cell_type": "code",
      "execution_count": null,
      "metadata": {
        "id": "E1pR9lEu9vq0"
      },
      "outputs": [],
      "source": [
        "endog = np.log(data[data['SO2_above_0'] == 1]['mean_so2'] + 0.001)\n",
        "scaler = StandardScaler().fit(data[data['SO2_above_0'] == 1].iloc[:,6:318])\n",
        "exog = np.concatenate((\n",
        "        scaler.transform(data[data['SO2_above_0'] == 1].iloc[:,6:318]),\n",
        "        data[data['SO2_above_0'] == 1].iloc[:,318:359],\n",
        "), axis = 1)\n",
        "group = data[data['SO2_above_0'] == 1]['id']\n",
        "\n",
        "X_train, X_test, y_train, y_test = train_test_split(exog, endog, test_size=0.2, random_state=42, stratify=group)"
      ]
    },
    {
      "cell_type": "code",
      "execution_count": null,
      "metadata": {
        "id": "G6GMquoV9vq1"
      },
      "outputs": [],
      "source": [
        "gbmlogmean = HistGradientBoostingRegressor(max_iter = 5000,\n",
        "                                           learning_rate = 0.001,\n",
        "                                           max_depth = 5,\n",
        "                                           max_leaf_nodes = 2 ** 5 - 1,\n",
        "                                           random_state=42)\n",
        "\n",
        "m1a, m2a, m3a, m4a, m5a, m6a, m7a, \\\n",
        "  m1b, m2b, m3b, m4b, m5b, m6b, m7b = cross_validate_fit_regression(gbmlogmean , X_train, y_train)"
      ]
    },
    {
      "cell_type": "code",
      "execution_count": null,
      "metadata": {
        "colab": {
          "base_uri": "https://localhost:8080/"
        },
        "id": "zVLqv7FO-PJp",
        "outputId": "ce9e8f47-504c-4f06-c161-13a075113e54"
      },
      "outputs": [
        {
          "name": "stdout",
          "output_type": "stream",
          "text": [
            "R2: 0.4516681437514468\n",
            "r: 0.6780875167875762\n",
            "MAE: 0.8753963710191138\n",
            "MedAE: 0.619042323135775\n",
            "MAE (original): 0.6370954662297749\n",
            "MedAE (original): 0.15566597208343286\n",
            "upper quartile (original): 0.39112558145850745\n"
          ]
        }
      ],
      "source": [
        "print(\"R2: \" + str(np.mean(m1a)))\n",
        "print(\"r: \" + str(np.mean(m2a)))\n",
        "print(\"MAE: \" + str(np.mean(m3a)))\n",
        "print(\"MedAE: \" + str(np.mean(m4a)))\n",
        "print(\"MAE (original): \" + str(np.mean(m5a)))\n",
        "print(\"MedAE (original): \" + str(np.mean(m6a)))\n",
        "print(\"upper quartile (original): \" + str(np.mean(m7a)))"
      ]
    },
    {
      "cell_type": "markdown",
      "metadata": {
        "id": "tGPzK4UL93SN"
      },
      "source": [
        "#####  **Daily Mean SO2 Regression (Training & Testing):**"
      ]
    },
    {
      "cell_type": "code",
      "execution_count": null,
      "metadata": {
        "colab": {
          "base_uri": "https://localhost:8080/",
          "height": 93
        },
        "id": "OYZUCJ7oeUM_",
        "outputId": "070356d3-95ac-471d-fba3-35766b384495"
      },
      "outputs": [
        {
          "data": {
            "text/html": [
              "<style>#sk-container-id-1 {color: black;}#sk-container-id-1 pre{padding: 0;}#sk-container-id-1 div.sk-toggleable {background-color: white;}#sk-container-id-1 label.sk-toggleable__label {cursor: pointer;display: block;width: 100%;margin-bottom: 0;padding: 0.3em;box-sizing: border-box;text-align: center;}#sk-container-id-1 label.sk-toggleable__label-arrow:before {content: \"▸\";float: left;margin-right: 0.25em;color: #696969;}#sk-container-id-1 label.sk-toggleable__label-arrow:hover:before {color: black;}#sk-container-id-1 div.sk-estimator:hover label.sk-toggleable__label-arrow:before {color: black;}#sk-container-id-1 div.sk-toggleable__content {max-height: 0;max-width: 0;overflow: hidden;text-align: left;background-color: #f0f8ff;}#sk-container-id-1 div.sk-toggleable__content pre {margin: 0.2em;color: black;border-radius: 0.25em;background-color: #f0f8ff;}#sk-container-id-1 input.sk-toggleable__control:checked~div.sk-toggleable__content {max-height: 200px;max-width: 100%;overflow: auto;}#sk-container-id-1 input.sk-toggleable__control:checked~label.sk-toggleable__label-arrow:before {content: \"▾\";}#sk-container-id-1 div.sk-estimator input.sk-toggleable__control:checked~label.sk-toggleable__label {background-color: #d4ebff;}#sk-container-id-1 div.sk-label input.sk-toggleable__control:checked~label.sk-toggleable__label {background-color: #d4ebff;}#sk-container-id-1 input.sk-hidden--visually {border: 0;clip: rect(1px 1px 1px 1px);clip: rect(1px, 1px, 1px, 1px);height: 1px;margin: -1px;overflow: hidden;padding: 0;position: absolute;width: 1px;}#sk-container-id-1 div.sk-estimator {font-family: monospace;background-color: #f0f8ff;border: 1px dotted black;border-radius: 0.25em;box-sizing: border-box;margin-bottom: 0.5em;}#sk-container-id-1 div.sk-estimator:hover {background-color: #d4ebff;}#sk-container-id-1 div.sk-parallel-item::after {content: \"\";width: 100%;border-bottom: 1px solid gray;flex-grow: 1;}#sk-container-id-1 div.sk-label:hover label.sk-toggleable__label {background-color: #d4ebff;}#sk-container-id-1 div.sk-serial::before {content: \"\";position: absolute;border-left: 1px solid gray;box-sizing: border-box;top: 0;bottom: 0;left: 50%;z-index: 0;}#sk-container-id-1 div.sk-serial {display: flex;flex-direction: column;align-items: center;background-color: white;padding-right: 0.2em;padding-left: 0.2em;position: relative;}#sk-container-id-1 div.sk-item {position: relative;z-index: 1;}#sk-container-id-1 div.sk-parallel {display: flex;align-items: stretch;justify-content: center;background-color: white;position: relative;}#sk-container-id-1 div.sk-item::before, #sk-container-id-1 div.sk-parallel-item::before {content: \"\";position: absolute;border-left: 1px solid gray;box-sizing: border-box;top: 0;bottom: 0;left: 50%;z-index: -1;}#sk-container-id-1 div.sk-parallel-item {display: flex;flex-direction: column;z-index: 1;position: relative;background-color: white;}#sk-container-id-1 div.sk-parallel-item:first-child::after {align-self: flex-end;width: 50%;}#sk-container-id-1 div.sk-parallel-item:last-child::after {align-self: flex-start;width: 50%;}#sk-container-id-1 div.sk-parallel-item:only-child::after {width: 0;}#sk-container-id-1 div.sk-dashed-wrapped {border: 1px dashed gray;margin: 0 0.4em 0.5em 0.4em;box-sizing: border-box;padding-bottom: 0.4em;background-color: white;}#sk-container-id-1 div.sk-label label {font-family: monospace;font-weight: bold;display: inline-block;line-height: 1.2em;}#sk-container-id-1 div.sk-label-container {text-align: center;}#sk-container-id-1 div.sk-container {/* jupyter's `normalize.less` sets `[hidden] { display: none; }` but bootstrap.min.css set `[hidden] { display: none !important; }` so we also need the `!important` here to be able to override the default hidden behavior on the sphinx rendered scikit-learn.org. See: https://github.com/scikit-learn/scikit-learn/issues/21755 */display: inline-block !important;position: relative;}#sk-container-id-1 div.sk-text-repr-fallback {display: none;}</style><div id=\"sk-container-id-1\" class=\"sk-top-container\"><div class=\"sk-text-repr-fallback\"><pre>HistGradientBoostingRegressor(learning_rate=0.001, max_depth=5, max_iter=5000,\n",
              "                              random_state=42)</pre><b>In a Jupyter environment, please rerun this cell to show the HTML representation or trust the notebook. <br />On GitHub, the HTML representation is unable to render, please try loading this page with nbviewer.org.</b></div><div class=\"sk-container\" hidden><div class=\"sk-item\"><div class=\"sk-estimator sk-toggleable\"><input class=\"sk-toggleable__control sk-hidden--visually\" id=\"sk-estimator-id-1\" type=\"checkbox\" checked><label for=\"sk-estimator-id-1\" class=\"sk-toggleable__label sk-toggleable__label-arrow\">HistGradientBoostingRegressor</label><div class=\"sk-toggleable__content\"><pre>HistGradientBoostingRegressor(learning_rate=0.001, max_depth=5, max_iter=5000,\n",
              "                              random_state=42)</pre></div></div></div></div></div>"
            ],
            "text/plain": [
              "HistGradientBoostingRegressor(learning_rate=0.001, max_depth=5, max_iter=5000,\n",
              "                              random_state=42)"
            ]
          },
          "execution_count": 21,
          "metadata": {},
          "output_type": "execute_result"
        }
      ],
      "source": [
        "gbmlogmean = HistGradientBoostingRegressor(max_iter = 5000, learning_rate = 0.001,\n",
        "                                           max_depth = 5, max_leaf_nodes = 2 ** 5 - 1,\n",
        "                                           random_state=42)\n",
        "gbmlogmean.fit(X_train, y_train)"
      ]
    },
    {
      "cell_type": "code",
      "execution_count": null,
      "metadata": {
        "id": "UoZdI51meUNM"
      },
      "outputs": [],
      "source": [
        "gbmlogmean_preds_train = gbmlogmean.predict(X_train)\n",
        "gbmlogmean_preds_test = gbmlogmean.predict(X_test)"
      ]
    },
    {
      "cell_type": "code",
      "execution_count": null,
      "metadata": {
        "colab": {
          "base_uri": "https://localhost:8080/"
        },
        "id": "0S0jbv_mgcWC",
        "outputId": "ebd3a347-8fac-49ae-ea51-957c3e7b3b2c"
      },
      "outputs": [
        {
          "name": "stdout",
          "output_type": "stream",
          "text": [
            "Train R2: 0.6289069325385701\n",
            "Train R: 0.8117141012503041\n",
            "Train MSE: 0.9651891491299863\n",
            "Train MAE: 0.7212546652950914\n",
            "Train MedAE: 0.5074834802975416\n",
            "Train MSE (original): 3.068219036822679\n",
            "Train MAE (original): 0.5526843964512465\n",
            "Train MedAE (original): 0.12449872296090819\n",
            "Train upper quartile (original): 0.3211331410126239\n",
            "\n",
            "\n",
            "Test R2: 0.4583985696755243\n",
            "Test R: 0.680966368681645\n",
            "Test MSE: 1.4670067596038778\n",
            "Test MAE: 0.8856843882159745\n",
            "Test MedAE: 0.6193564505781279\n",
            "Test MSE (original): 3.4382369691488037\n",
            "Test MAE (original): 0.6243305007070176\n",
            "Test MedAE (original): 0.147856852401518\n",
            "Test upper quartile (original): 0.40674268535485725\n"
          ]
        }
      ],
      "source": [
        "####  max_iter = 5000, learning_rate = 0.001, max_depth = 5, max_leaf_nodes = 2 ** 5 - 1\n",
        "####  v4:  decay_alpha = 0.1, station distance = 10 km,  standardization RS data + log-transformation SO2 data\n",
        "\n",
        "print(\"Train R2: \" + str(r2_score(y_train, gbmlogmean_preds_train)))\n",
        "print(\"Train R: \" + str(scipy.stats.pearsonr(np.array(y_train).flatten(), gbmlogmean_preds_train)[0]))\n",
        "print(\"Train MSE: \" + str(mean_squared_error(y_train, gbmlogmean_preds_train)))\n",
        "print(\"Train MAE: \" + str(mean_absolute_error(y_train, gbmlogmean_preds_train)))\n",
        "print(\"Train MedAE: \" + str(median_absolute_error(y_train, gbmlogmean_preds_train)))\n",
        "print(\"Train MSE (original): \" + str(mean_squared_error(np.exp(y_train) - 0.001, np.exp(gbmlogmean_preds_train) - 0.001)))\n",
        "print(\"Train MAE (original): \" + str(mean_absolute_error(np.exp(y_train) - 0.001, np.exp(gbmlogmean_preds_train) - 0.001)))\n",
        "print(\"Train MedAE (original): \" + str(median_absolute_error(np.exp(y_train) - 0.001, np.exp(gbmlogmean_preds_train) - 0.001)))\n",
        "print(\"Train upper quartile (original): \" + str(np.quantile(abs(np.exp(y_train) - np.exp(gbmlogmean_preds_train)), 0.75)))\n",
        "print(\"\\n\")\n",
        "print(\"Test R2: \" + str(r2_score(y_test, gbmlogmean_preds_test)))\n",
        "print(\"Test R: \" + str(scipy.stats.pearsonr(np.array(y_test).flatten(), gbmlogmean_preds_test)[0]))\n",
        "print(\"Test MSE: \" + str(mean_squared_error(y_test, gbmlogmean_preds_test)))\n",
        "print(\"Test MAE: \" + str(mean_absolute_error(y_test, gbmlogmean_preds_test)))\n",
        "print(\"Test MedAE: \" + str(median_absolute_error(y_test, gbmlogmean_preds_test)))\n",
        "print(\"Test MSE (original): \" + str(mean_squared_error(np.exp(y_test) - 0.001, np.exp(gbmlogmean_preds_test) - 0.001)))\n",
        "print(\"Test MAE (original): \" + str(mean_absolute_error(np.exp(y_test) - 0.001, np.exp(gbmlogmean_preds_test) - 0.001)))\n",
        "print(\"Test MedAE (original): \" + str(median_absolute_error(np.exp(y_test) - 0.001, np.exp(gbmlogmean_preds_test) - 0.001)))\n",
        "print(\"Test upper quartile (original): \" + str(np.quantile(abs(np.exp(y_test) - np.exp(gbmlogmean_preds_test)), 0.75)))"
      ]
    },
    {
      "cell_type": "markdown",
      "metadata": {
        "id": "q-dprpG--Vtm"
      },
      "source": [
        "#####  **Daily Max SO2 Regression (Cross-Validation):**"
      ]
    },
    {
      "cell_type": "code",
      "execution_count": null,
      "metadata": {
        "id": "GcWquqxd-bCS"
      },
      "outputs": [],
      "source": [
        "endog = np.log(data[data['SO2_above_0'] == 1]['max_so2'] + 0.001)\n",
        "scaler = StandardScaler().fit(data[data['SO2_above_0'] == 1].iloc[:,6:318])\n",
        "exog = np.concatenate((\n",
        "        scaler.transform(data[data['SO2_above_0'] == 1].iloc[:,6:318]),\n",
        "        data[data['SO2_above_0'] == 1].iloc[:,318:359],\n",
        "), axis = 1)\n",
        "group = data[data['SO2_above_0'] == 1]['id']\n",
        "\n",
        "X_train, X_test, y_train, y_test = train_test_split(exog, endog, test_size=0.2, random_state=42, stratify=group)"
      ]
    },
    {
      "cell_type": "code",
      "execution_count": null,
      "metadata": {
        "id": "WnlYmIyc-b1Z"
      },
      "outputs": [],
      "source": [
        "gbmlogmax = HistGradientBoostingRegressor(max_iter = 5000,\n",
        "                                          learning_rate = 0.001,\n",
        "                                          max_depth = 5,\n",
        "                                          max_leaf_nodes = 2 ** 5 - 1,\n",
        "                                          random_state=42)\n",
        "\n",
        "m1a, m2a, m3a, m4a, m5a, m6a, m7a, \\\n",
        "  m1b, m2b, m3b, m4b, m5b, m6b, m7b = cross_validate_fit_regression(gbmlogmean , X_train, y_train)"
      ]
    },
    {
      "cell_type": "code",
      "execution_count": null,
      "metadata": {
        "colab": {
          "base_uri": "https://localhost:8080/"
        },
        "id": "eqsRaoig9Fb9",
        "outputId": "af1ad6c8-c996-4672-d44b-97beab5b83b6"
      },
      "outputs": [
        {
          "name": "stdout",
          "output_type": "stream",
          "text": [
            "R2: 0.4354298986371301\n",
            "r: 0.6667809397371164\n",
            "MAE: 0.8777700081438207\n",
            "MedAE: 0.7014882666563196\n",
            "MAE (original): 3.051195567134058\n",
            "MedAE (original): 0.6703421032854444\n",
            "upper quartile (original): 2.066076048741021\n"
          ]
        }
      ],
      "source": [
        "print(\"R2: \" + str(np.mean(m1a)))\n",
        "print(\"r: \" + str(np.mean(m2a)))\n",
        "print(\"MAE: \" + str(np.mean(m3a)))\n",
        "print(\"MedAE: \" + str(np.mean(m4a)))\n",
        "print(\"MAE (original): \" + str(np.mean(m5a)))\n",
        "print(\"MedAE (original): \" + str(np.mean(m6a)))\n",
        "print(\"upper quartile (original): \" + str(np.mean(m7a)))"
      ]
    },
    {
      "cell_type": "markdown",
      "metadata": {
        "id": "V8vsCv60-r74"
      },
      "source": [
        "#####  **Daily Max SO2 Regression (Training & Testing):**"
      ]
    },
    {
      "cell_type": "code",
      "execution_count": null,
      "metadata": {
        "colab": {
          "base_uri": "https://localhost:8080/",
          "height": 93
        },
        "id": "NzrAP92cgyx8",
        "outputId": "a5528829-4630-4911-c232-2d7b18b47ce8"
      },
      "outputs": [
        {
          "data": {
            "text/html": [
              "<style>#sk-container-id-2 {color: black;}#sk-container-id-2 pre{padding: 0;}#sk-container-id-2 div.sk-toggleable {background-color: white;}#sk-container-id-2 label.sk-toggleable__label {cursor: pointer;display: block;width: 100%;margin-bottom: 0;padding: 0.3em;box-sizing: border-box;text-align: center;}#sk-container-id-2 label.sk-toggleable__label-arrow:before {content: \"▸\";float: left;margin-right: 0.25em;color: #696969;}#sk-container-id-2 label.sk-toggleable__label-arrow:hover:before {color: black;}#sk-container-id-2 div.sk-estimator:hover label.sk-toggleable__label-arrow:before {color: black;}#sk-container-id-2 div.sk-toggleable__content {max-height: 0;max-width: 0;overflow: hidden;text-align: left;background-color: #f0f8ff;}#sk-container-id-2 div.sk-toggleable__content pre {margin: 0.2em;color: black;border-radius: 0.25em;background-color: #f0f8ff;}#sk-container-id-2 input.sk-toggleable__control:checked~div.sk-toggleable__content {max-height: 200px;max-width: 100%;overflow: auto;}#sk-container-id-2 input.sk-toggleable__control:checked~label.sk-toggleable__label-arrow:before {content: \"▾\";}#sk-container-id-2 div.sk-estimator input.sk-toggleable__control:checked~label.sk-toggleable__label {background-color: #d4ebff;}#sk-container-id-2 div.sk-label input.sk-toggleable__control:checked~label.sk-toggleable__label {background-color: #d4ebff;}#sk-container-id-2 input.sk-hidden--visually {border: 0;clip: rect(1px 1px 1px 1px);clip: rect(1px, 1px, 1px, 1px);height: 1px;margin: -1px;overflow: hidden;padding: 0;position: absolute;width: 1px;}#sk-container-id-2 div.sk-estimator {font-family: monospace;background-color: #f0f8ff;border: 1px dotted black;border-radius: 0.25em;box-sizing: border-box;margin-bottom: 0.5em;}#sk-container-id-2 div.sk-estimator:hover {background-color: #d4ebff;}#sk-container-id-2 div.sk-parallel-item::after {content: \"\";width: 100%;border-bottom: 1px solid gray;flex-grow: 1;}#sk-container-id-2 div.sk-label:hover label.sk-toggleable__label {background-color: #d4ebff;}#sk-container-id-2 div.sk-serial::before {content: \"\";position: absolute;border-left: 1px solid gray;box-sizing: border-box;top: 0;bottom: 0;left: 50%;z-index: 0;}#sk-container-id-2 div.sk-serial {display: flex;flex-direction: column;align-items: center;background-color: white;padding-right: 0.2em;padding-left: 0.2em;position: relative;}#sk-container-id-2 div.sk-item {position: relative;z-index: 1;}#sk-container-id-2 div.sk-parallel {display: flex;align-items: stretch;justify-content: center;background-color: white;position: relative;}#sk-container-id-2 div.sk-item::before, #sk-container-id-2 div.sk-parallel-item::before {content: \"\";position: absolute;border-left: 1px solid gray;box-sizing: border-box;top: 0;bottom: 0;left: 50%;z-index: -1;}#sk-container-id-2 div.sk-parallel-item {display: flex;flex-direction: column;z-index: 1;position: relative;background-color: white;}#sk-container-id-2 div.sk-parallel-item:first-child::after {align-self: flex-end;width: 50%;}#sk-container-id-2 div.sk-parallel-item:last-child::after {align-self: flex-start;width: 50%;}#sk-container-id-2 div.sk-parallel-item:only-child::after {width: 0;}#sk-container-id-2 div.sk-dashed-wrapped {border: 1px dashed gray;margin: 0 0.4em 0.5em 0.4em;box-sizing: border-box;padding-bottom: 0.4em;background-color: white;}#sk-container-id-2 div.sk-label label {font-family: monospace;font-weight: bold;display: inline-block;line-height: 1.2em;}#sk-container-id-2 div.sk-label-container {text-align: center;}#sk-container-id-2 div.sk-container {/* jupyter's `normalize.less` sets `[hidden] { display: none; }` but bootstrap.min.css set `[hidden] { display: none !important; }` so we also need the `!important` here to be able to override the default hidden behavior on the sphinx rendered scikit-learn.org. See: https://github.com/scikit-learn/scikit-learn/issues/21755 */display: inline-block !important;position: relative;}#sk-container-id-2 div.sk-text-repr-fallback {display: none;}</style><div id=\"sk-container-id-2\" class=\"sk-top-container\"><div class=\"sk-text-repr-fallback\"><pre>HistGradientBoostingRegressor(learning_rate=0.001, max_depth=5, max_iter=5000,\n",
              "                              random_state=42)</pre><b>In a Jupyter environment, please rerun this cell to show the HTML representation or trust the notebook. <br />On GitHub, the HTML representation is unable to render, please try loading this page with nbviewer.org.</b></div><div class=\"sk-container\" hidden><div class=\"sk-item\"><div class=\"sk-estimator sk-toggleable\"><input class=\"sk-toggleable__control sk-hidden--visually\" id=\"sk-estimator-id-2\" type=\"checkbox\" checked><label for=\"sk-estimator-id-2\" class=\"sk-toggleable__label sk-toggleable__label-arrow\">HistGradientBoostingRegressor</label><div class=\"sk-toggleable__content\"><pre>HistGradientBoostingRegressor(learning_rate=0.001, max_depth=5, max_iter=5000,\n",
              "                              random_state=42)</pre></div></div></div></div></div>"
            ],
            "text/plain": [
              "HistGradientBoostingRegressor(learning_rate=0.001, max_depth=5, max_iter=5000,\n",
              "                              random_state=42)"
            ]
          },
          "execution_count": 28,
          "metadata": {},
          "output_type": "execute_result"
        }
      ],
      "source": [
        "gbmlogmax = HistGradientBoostingRegressor(max_iter = 5000, learning_rate = 0.001,\n",
        "                                          max_depth = 5, max_leaf_nodes = 2 ** 5 - 1,\n",
        "                                          random_state=42)\n",
        "gbmlogmax.fit(X_train, y_train)"
      ]
    },
    {
      "cell_type": "code",
      "execution_count": null,
      "metadata": {
        "id": "ReaSRWhxgyyN"
      },
      "outputs": [],
      "source": [
        "gbmlogmax_preds_train = gbmlogmax.predict(X_train)\n",
        "gbmlogmax_preds_test = gbmlogmax.predict(X_test)"
      ]
    },
    {
      "cell_type": "code",
      "execution_count": null,
      "metadata": {
        "colab": {
          "base_uri": "https://localhost:8080/"
        },
        "id": "pjCAkdkChhpK",
        "outputId": "9c03b380-4929-47b5-c41f-63f395e15b0d"
      },
      "outputs": [
        {
          "name": "stdout",
          "output_type": "stream",
          "text": [
            "Train R2: 0.6161712019903938\n",
            "Train R: 0.8062346926606283\n",
            "Train MSE: 0.8836386014290316\n",
            "Train MAE: 0.7264585065666358\n",
            "Train MedAE: 0.578059123347066\n",
            "Train MSE (original): 92.22006696352874\n",
            "Train MAE (original): 2.687982191918779\n",
            "Train MedAE (original): 0.5226432617851546\n",
            "Train upper quartile (original): 1.5943047736903757\n",
            "\n",
            "\n",
            "Test R2: 0.4349923916982371\n",
            "Test R: 0.663623977058623\n",
            "Test MSE: 1.315761658739171\n",
            "Test MAE: 0.893742649699439\n",
            "Test MedAE: 0.7354111383772052\n",
            "Test MSE (original): 125.03010399048397\n",
            "Test MAE (original): 3.0245378791448645\n",
            "Test MedAE (original): 0.6916314552187157\n",
            "Test upper quartile (original): 1.8216257959085151\n"
          ]
        }
      ],
      "source": [
        "print(\"Train R2: \" + str(r2_score(y_train, gbmlogmax_preds_train)))\n",
        "print(\"Train R: \" + str(scipy.stats.pearsonr(np.array(y_train).flatten(), gbmlogmax_preds_train)[0]))\n",
        "print(\"Train MSE: \" + str(mean_squared_error(y_train, gbmlogmax_preds_train)))\n",
        "print(\"Train MAE: \" + str(mean_absolute_error(y_train, gbmlogmax_preds_train)))\n",
        "print(\"Train MedAE: \" + str(median_absolute_error(y_train, gbmlogmax_preds_train)))\n",
        "print(\"Train MSE (original): \" + str(mean_squared_error(np.exp(y_train) - 0.001, np.exp(gbmlogmax_preds_train) - 0.001)))\n",
        "print(\"Train MAE (original): \" + str(mean_absolute_error(np.exp(y_train) - 0.001, np.exp(gbmlogmax_preds_train) - 0.001)))\n",
        "print(\"Train MedAE (original): \" + str(median_absolute_error(np.exp(y_train) - 0.001, np.exp(gbmlogmax_preds_train) - 0.001)))\n",
        "print(\"Train upper quartile (original): \" + str(np.quantile(abs(np.exp(y_train) - np.exp(gbmlogmax_preds_train)), 0.75)))\n",
        "print(\"\\n\")\n",
        "print(\"Test R2: \" + str(r2_score(y_test, gbmlogmax_preds_test)))\n",
        "print(\"Test R: \" + str(scipy.stats.pearsonr(np.array(y_test).flatten(), gbmlogmax_preds_test)[0]))\n",
        "print(\"Test MSE: \" + str(mean_squared_error(y_test, gbmlogmax_preds_test)))\n",
        "print(\"Test MAE: \" + str(mean_absolute_error(y_test, gbmlogmax_preds_test)))\n",
        "print(\"Test MedAE: \" + str(median_absolute_error(y_test, gbmlogmax_preds_test)))\n",
        "print(\"Test MSE (original): \" + str(mean_squared_error(np.exp(y_test) - 0.001, np.exp(gbmlogmax_preds_test) - 0.001)))\n",
        "print(\"Test MAE (original): \" + str(mean_absolute_error(np.exp(y_test) - 0.001, np.exp(gbmlogmax_preds_test) - 0.001)))\n",
        "print(\"Test MedAE (original): \" + str(median_absolute_error(np.exp(y_test) - 0.001, np.exp(gbmlogmax_preds_test) - 0.001)))\n",
        "print(\"Test upper quartile (original): \" + str(np.quantile(abs(np.exp(y_test) - np.exp(gbmlogmax_preds_test)), 0.75)))"
      ]
    }
  ],
  "metadata": {
    "colab": {
      "provenance": []
    },
    "kernelspec": {
      "display_name": "Python 3",
      "name": "python3"
    },
    "language_info": {
      "name": "python"
    }
  },
  "nbformat": 4,
  "nbformat_minor": 0
}
