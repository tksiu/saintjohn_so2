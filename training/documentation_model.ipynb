{
  "cells": [
    {
      "cell_type": "code",
      "execution_count": null,
      "metadata": {
        "id": "GF-HSYtZclDM"
      },
      "outputs": [],
      "source": [
        "from lightgbm import LGBMClassifier, LGBMRegressor\n",
        "from sklearn.ensemble import HistGradientBoostingRegressor, HistGradientBoostingClassifier\n",
        "from sklearn.linear_model import Lasso\n",
        "from sklearn.linear_model import LogisticRegression\n",
        "from sklearn.impute import KNNImputer\n",
        "from sklearn.pipeline import Pipeline\n",
        "from sklearn.metrics import mean_absolute_error, mean_squared_error, median_absolute_error, r2_score\n",
        "from sklearn.metrics import accuracy_score, recall_score, precision_score, f1_score\n",
        "from sklearn.metrics import classification_report, confusion_matrix\n",
        "from sklearn.model_selection import train_test_split\n",
        "from sklearn.model_selection import cross_val_score\n",
        "from sklearn.model_selection import KFold\n",
        "from sklearn.preprocessing import StandardScaler\n",
        "from collections import Counter"
      ]
    },
    {
      "cell_type": "code",
      "execution_count": null,
      "metadata": {
        "id": "hiyH6aPqI-j4"
      },
      "outputs": [],
      "source": [
        "import math\n",
        "import scipy\n",
        "import shapely\n",
        "import datetime\n",
        "import scipy\n",
        "import numpy as np\n",
        "import pandas as pd\n",
        "import geopandas as gpd"
      ]
    },
    {
      "cell_type": "code",
      "execution_count": null,
      "metadata": {
        "id": "ciQRIrmSJAVX"
      },
      "outputs": [],
      "source": [
        "import warnings\n",
        "warnings.filterwarnings('ignore')"
      ]
    },
    {
      "cell_type": "code",
      "execution_count": null,
      "metadata": {
        "id": "Hq_ljxn7JAtB"
      },
      "outputs": [],
      "source": [
        "data = pd.read_pickle(f\"/content/drive/MyDrive/training_data_grids_final.pkl\")\n",
        "data_lags_nn_queen_less_rook = pd.read_pickle(f\"/content/drive/MyDrive/training_data_grids_nn_queen_less_rook.pkl\")\n",
        "data_lags_nn_rook = pd.read_pickle(f\"/content/drive/MyDrive/training_data_grids_nn_rook.pkl\")\n",
        "\n",
        "data = data.drop([x for x in data.columns if 'neighb' in x or 'edge' in x or 'geom' in x], axis=1)\n",
        "data = pd.concat([data[[c for c in data.columns if \"nn\" not in c]], data_lags_nn_queen_less_rook, data_lags_nn_rook], axis=1)"
      ]
    },
    {
      "cell_type": "code",
      "execution_count": null,
      "metadata": {
        "colab": {
          "base_uri": "https://localhost:8080/"
        },
        "id": "sZUN6Kqgrp00",
        "outputId": "87772a4e-790b-4725-bd82-3bcd366a1640"
      },
      "outputs": [
        {
          "data": {
            "text/plain": [
              "(8760, 318)"
            ]
          },
          "execution_count": 16,
          "metadata": {},
          "output_type": "execute_result"
        }
      ],
      "source": [
        "data.shape"
      ]
    },
    {
      "cell_type": "code",
      "execution_count": null,
      "metadata": {
        "id": "7P444lRxLw4x"
      },
      "outputs": [],
      "source": [
        "data['day'] = data['time'].apply(lambda x: x.day)\n",
        "data['day_of_year'] = data['time'].apply(lambda x: x.timetuple().tm_yday)\n",
        "data['month'] = data['time'].apply(lambda x: x.month)\n",
        "data['week'] = data['time'].apply(lambda x: x.isocalendar()[1])\n",
        "data['weekday'] = data['time'].apply(lambda x: x.weekday())"
      ]
    },
    {
      "cell_type": "code",
      "execution_count": null,
      "metadata": {
        "id": "lx_n2vcQT-Ny"
      },
      "outputs": [],
      "source": [
        "##  monitoring stations\n",
        "grid_stations = gpd.read_file(f\"/content/drive/MyDrive/training_data_grid_stations.shp\")\n",
        "##  outcome of SO2 data\n",
        "out_so2 = pd.read_pickle(f\"/content/drive/MyDrive/training_data_out_so2.pkl\")"
      ]
    },
    {
      "cell_type": "code",
      "execution_count": null,
      "metadata": {
        "id": "jUpbndyVVInB"
      },
      "outputs": [],
      "source": [
        "def dist(x, y):\n",
        "    lat1 = math.radians(x[0])\n",
        "    lon1 = math.radians(x[1])\n",
        "    lat2 = math.radians(y[0])\n",
        "    lon2 = math.radians(y[1])\n",
        "    R = 6373.0\n",
        "    dlon = lon2 - lon1\n",
        "    dlat = lat2 - lat1\n",
        "    a = math.sin(dlat / 2) ** 2 + math.cos(lat1) * math.cos(lat2) * math.sin(dlon / 2) ** 2\n",
        "    c = 2 * math.atan2(math.sqrt(a), math.sqrt(1 - a))\n",
        "    distance = R * c\n",
        "    return round(distance, 4)"
      ]
    },
    {
      "cell_type": "code",
      "execution_count": null,
      "metadata": {
        "id": "J9kEQ_-tN92H"
      },
      "outputs": [],
      "source": [
        "##  Create Lagged Features of Surface Monitored SO2  ##\n",
        "\n",
        "weighted_so2 = []\n",
        "var_list = ['min_so2','mean_so2','max_so2',\n",
        "            'min_so2_4hr','mean_so2_4hr','max_so2_4hr',\n",
        "            'min_so2_8hr','mean_so2_8hr','max_so2_8hr',\n",
        "            'min_so2_12hr','mean_so2_12hr','max_so2_12hr',\n",
        "            'min_so2_24hr','mean_so2_24hr','max_so2_24hr',\n",
        "            'min_so2_48hr','mean_so2_48hr','max_so2_48hr']\n",
        "\n",
        "decay_factor = 0.1      #  multiplier to control the rate of exponential decay by distance\n",
        "\n",
        "for n in range(data[['id','lon','lat']].drop_duplicates().shape[0]):\n",
        "\n",
        "    #  generate distance matrix between stations\n",
        "\n",
        "    tem = data[['id','lon','lat']].drop_duplicates().iloc[n]\n",
        "    tem_coords_ref = tem[['lat','lon']].values.tolist()\n",
        "    distances = [dist(tem_coords_ref, z) for z in grid_stations[['latitude','longitude']].values.tolist()]\n",
        "    tem_dist = pd.DataFrame({\"id\": grid_stations[\"id_right\"].values.tolist(), \n",
        "                             \"station_name\": grid_stations[\"station_name\"].values.tolist(), \n",
        "                             \"distances\": distances})\n",
        "\n",
        "    #  include influence from nearby stations within a 10 km buffer,\n",
        "    #  exclude the in-situ / local-grid station to prevent data leakage in modelling\n",
        "\n",
        "    tem_dist = tem_dist[tem_dist['distances'] <= 10]\n",
        "    tem_leak = tem_dist[tem_dist['distances'] <= np.sqrt(0.275**2 + 0.275**2)]\n",
        "\n",
        "    if tem_dist.shape[0] > 0:\n",
        "\n",
        "        #  compute inverse-distance weighting for the influence (SO2 monitored observations) from nearby stations (spatial lags)\n",
        "\n",
        "        tem_dist['weighting'] = 1 / (tem_dist['distances'] / tem_dist['distances'].sum())\n",
        "        tem_dist['weighting'] = tem_dist['weighting'] / tem_dist['weighting'].sum()\n",
        "        tem_out_so2 = out_so2.merge(tem_dist, left_on = ['station_name','id_right'], right_on = ['station_name','id'], how=\"inner\")\n",
        "\n",
        "        if tem_leak.shape[0] > 0:\n",
        "            tem_out_so2['min_so2'] = tem_out_so2.apply(lambda x: x['min_so2'] if x['station_name'] != tem_leak['station_name'].values[0] else np.nan, axis=1)\n",
        "            tem_out_so2['mean_so2'] = tem_out_so2.apply(lambda x: x['mean_so2'] if x['station_name'] != tem_leak['station_name'].values[0] else np.nan, axis=1)\n",
        "            tem_out_so2['max_so2'] = tem_out_so2.apply(lambda x: x['max_so2'] if x['station_name'] != tem_leak['station_name'].values[0] else np.nan, axis=1)\n",
        "\n",
        "        for var in var_list:\n",
        "            tem_out_so2['weighted_' + var] = tem_out_so2[var] * tem_out_so2['weighting']\n",
        "\n",
        "        tem_out_so2_agg = tem_out_so2.groupby([\"day_time\"]).agg({k: [np.nansum] for k in ['weighted_' + x for x in var_list]}).reset_index()\n",
        "        tem_out_so2_agg.columns = [\"time\"] + ['weighted_' + x for x in var_list]\n",
        "\n",
        "        #  apply log-transformation to the SO2 data\n",
        "        #  apply exponential decay function by distance to the SO2 data, hence influence from stations farther away will diminish\n",
        "\n",
        "        for var in var_list:\n",
        "            tem_out_so2_agg['weighted_' + var] = np.log(tem_out_so2_agg['weighted_' + var] + 0.001)\n",
        "            tem_out_so2_agg['weighted_' + var] = tem_out_so2_agg['weighted_' + var] * np.exp(-1 * decay_factor * tem_dist['distances'].min())\n",
        "\n",
        "        tem_out_so2_agg['id'] = data['id'].drop_duplicates().iloc[n]\n",
        "\n",
        "        #  create temporal lags for monitored SO2 at local-grid station up to past 6 days\n",
        "\n",
        "        for lags in range(6):\n",
        "            tem_out_so2_agg['weighted_min_so2_lag_' + str(lags+1)] = tem_out_so2_agg['weighted_min_so2'].shift(lags+1)\n",
        "            tem_out_so2_agg['weighted_mean_so2_lag_' + str(lags+1)] = tem_out_so2_agg['weighted_mean_so2'].shift(lags+1)\n",
        "            tem_out_so2_agg['weighted_max_so2_lag_' + str(lags+1)] = tem_out_so2_agg['weighted_max_so2'].shift(lags+1)\n",
        "\n",
        "        tem_out_so2_agg = tem_out_so2_agg[tem_out_so2_agg['time'] >= datetime.datetime.date(datetime.datetime.strptime('2022-01-01', \"%Y-%m-%d\"))]\n",
        "\n",
        "        weighted_so2.append(tem_out_so2_agg)\n",
        "\n",
        "weighted_so2 = pd.concat(weighted_so2)\n",
        "\n",
        "data = data.merge(weighted_so2, on=['id','time'], how='left')"
      ]
    },
    {
      "cell_type": "code",
      "execution_count": null,
      "metadata": {
        "id": "GUhzW_1fWx28"
      },
      "outputs": [],
      "source": [
        "##  binary outcome variable for SO2-clean vs SO2-polluted days\n",
        "data['SO2_above_0'] = data['mean_so2'].apply(lambda x: 0 if x == 0 else 1)"
      ]
    },
    {
      "cell_type": "code",
      "execution_count": null,
      "metadata": {
        "colab": {
          "base_uri": "https://localhost:8080/"
        },
        "id": "NmOIIIX_W1HU",
        "outputId": "d4594700-5727-447c-921e-d80c91d68ff9"
      },
      "outputs": [
        {
          "data": {
            "text/plain": [
              "(8760, 360)"
            ]
          },
          "execution_count": 36,
          "metadata": {},
          "output_type": "execute_result"
        }
      ],
      "source": [
        "data.shape"
      ]
    },
    {
      "cell_type": "code",
      "execution_count": null,
      "metadata": {
        "id": "4A5dxx_Rrkz1"
      },
      "outputs": [],
      "source": [
        "def cross_validate_fit_binary_classification(model, X_train, y_train):\n",
        "\n",
        "    accuracy = []\n",
        "    precision = []\n",
        "    recall = []\n",
        "    f1score = []\n",
        "\n",
        "    kf = KFold(n_splits=10, random_state=42, shuffle=True)\n",
        "    for i, (train_index, test_index) in enumerate(kf.split(X_train)):\n",
        "        X_train_cv, y_train_cv = X_train[train_index], y_train.values[train_index]\n",
        "        X_test_cv, y_test_cv = X_train[test_index], y_train.values[test_index]\n",
        "\n",
        "        model.fit(X_train, y_train)\n",
        "\n",
        "        binary_preds_train = model.predict(X_train_cv)\n",
        "        binary_preds_test = model.predict(X_test_cv)\n",
        "\n",
        "        m1 = (accuracy_score(y_test_cv, binary_preds_test), accuracy_score(y_train_cv, binary_preds_train))\n",
        "        m2 = (precision_score(y_test_cv, binary_preds_test, average=\"weighted\"), precision_score(y_train_cv, binary_preds_train, average=\"weighted\"))\n",
        "        m3 = (recall_score(y_test_cv, binary_preds_test, average=\"weighted\"), recall_score(y_train_cv, binary_preds_train, average=\"weighted\"))\n",
        "        m4 = (f1_score(y_test_cv, binary_preds_test, average=\"weighted\"), f1_score(y_train_cv, binary_preds_train, average=\"weighted\"))\n",
        "\n",
        "        accuracy.append(m1)\n",
        "        precision.append(m2)\n",
        "        recall.append(m3)\n",
        "        f1score.append(m4)\n",
        "\n",
        "    return accuracy, precision, recall, f1score"
      ]
    },
    {
      "cell_type": "code",
      "execution_count": null,
      "metadata": {
        "id": "2xPS7RtbsYyr"
      },
      "outputs": [],
      "source": [
        "def cross_validate_fit_regression(model, X_train, y_train):\n",
        "\n",
        "    m1a, m2a, m3a, m4a, m5a, m6a, m7a = [], [], [], [], [], [], []\n",
        "    m1b, m2b, m3b, m4b, m5b, m6b, m7b = [], [], [], [], [], [], []\n",
        "\n",
        "    kf = KFold(n_splits=10, random_state=42, shuffle=True)\n",
        "    for i, (train_index, test_index) in enumerate(kf.split(X_train)):\n",
        "        X_train_cv, y_train_cv = X_train[train_index], y_train.values[train_index]\n",
        "        X_test_cv, y_test_cv = X_train[test_index], y_train.values[test_index]\n",
        "\n",
        "        model.fit(X_train, y_train)\n",
        "\n",
        "        gbmlogmean_preds_train = model.predict(X_train_cv)\n",
        "        gbmlogmean_preds_test = model.predict(X_test_cv)\n",
        "\n",
        "        print(\"Train R2: \" + str(r2_score(y_train_cv, gbmlogmean_preds_train)))\n",
        "        print(\"Train R: \" + str(scipy.stats.pearsonr(np.array(y_train_cv).flatten(), gbmlogmean_preds_train)[0]))\n",
        "        print(\"Train MAE: \" + str(mean_absolute_error(y_train_cv, gbmlogmean_preds_train)))\n",
        "        print(\"Train MedAE: \" + str(median_absolute_error(y_train_cv, gbmlogmean_preds_train)))\n",
        "        print(\"Train MAE (original): \" + str(mean_absolute_error(np.exp(y_train_cv) - 0.001, np.exp(gbmlogmean_preds_train) - 0.001)))\n",
        "        print(\"Train MedAE (original): \" + str(median_absolute_error(np.exp(y_train_cv) - 0.001, np.exp(gbmlogmean_preds_train) - 0.001)))\n",
        "        print(\"Train upper quartile (original): \" + str(np.quantile(abs(np.exp(y_train_cv) - np.exp(gbmlogmean_preds_train)), 0.75)))\n",
        "        print(\"\\n\")\n",
        "        print(\"Test R2: \" + str(r2_score(y_test_cv, gbmlogmean_preds_test)))\n",
        "        print(\"Test R: \" + str(scipy.stats.pearsonr(np.array(y_test_cv).flatten(), gbmlogmean_preds_test)[0]))\n",
        "        print(\"Test MAE: \" + str(mean_absolute_error(y_test_cv, gbmlogmean_preds_test)))\n",
        "        print(\"Test MedAE: \" + str(median_absolute_error(y_test_cv, gbmlogmean_preds_test)))\n",
        "        print(\"Test MAE (original): \" + str(mean_absolute_error(np.exp(y_test_cv) - 0.001, np.exp(gbmlogmean_preds_test) - 0.001)))\n",
        "        print(\"Test MedAE (original): \" + str(median_absolute_error(np.exp(y_test_cv) - 0.001, np.exp(gbmlogmean_preds_test) - 0.001)))\n",
        "        print(\"Test upper quartile (original): \" + str(np.quantile(abs(np.exp(y_test_cv) - np.exp(gbmlogmean_preds_test)), 0.75)))\n",
        "        print(\"\\n\")\n",
        "\n",
        "        m1a.append(r2_score(y_test_cv, gbmlogmean_preds_test))\n",
        "        m2a.append(scipy.stats.pearsonr(np.array(y_test_cv).flatten(), gbmlogmean_preds_test)[0])\n",
        "        m3a.append(mean_absolute_error(y_test_cv, gbmlogmean_preds_test))\n",
        "        m4a.append(median_absolute_error(y_test_cv, gbmlogmean_preds_test))\n",
        "        m5a.append(mean_absolute_error(np.exp(y_test_cv) - 0.001, np.exp(gbmlogmean_preds_test) - 0.001))\n",
        "        m6a.append(median_absolute_error(np.exp(y_test_cv) - 0.001, np.exp(gbmlogmean_preds_test) - 0.001))\n",
        "        m7a.append(np.quantile(abs(np.exp(y_test_cv) - np.exp(gbmlogmean_preds_test)), 0.75))\n",
        "\n",
        "        m1b.append(r2_score(y_train_cv, gbmlogmean_preds_train))\n",
        "        m2b.append(scipy.stats.pearsonr(np.array(y_train_cv).flatten(), gbmlogmean_preds_train)[0])\n",
        "        m3b.append(mean_absolute_error(y_train_cv, gbmlogmean_preds_train))\n",
        "        m4b.append(median_absolute_error(y_train_cv, gbmlogmean_preds_train))\n",
        "        m5b.append(mean_absolute_error(np.exp(y_train_cv) - 0.001, np.exp(gbmlogmean_preds_train) - 0.001))\n",
        "        m6b.append(median_absolute_error(np.exp(y_train_cv) - 0.001, np.exp(gbmlogmean_preds_train) - 0.001))\n",
        "        m7b.append(np.quantile(abs(np.exp(y_train_cv) - np.exp(gbmlogmean_preds_train)), 0.75))\n",
        "\n",
        "    return m1a, m2a, m3a, m4a, m5a, m6a, m7a, \\\n",
        "            m1b, m2b, m3b, m4b, m5b, m6b, m7b"
      ]
    },
    {
      "cell_type": "markdown",
      "metadata": {
        "id": "j9MDJIE7kApg"
      },
      "source": [
        "####  **CONTROL 1) Lasso Regression： only Meteorological and Land-Use Land-Cover features**"
      ]
    },
    {
      "cell_type": "markdown",
      "metadata": {
        "id": "CXfAYzsPq7To"
      },
      "source": [
        "#####  **Binary Classification (Cross-Validation):**"
      ]
    },
    {
      "cell_type": "code",
      "execution_count": null,
      "metadata": {
        "id": "VGNiAW6fkFut"
      },
      "outputs": [],
      "source": [
        "y = data['SO2_above_0']\n",
        "X = data.iloc[:,6:323]\n",
        "\n",
        "X_train, X_test, y_train, y_test = train_test_split(X, y, test_size=0.2, random_state=42, stratify=y)"
      ]
    },
    {
      "cell_type": "code",
      "execution_count": null,
      "metadata": {
        "id": "zPSXFAcWsLiq"
      },
      "outputs": [],
      "source": [
        "lasso_logistic = Pipeline([(\"imputer\", KNNImputer(n_neighbors=4, weights='uniform')),\n",
        "                           (\"regressor\", LogisticRegression(penalty='l1', solver='liblinear'))])\n",
        "\n",
        "accuracy, precision, recall, f1score = cross_validate_fit_binary_classification(lasso_logistic , X_train, y_train)"
      ]
    },
    {
      "cell_type": "code",
      "execution_count": null,
      "metadata": {
        "colab": {
          "base_uri": "https://localhost:8080/"
        },
        "id": "08YDnrebtDcG",
        "outputId": "a725e301-3141-4dde-f079-adf942547cf3"
      },
      "outputs": [
        {
          "name": "stdout",
          "output_type": "stream",
          "text": [
            "0.8296254330548198\n",
            "0.7984864869667627\n",
            "0.8296254330548198\n",
            "0.7980414422186178\n"
          ]
        }
      ],
      "source": [
        "print(np.mean([accuracy[n][0] for n in range(10)]))\n",
        "print(np.mean([precision[n][0] for n in range(10)]))\n",
        "print(np.mean([recall[n][0] for n in range(10)]))\n",
        "print(np.mean([f1score[n][0] for n in range(10)]))"
      ]
    },
    {
      "cell_type": "markdown",
      "metadata": {
        "id": "mpWP-SPNqOgX"
      },
      "source": [
        "#####  **Binary Classification (Training & Testing):**"
      ]
    },
    {
      "cell_type": "code",
      "execution_count": null,
      "metadata": {
        "colab": {
          "base_uri": "https://localhost:8080/",
          "height": 128
        },
        "id": "_XJg-kgEMwqU",
        "outputId": "f6cb0788-3d9e-4a81-9b2c-c28c3784d8c4"
      },
      "outputs": [
        {
          "data": {
            "text/html": [
              "<style>#sk-container-id-4 {color: black;}#sk-container-id-4 pre{padding: 0;}#sk-container-id-4 div.sk-toggleable {background-color: white;}#sk-container-id-4 label.sk-toggleable__label {cursor: pointer;display: block;width: 100%;margin-bottom: 0;padding: 0.3em;box-sizing: border-box;text-align: center;}#sk-container-id-4 label.sk-toggleable__label-arrow:before {content: \"▸\";float: left;margin-right: 0.25em;color: #696969;}#sk-container-id-4 label.sk-toggleable__label-arrow:hover:before {color: black;}#sk-container-id-4 div.sk-estimator:hover label.sk-toggleable__label-arrow:before {color: black;}#sk-container-id-4 div.sk-toggleable__content {max-height: 0;max-width: 0;overflow: hidden;text-align: left;background-color: #f0f8ff;}#sk-container-id-4 div.sk-toggleable__content pre {margin: 0.2em;color: black;border-radius: 0.25em;background-color: #f0f8ff;}#sk-container-id-4 input.sk-toggleable__control:checked~div.sk-toggleable__content {max-height: 200px;max-width: 100%;overflow: auto;}#sk-container-id-4 input.sk-toggleable__control:checked~label.sk-toggleable__label-arrow:before {content: \"▾\";}#sk-container-id-4 div.sk-estimator input.sk-toggleable__control:checked~label.sk-toggleable__label {background-color: #d4ebff;}#sk-container-id-4 div.sk-label input.sk-toggleable__control:checked~label.sk-toggleable__label {background-color: #d4ebff;}#sk-container-id-4 input.sk-hidden--visually {border: 0;clip: rect(1px 1px 1px 1px);clip: rect(1px, 1px, 1px, 1px);height: 1px;margin: -1px;overflow: hidden;padding: 0;position: absolute;width: 1px;}#sk-container-id-4 div.sk-estimator {font-family: monospace;background-color: #f0f8ff;border: 1px dotted black;border-radius: 0.25em;box-sizing: border-box;margin-bottom: 0.5em;}#sk-container-id-4 div.sk-estimator:hover {background-color: #d4ebff;}#sk-container-id-4 div.sk-parallel-item::after {content: \"\";width: 100%;border-bottom: 1px solid gray;flex-grow: 1;}#sk-container-id-4 div.sk-label:hover label.sk-toggleable__label {background-color: #d4ebff;}#sk-container-id-4 div.sk-serial::before {content: \"\";position: absolute;border-left: 1px solid gray;box-sizing: border-box;top: 0;bottom: 0;left: 50%;z-index: 0;}#sk-container-id-4 div.sk-serial {display: flex;flex-direction: column;align-items: center;background-color: white;padding-right: 0.2em;padding-left: 0.2em;position: relative;}#sk-container-id-4 div.sk-item {position: relative;z-index: 1;}#sk-container-id-4 div.sk-parallel {display: flex;align-items: stretch;justify-content: center;background-color: white;position: relative;}#sk-container-id-4 div.sk-item::before, #sk-container-id-4 div.sk-parallel-item::before {content: \"\";position: absolute;border-left: 1px solid gray;box-sizing: border-box;top: 0;bottom: 0;left: 50%;z-index: -1;}#sk-container-id-4 div.sk-parallel-item {display: flex;flex-direction: column;z-index: 1;position: relative;background-color: white;}#sk-container-id-4 div.sk-parallel-item:first-child::after {align-self: flex-end;width: 50%;}#sk-container-id-4 div.sk-parallel-item:last-child::after {align-self: flex-start;width: 50%;}#sk-container-id-4 div.sk-parallel-item:only-child::after {width: 0;}#sk-container-id-4 div.sk-dashed-wrapped {border: 1px dashed gray;margin: 0 0.4em 0.5em 0.4em;box-sizing: border-box;padding-bottom: 0.4em;background-color: white;}#sk-container-id-4 div.sk-label label {font-family: monospace;font-weight: bold;display: inline-block;line-height: 1.2em;}#sk-container-id-4 div.sk-label-container {text-align: center;}#sk-container-id-4 div.sk-container {/* jupyter's `normalize.less` sets `[hidden] { display: none; }` but bootstrap.min.css set `[hidden] { display: none !important; }` so we also need the `!important` here to be able to override the default hidden behavior on the sphinx rendered scikit-learn.org. See: https://github.com/scikit-learn/scikit-learn/issues/21755 */display: inline-block !important;position: relative;}#sk-container-id-4 div.sk-text-repr-fallback {display: none;}</style><div id=\"sk-container-id-4\" class=\"sk-top-container\"><div class=\"sk-text-repr-fallback\"><pre>Pipeline(steps=[(&#x27;imputer&#x27;, KNNImputer(n_neighbors=4)),\n",
              "                (&#x27;regressor&#x27;,\n",
              "                 LogisticRegression(penalty=&#x27;l1&#x27;, solver=&#x27;liblinear&#x27;))])</pre><b>In a Jupyter environment, please rerun this cell to show the HTML representation or trust the notebook. <br />On GitHub, the HTML representation is unable to render, please try loading this page with nbviewer.org.</b></div><div class=\"sk-container\" hidden><div class=\"sk-item sk-dashed-wrapped\"><div class=\"sk-label-container\"><div class=\"sk-label sk-toggleable\"><input class=\"sk-toggleable__control sk-hidden--visually\" id=\"sk-estimator-id-4\" type=\"checkbox\" ><label for=\"sk-estimator-id-4\" class=\"sk-toggleable__label sk-toggleable__label-arrow\">Pipeline</label><div class=\"sk-toggleable__content\"><pre>Pipeline(steps=[(&#x27;imputer&#x27;, KNNImputer(n_neighbors=4)),\n",
              "                (&#x27;regressor&#x27;,\n",
              "                 LogisticRegression(penalty=&#x27;l1&#x27;, solver=&#x27;liblinear&#x27;))])</pre></div></div></div><div class=\"sk-serial\"><div class=\"sk-item\"><div class=\"sk-estimator sk-toggleable\"><input class=\"sk-toggleable__control sk-hidden--visually\" id=\"sk-estimator-id-5\" type=\"checkbox\" ><label for=\"sk-estimator-id-5\" class=\"sk-toggleable__label sk-toggleable__label-arrow\">KNNImputer</label><div class=\"sk-toggleable__content\"><pre>KNNImputer(n_neighbors=4)</pre></div></div></div><div class=\"sk-item\"><div class=\"sk-estimator sk-toggleable\"><input class=\"sk-toggleable__control sk-hidden--visually\" id=\"sk-estimator-id-6\" type=\"checkbox\" ><label for=\"sk-estimator-id-6\" class=\"sk-toggleable__label sk-toggleable__label-arrow\">LogisticRegression</label><div class=\"sk-toggleable__content\"><pre>LogisticRegression(penalty=&#x27;l1&#x27;, solver=&#x27;liblinear&#x27;)</pre></div></div></div></div></div></div></div>"
            ],
            "text/plain": [
              "Pipeline(steps=[('imputer', KNNImputer(n_neighbors=4)),\n",
              "                ('regressor',\n",
              "                 LogisticRegression(penalty='l1', solver='liblinear'))])"
            ]
          },
          "execution_count": 44,
          "metadata": {},
          "output_type": "execute_result"
        }
      ],
      "source": [
        "lasso_logistic = Pipeline([(\"imputer\", KNNImputer(n_neighbors=4, weights='uniform')),\n",
        "                           (\"regressor\", LogisticRegression(penalty='l1', solver='liblinear'))])\n",
        "lasso_logistic.fit(X_train, y_train)"
      ]
    },
    {
      "cell_type": "code",
      "execution_count": null,
      "metadata": {
        "id": "w4HH3NAbMwqV"
      },
      "outputs": [],
      "source": [
        "lasso_logistic_preds_train = lasso_logistic.predict(X_train)\n",
        "lasso_logistic_preds_test = lasso_logistic.predict(X_test)"
      ]
    },
    {
      "cell_type": "code",
      "execution_count": null,
      "metadata": {},
      "outputs": [
        {
          "name": "stdout",
          "output_type": "stream",
          "text": [
            "              precision    recall  f1-score   support\n",
            "\n",
            "           0       0.56      0.22      0.32      1252\n",
            "           1       0.85      0.96      0.90      5756\n",
            "\n",
            "    accuracy                           0.83      7008\n",
            "   macro avg       0.71      0.59      0.61      7008\n",
            "weighted avg       0.80      0.83      0.80      7008\n",
            "\n"
          ]
        }
      ],
      "source": [
        "print(classification_report(y_train, lasso_logistic_preds_train))"
      ]
    },
    {
      "cell_type": "code",
      "execution_count": null,
      "metadata": {},
      "outputs": [
        {
          "data": {
            "text/plain": [
              "array([[ 278,  974],\n",
              "       [ 217, 5539]])"
            ]
          },
          "metadata": {},
          "output_type": "display_data"
        }
      ],
      "source": [
        "confusion_matrix(y_train, lasso_logistic_preds_train)"
      ]
    },
    {
      "cell_type": "code",
      "execution_count": null,
      "metadata": {},
      "outputs": [
        {
          "name": "stdout",
          "output_type": "stream",
          "text": [
            "              precision    recall  f1-score   support\n",
            "\n",
            "           0       0.47      0.18      0.26       313\n",
            "           1       0.84      0.96      0.90      1439\n",
            "\n",
            "    accuracy                           0.82      1752\n",
            "   macro avg       0.66      0.57      0.58      1752\n",
            "weighted avg       0.78      0.82      0.78      1752\n",
            "\n"
          ]
        }
      ],
      "source": [
        "print(classification_report(y_test, lasso_logistic_preds_test))"
      ]
    },
    {
      "cell_type": "code",
      "execution_count": null,
      "metadata": {},
      "outputs": [
        {
          "data": {
            "text/plain": [
              "array([[  56,  257],\n",
              "       [  63, 1376]])"
            ]
          },
          "metadata": {},
          "output_type": "display_data"
        }
      ],
      "source": [
        "confusion_matrix(y_test, lasso_logistic_preds_test)"
      ]
    },
    {
      "cell_type": "markdown",
      "metadata": {
        "id": "1YJvrgXztMg0"
      },
      "source": [
        "#####  **Daily Mean SO2 Regression (Cross-Validation):**"
      ]
    },
    {
      "cell_type": "code",
      "execution_count": null,
      "metadata": {
        "id": "Xyk8fnssnKb5"
      },
      "outputs": [],
      "source": [
        "endog = np.log(data[data['SO2_above_0'] == 1]['mean_so2'] + 0.001)\n",
        "scaler = StandardScaler().fit(data[data['SO2_above_0'] == 1].iloc[:,6:318])\n",
        "exog = np.concatenate((\n",
        "        scaler.transform(data[data['SO2_above_0'] == 1].iloc[:,6:318]),\n",
        "        data[data['SO2_above_0'] == 1].iloc[:,318:323],\n",
        "), axis = 1)\n",
        "group = data[data['SO2_above_0'] == 1]['id']\n",
        "\n",
        "X_train, X_test, y_train, y_test = train_test_split(exog, endog, test_size=0.2, random_state=42, stratify=group)"
      ]
    },
    {
      "cell_type": "code",
      "execution_count": null,
      "metadata": {
        "id": "RTHChnlez1iK"
      },
      "outputs": [],
      "source": [
        "lasso_log_mean = Pipeline([(\"imputer\", KNNImputer(n_neighbors=8, weights='uniform')),\n",
        "                           (\"regressor\", Lasso(alpha=0.1, max_iter=6000, tol=0.00001))])\n",
        "\n",
        "m1a, m2a, m3a, m4a, m5a, m6a, m7a, \\\n",
        "  m1b, m2b, m3b, m4b, m5b, m6b, m7b = cross_validate_fit_regression(lasso_log_mean , X_train, y_train)"
      ]
    },
    {
      "cell_type": "code",
      "execution_count": null,
      "metadata": {
        "colab": {
          "base_uri": "https://localhost:8080/"
        },
        "id": "1S3TE4eq819z",
        "outputId": "5198f992-e655-44e3-c1b2-565fde9259fd"
      },
      "outputs": [
        {
          "name": "stdout",
          "output_type": "stream",
          "text": [
            "R2: 0.1507482451810397\n",
            "r: 0.4087495253880659\n",
            "MAE: 1.1163779408479935\n",
            "MedAE: 0.8300251010593171\n",
            "MAE (original): 0.8148962207142929\n",
            "MedAE (original): 0.19921558668536882\n",
            "upper quartile (original): 0.44838283068481777\n"
          ]
        }
      ],
      "source": [
        "print(\"R2: \" + str(np.mean(m1a)))\n",
        "print(\"r: \" + str(np.mean(m2a)))\n",
        "print(\"MAE: \" + str(np.mean(m3a)))\n",
        "print(\"MedAE: \" + str(np.mean(m4a)))\n",
        "print(\"MAE (original): \" + str(np.mean(m5a)))\n",
        "print(\"MedAE (original): \" + str(np.mean(m6a)))\n",
        "print(\"upper quartile (original): \" + str(np.mean(m7a)))"
      ]
    },
    {
      "cell_type": "markdown",
      "metadata": {
        "id": "CHIx_RwXtT3i"
      },
      "source": [
        "#####  **Daily Mean SO2 Regression (Training & Testing):**"
      ]
    },
    {
      "cell_type": "code",
      "execution_count": null,
      "metadata": {
        "colab": {
          "base_uri": "https://localhost:8080/",
          "height": 145
        },
        "id": "OPZpSFGB0_lo",
        "outputId": "a6dfda1e-c13a-4bcc-bfb9-0634642cc7cc"
      },
      "outputs": [
        {
          "data": {
            "text/html": [
              "<style>#sk-container-id-1 {\n",
              "  /* Definition of color scheme common for light and dark mode */\n",
              "  --sklearn-color-text: black;\n",
              "  --sklearn-color-line: gray;\n",
              "  /* Definition of color scheme for unfitted estimators */\n",
              "  --sklearn-color-unfitted-level-0: #fff5e6;\n",
              "  --sklearn-color-unfitted-level-1: #f6e4d2;\n",
              "  --sklearn-color-unfitted-level-2: #ffe0b3;\n",
              "  --sklearn-color-unfitted-level-3: chocolate;\n",
              "  /* Definition of color scheme for fitted estimators */\n",
              "  --sklearn-color-fitted-level-0: #f0f8ff;\n",
              "  --sklearn-color-fitted-level-1: #d4ebff;\n",
              "  --sklearn-color-fitted-level-2: #b3dbfd;\n",
              "  --sklearn-color-fitted-level-3: cornflowerblue;\n",
              "\n",
              "  /* Specific color for light theme */\n",
              "  --sklearn-color-text-on-default-background: var(--sg-text-color, var(--theme-code-foreground, var(--jp-content-font-color1, black)));\n",
              "  --sklearn-color-background: var(--sg-background-color, var(--theme-background, var(--jp-layout-color0, white)));\n",
              "  --sklearn-color-border-box: var(--sg-text-color, var(--theme-code-foreground, var(--jp-content-font-color1, black)));\n",
              "  --sklearn-color-icon: #696969;\n",
              "\n",
              "  @media (prefers-color-scheme: dark) {\n",
              "    /* Redefinition of color scheme for dark theme */\n",
              "    --sklearn-color-text-on-default-background: var(--sg-text-color, var(--theme-code-foreground, var(--jp-content-font-color1, white)));\n",
              "    --sklearn-color-background: var(--sg-background-color, var(--theme-background, var(--jp-layout-color0, #111)));\n",
              "    --sklearn-color-border-box: var(--sg-text-color, var(--theme-code-foreground, var(--jp-content-font-color1, white)));\n",
              "    --sklearn-color-icon: #878787;\n",
              "  }\n",
              "}\n",
              "\n",
              "#sk-container-id-1 {\n",
              "  color: var(--sklearn-color-text);\n",
              "}\n",
              "\n",
              "#sk-container-id-1 pre {\n",
              "  padding: 0;\n",
              "}\n",
              "\n",
              "#sk-container-id-1 input.sk-hidden--visually {\n",
              "  border: 0;\n",
              "  clip: rect(1px 1px 1px 1px);\n",
              "  clip: rect(1px, 1px, 1px, 1px);\n",
              "  height: 1px;\n",
              "  margin: -1px;\n",
              "  overflow: hidden;\n",
              "  padding: 0;\n",
              "  position: absolute;\n",
              "  width: 1px;\n",
              "}\n",
              "\n",
              "#sk-container-id-1 div.sk-dashed-wrapped {\n",
              "  border: 1px dashed var(--sklearn-color-line);\n",
              "  margin: 0 0.4em 0.5em 0.4em;\n",
              "  box-sizing: border-box;\n",
              "  padding-bottom: 0.4em;\n",
              "  background-color: var(--sklearn-color-background);\n",
              "}\n",
              "\n",
              "#sk-container-id-1 div.sk-container {\n",
              "  /* jupyter's `normalize.less` sets `[hidden] { display: none; }`\n",
              "     but bootstrap.min.css set `[hidden] { display: none !important; }`\n",
              "     so we also need the `!important` here to be able to override the\n",
              "     default hidden behavior on the sphinx rendered scikit-learn.org.\n",
              "     See: https://github.com/scikit-learn/scikit-learn/issues/21755 */\n",
              "  display: inline-block !important;\n",
              "  position: relative;\n",
              "}\n",
              "\n",
              "#sk-container-id-1 div.sk-text-repr-fallback {\n",
              "  display: none;\n",
              "}\n",
              "\n",
              "div.sk-parallel-item,\n",
              "div.sk-serial,\n",
              "div.sk-item {\n",
              "  /* draw centered vertical line to link estimators */\n",
              "  background-image: linear-gradient(var(--sklearn-color-text-on-default-background), var(--sklearn-color-text-on-default-background));\n",
              "  background-size: 2px 100%;\n",
              "  background-repeat: no-repeat;\n",
              "  background-position: center center;\n",
              "}\n",
              "\n",
              "/* Parallel-specific style estimator block */\n",
              "\n",
              "#sk-container-id-1 div.sk-parallel-item::after {\n",
              "  content: \"\";\n",
              "  width: 100%;\n",
              "  border-bottom: 2px solid var(--sklearn-color-text-on-default-background);\n",
              "  flex-grow: 1;\n",
              "}\n",
              "\n",
              "#sk-container-id-1 div.sk-parallel {\n",
              "  display: flex;\n",
              "  align-items: stretch;\n",
              "  justify-content: center;\n",
              "  background-color: var(--sklearn-color-background);\n",
              "  position: relative;\n",
              "}\n",
              "\n",
              "#sk-container-id-1 div.sk-parallel-item {\n",
              "  display: flex;\n",
              "  flex-direction: column;\n",
              "}\n",
              "\n",
              "#sk-container-id-1 div.sk-parallel-item:first-child::after {\n",
              "  align-self: flex-end;\n",
              "  width: 50%;\n",
              "}\n",
              "\n",
              "#sk-container-id-1 div.sk-parallel-item:last-child::after {\n",
              "  align-self: flex-start;\n",
              "  width: 50%;\n",
              "}\n",
              "\n",
              "#sk-container-id-1 div.sk-parallel-item:only-child::after {\n",
              "  width: 0;\n",
              "}\n",
              "\n",
              "/* Serial-specific style estimator block */\n",
              "\n",
              "#sk-container-id-1 div.sk-serial {\n",
              "  display: flex;\n",
              "  flex-direction: column;\n",
              "  align-items: center;\n",
              "  background-color: var(--sklearn-color-background);\n",
              "  padding-right: 1em;\n",
              "  padding-left: 1em;\n",
              "}\n",
              "\n",
              "\n",
              "/* Toggleable style: style used for estimator/Pipeline/ColumnTransformer box that is\n",
              "clickable and can be expanded/collapsed.\n",
              "- Pipeline and ColumnTransformer use this feature and define the default style\n",
              "- Estimators will overwrite some part of the style using the `sk-estimator` class\n",
              "*/\n",
              "\n",
              "/* Pipeline and ColumnTransformer style (default) */\n",
              "\n",
              "#sk-container-id-1 div.sk-toggleable {\n",
              "  /* Default theme specific background. It is overwritten whether we have a\n",
              "  specific estimator or a Pipeline/ColumnTransformer */\n",
              "  background-color: var(--sklearn-color-background);\n",
              "}\n",
              "\n",
              "/* Toggleable label */\n",
              "#sk-container-id-1 label.sk-toggleable__label {\n",
              "  cursor: pointer;\n",
              "  display: block;\n",
              "  width: 100%;\n",
              "  margin-bottom: 0;\n",
              "  padding: 0.5em;\n",
              "  box-sizing: border-box;\n",
              "  text-align: center;\n",
              "}\n",
              "\n",
              "#sk-container-id-1 label.sk-toggleable__label-arrow:before {\n",
              "  /* Arrow on the left of the label */\n",
              "  content: \"▸\";\n",
              "  float: left;\n",
              "  margin-right: 0.25em;\n",
              "  color: var(--sklearn-color-icon);\n",
              "}\n",
              "\n",
              "#sk-container-id-1 label.sk-toggleable__label-arrow:hover:before {\n",
              "  color: var(--sklearn-color-text);\n",
              "}\n",
              "\n",
              "/* Toggleable content - dropdown */\n",
              "\n",
              "#sk-container-id-1 div.sk-toggleable__content {\n",
              "  max-height: 0;\n",
              "  max-width: 0;\n",
              "  overflow: hidden;\n",
              "  text-align: left;\n",
              "  /* unfitted */\n",
              "  background-color: var(--sklearn-color-unfitted-level-0);\n",
              "}\n",
              "\n",
              "#sk-container-id-1 div.sk-toggleable__content.fitted {\n",
              "  /* fitted */\n",
              "  background-color: var(--sklearn-color-fitted-level-0);\n",
              "}\n",
              "\n",
              "#sk-container-id-1 div.sk-toggleable__content pre {\n",
              "  margin: 0.2em;\n",
              "  border-radius: 0.25em;\n",
              "  color: var(--sklearn-color-text);\n",
              "  /* unfitted */\n",
              "  background-color: var(--sklearn-color-unfitted-level-0);\n",
              "}\n",
              "\n",
              "#sk-container-id-1 div.sk-toggleable__content.fitted pre {\n",
              "  /* unfitted */\n",
              "  background-color: var(--sklearn-color-fitted-level-0);\n",
              "}\n",
              "\n",
              "#sk-container-id-1 input.sk-toggleable__control:checked~div.sk-toggleable__content {\n",
              "  /* Expand drop-down */\n",
              "  max-height: 200px;\n",
              "  max-width: 100%;\n",
              "  overflow: auto;\n",
              "}\n",
              "\n",
              "#sk-container-id-1 input.sk-toggleable__control:checked~label.sk-toggleable__label-arrow:before {\n",
              "  content: \"▾\";\n",
              "}\n",
              "\n",
              "/* Pipeline/ColumnTransformer-specific style */\n",
              "\n",
              "#sk-container-id-1 div.sk-label input.sk-toggleable__control:checked~label.sk-toggleable__label {\n",
              "  color: var(--sklearn-color-text);\n",
              "  background-color: var(--sklearn-color-unfitted-level-2);\n",
              "}\n",
              "\n",
              "#sk-container-id-1 div.sk-label.fitted input.sk-toggleable__control:checked~label.sk-toggleable__label {\n",
              "  background-color: var(--sklearn-color-fitted-level-2);\n",
              "}\n",
              "\n",
              "/* Estimator-specific style */\n",
              "\n",
              "/* Colorize estimator box */\n",
              "#sk-container-id-1 div.sk-estimator input.sk-toggleable__control:checked~label.sk-toggleable__label {\n",
              "  /* unfitted */\n",
              "  background-color: var(--sklearn-color-unfitted-level-2);\n",
              "}\n",
              "\n",
              "#sk-container-id-1 div.sk-estimator.fitted input.sk-toggleable__control:checked~label.sk-toggleable__label {\n",
              "  /* fitted */\n",
              "  background-color: var(--sklearn-color-fitted-level-2);\n",
              "}\n",
              "\n",
              "#sk-container-id-1 div.sk-label label.sk-toggleable__label,\n",
              "#sk-container-id-1 div.sk-label label {\n",
              "  /* The background is the default theme color */\n",
              "  color: var(--sklearn-color-text-on-default-background);\n",
              "}\n",
              "\n",
              "/* On hover, darken the color of the background */\n",
              "#sk-container-id-1 div.sk-label:hover label.sk-toggleable__label {\n",
              "  color: var(--sklearn-color-text);\n",
              "  background-color: var(--sklearn-color-unfitted-level-2);\n",
              "}\n",
              "\n",
              "/* Label box, darken color on hover, fitted */\n",
              "#sk-container-id-1 div.sk-label.fitted:hover label.sk-toggleable__label.fitted {\n",
              "  color: var(--sklearn-color-text);\n",
              "  background-color: var(--sklearn-color-fitted-level-2);\n",
              "}\n",
              "\n",
              "/* Estimator label */\n",
              "\n",
              "#sk-container-id-1 div.sk-label label {\n",
              "  font-family: monospace;\n",
              "  font-weight: bold;\n",
              "  display: inline-block;\n",
              "  line-height: 1.2em;\n",
              "}\n",
              "\n",
              "#sk-container-id-1 div.sk-label-container {\n",
              "  text-align: center;\n",
              "}\n",
              "\n",
              "/* Estimator-specific */\n",
              "#sk-container-id-1 div.sk-estimator {\n",
              "  font-family: monospace;\n",
              "  border: 1px dotted var(--sklearn-color-border-box);\n",
              "  border-radius: 0.25em;\n",
              "  box-sizing: border-box;\n",
              "  margin-bottom: 0.5em;\n",
              "  /* unfitted */\n",
              "  background-color: var(--sklearn-color-unfitted-level-0);\n",
              "}\n",
              "\n",
              "#sk-container-id-1 div.sk-estimator.fitted {\n",
              "  /* fitted */\n",
              "  background-color: var(--sklearn-color-fitted-level-0);\n",
              "}\n",
              "\n",
              "/* on hover */\n",
              "#sk-container-id-1 div.sk-estimator:hover {\n",
              "  /* unfitted */\n",
              "  background-color: var(--sklearn-color-unfitted-level-2);\n",
              "}\n",
              "\n",
              "#sk-container-id-1 div.sk-estimator.fitted:hover {\n",
              "  /* fitted */\n",
              "  background-color: var(--sklearn-color-fitted-level-2);\n",
              "}\n",
              "\n",
              "/* Specification for estimator info (e.g. \"i\" and \"?\") */\n",
              "\n",
              "/* Common style for \"i\" and \"?\" */\n",
              "\n",
              ".sk-estimator-doc-link,\n",
              "a:link.sk-estimator-doc-link,\n",
              "a:visited.sk-estimator-doc-link {\n",
              "  float: right;\n",
              "  font-size: smaller;\n",
              "  line-height: 1em;\n",
              "  font-family: monospace;\n",
              "  background-color: var(--sklearn-color-background);\n",
              "  border-radius: 1em;\n",
              "  height: 1em;\n",
              "  width: 1em;\n",
              "  text-decoration: none !important;\n",
              "  margin-left: 1ex;\n",
              "  /* unfitted */\n",
              "  border: var(--sklearn-color-unfitted-level-1) 1pt solid;\n",
              "  color: var(--sklearn-color-unfitted-level-1);\n",
              "}\n",
              "\n",
              ".sk-estimator-doc-link.fitted,\n",
              "a:link.sk-estimator-doc-link.fitted,\n",
              "a:visited.sk-estimator-doc-link.fitted {\n",
              "  /* fitted */\n",
              "  border: var(--sklearn-color-fitted-level-1) 1pt solid;\n",
              "  color: var(--sklearn-color-fitted-level-1);\n",
              "}\n",
              "\n",
              "/* On hover */\n",
              "div.sk-estimator:hover .sk-estimator-doc-link:hover,\n",
              ".sk-estimator-doc-link:hover,\n",
              "div.sk-label-container:hover .sk-estimator-doc-link:hover,\n",
              ".sk-estimator-doc-link:hover {\n",
              "  /* unfitted */\n",
              "  background-color: var(--sklearn-color-unfitted-level-3);\n",
              "  color: var(--sklearn-color-background);\n",
              "  text-decoration: none;\n",
              "}\n",
              "\n",
              "div.sk-estimator.fitted:hover .sk-estimator-doc-link.fitted:hover,\n",
              ".sk-estimator-doc-link.fitted:hover,\n",
              "div.sk-label-container:hover .sk-estimator-doc-link.fitted:hover,\n",
              ".sk-estimator-doc-link.fitted:hover {\n",
              "  /* fitted */\n",
              "  background-color: var(--sklearn-color-fitted-level-3);\n",
              "  color: var(--sklearn-color-background);\n",
              "  text-decoration: none;\n",
              "}\n",
              "\n",
              "/* Span, style for the box shown on hovering the info icon */\n",
              ".sk-estimator-doc-link span {\n",
              "  display: none;\n",
              "  z-index: 9999;\n",
              "  position: relative;\n",
              "  font-weight: normal;\n",
              "  right: .2ex;\n",
              "  padding: .5ex;\n",
              "  margin: .5ex;\n",
              "  width: min-content;\n",
              "  min-width: 20ex;\n",
              "  max-width: 50ex;\n",
              "  color: var(--sklearn-color-text);\n",
              "  box-shadow: 2pt 2pt 4pt #999;\n",
              "  /* unfitted */\n",
              "  background: var(--sklearn-color-unfitted-level-0);\n",
              "  border: .5pt solid var(--sklearn-color-unfitted-level-3);\n",
              "}\n",
              "\n",
              ".sk-estimator-doc-link.fitted span {\n",
              "  /* fitted */\n",
              "  background: var(--sklearn-color-fitted-level-0);\n",
              "  border: var(--sklearn-color-fitted-level-3);\n",
              "}\n",
              "\n",
              ".sk-estimator-doc-link:hover span {\n",
              "  display: block;\n",
              "}\n",
              "\n",
              "/* \"?\"-specific style due to the `<a>` HTML tag */\n",
              "\n",
              "#sk-container-id-1 a.estimator_doc_link {\n",
              "  float: right;\n",
              "  font-size: 1rem;\n",
              "  line-height: 1em;\n",
              "  font-family: monospace;\n",
              "  background-color: var(--sklearn-color-background);\n",
              "  border-radius: 1rem;\n",
              "  height: 1rem;\n",
              "  width: 1rem;\n",
              "  text-decoration: none;\n",
              "  /* unfitted */\n",
              "  color: var(--sklearn-color-unfitted-level-1);\n",
              "  border: var(--sklearn-color-unfitted-level-1) 1pt solid;\n",
              "}\n",
              "\n",
              "#sk-container-id-1 a.estimator_doc_link.fitted {\n",
              "  /* fitted */\n",
              "  border: var(--sklearn-color-fitted-level-1) 1pt solid;\n",
              "  color: var(--sklearn-color-fitted-level-1);\n",
              "}\n",
              "\n",
              "/* On hover */\n",
              "#sk-container-id-1 a.estimator_doc_link:hover {\n",
              "  /* unfitted */\n",
              "  background-color: var(--sklearn-color-unfitted-level-3);\n",
              "  color: var(--sklearn-color-background);\n",
              "  text-decoration: none;\n",
              "}\n",
              "\n",
              "#sk-container-id-1 a.estimator_doc_link.fitted:hover {\n",
              "  /* fitted */\n",
              "  background-color: var(--sklearn-color-fitted-level-3);\n",
              "}\n",
              "</style><div id=\"sk-container-id-1\" class=\"sk-top-container\"><div class=\"sk-text-repr-fallback\"><pre>Pipeline(steps=[(&#x27;imputer&#x27;, KNNImputer(n_neighbors=8)),\n",
              "                (&#x27;regressor&#x27;, Lasso(alpha=0.1, max_iter=6000, tol=1e-05))])</pre><b>In a Jupyter environment, please rerun this cell to show the HTML representation or trust the notebook. <br />On GitHub, the HTML representation is unable to render, please try loading this page with nbviewer.org.</b></div><div class=\"sk-container\" hidden><div class=\"sk-item sk-dashed-wrapped\"><div class=\"sk-label-container\"><div class=\"sk-label fitted sk-toggleable\"><input class=\"sk-toggleable__control sk-hidden--visually\" id=\"sk-estimator-id-1\" type=\"checkbox\" ><label for=\"sk-estimator-id-1\" class=\"sk-toggleable__label fitted sk-toggleable__label-arrow fitted\">&nbsp;&nbsp;Pipeline<a class=\"sk-estimator-doc-link fitted\" rel=\"noreferrer\" target=\"_blank\" href=\"https://scikit-learn.org/1.5/modules/generated/sklearn.pipeline.Pipeline.html\">?<span>Documentation for Pipeline</span></a><span class=\"sk-estimator-doc-link fitted\">i<span>Fitted</span></span></label><div class=\"sk-toggleable__content fitted\"><pre>Pipeline(steps=[(&#x27;imputer&#x27;, KNNImputer(n_neighbors=8)),\n",
              "                (&#x27;regressor&#x27;, Lasso(alpha=0.1, max_iter=6000, tol=1e-05))])</pre></div> </div></div><div class=\"sk-serial\"><div class=\"sk-item\"><div class=\"sk-estimator fitted sk-toggleable\"><input class=\"sk-toggleable__control sk-hidden--visually\" id=\"sk-estimator-id-2\" type=\"checkbox\" ><label for=\"sk-estimator-id-2\" class=\"sk-toggleable__label fitted sk-toggleable__label-arrow fitted\">&nbsp;KNNImputer<a class=\"sk-estimator-doc-link fitted\" rel=\"noreferrer\" target=\"_blank\" href=\"https://scikit-learn.org/1.5/modules/generated/sklearn.impute.KNNImputer.html\">?<span>Documentation for KNNImputer</span></a></label><div class=\"sk-toggleable__content fitted\"><pre>KNNImputer(n_neighbors=8)</pre></div> </div></div><div class=\"sk-item\"><div class=\"sk-estimator fitted sk-toggleable\"><input class=\"sk-toggleable__control sk-hidden--visually\" id=\"sk-estimator-id-3\" type=\"checkbox\" ><label for=\"sk-estimator-id-3\" class=\"sk-toggleable__label fitted sk-toggleable__label-arrow fitted\">&nbsp;Lasso<a class=\"sk-estimator-doc-link fitted\" rel=\"noreferrer\" target=\"_blank\" href=\"https://scikit-learn.org/1.5/modules/generated/sklearn.linear_model.Lasso.html\">?<span>Documentation for Lasso</span></a></label><div class=\"sk-toggleable__content fitted\"><pre>Lasso(alpha=0.1, max_iter=6000, tol=1e-05)</pre></div> </div></div></div></div></div></div>"
            ],
            "text/plain": [
              "Pipeline(steps=[('imputer', KNNImputer(n_neighbors=8)),\n",
              "                ('regressor', Lasso(alpha=0.1, max_iter=6000, tol=1e-05))])"
            ]
          },
          "execution_count": 23,
          "metadata": {},
          "output_type": "execute_result"
        }
      ],
      "source": [
        "lasso_log_mean = Pipeline([(\"imputer\", KNNImputer(n_neighbors=8, weights='uniform')),\n",
        "                           (\"regressor\", Lasso(alpha=0.1, max_iter=6000, tol=0.00001))])\n",
        "lasso_log_mean.fit(X_train, y_train)"
      ]
    },
    {
      "cell_type": "code",
      "execution_count": null,
      "metadata": {
        "id": "5d4Eemkn1Bb6"
      },
      "outputs": [],
      "source": [
        "lasso_log_mean_preds_train = lasso_log_mean.predict(X_train)\n",
        "lasso_log_mean_preds_test = lasso_log_mean.predict(X_test)"
      ]
    },
    {
      "cell_type": "code",
      "execution_count": null,
      "metadata": {},
      "outputs": [
        {
          "name": "stdout",
          "output_type": "stream",
          "text": [
            "Train R2: 0.15285957147606732\n",
            "Train R: 0.40821595010835376\n",
            "Train MSE: 2.2033576509364736\n",
            "Train MAE: 1.1163793658078027\n",
            "Train MedAE: 0.8253715525696268\n",
            "Train MSE (original): 5.557786966911258\n",
            "Train MAE (original): 0.8148577026673258\n",
            "Train MedAE (original): 0.1991389565607337\n",
            "Train upper quartile (original): 0.44102624987144695\n",
            "\n",
            "\n",
            "Test R2: 0.1435344016766299\n",
            "Test R: 0.3958562021987716\n",
            "Test MSE: 2.319862451906422\n",
            "Test MAE: 1.152668721484833\n",
            "Test MedAE: 0.8358685160418733\n",
            "Test MSE (original): 5.566116659841568\n",
            "Test MAE (original): 0.8057801445627757\n",
            "Test MedAE (original): 0.19110333030343502\n",
            "Test upper quartile (original): 0.42547402169892057\n"
          ]
        }
      ],
      "source": [
        "print(\"Train R2: \" + str(r2_score(y_train, lasso_log_mean_preds_train)))\n",
        "print(\"Train R: \" + str(scipy.stats.pearsonr(np.array(y_train).flatten(), lasso_log_mean_preds_train)[0]))\n",
        "print(\"Train MSE: \" + str(mean_squared_error(y_train, lasso_log_mean_preds_train)))\n",
        "print(\"Train MAE: \" + str(mean_absolute_error(y_train, lasso_log_mean_preds_train)))\n",
        "print(\"Train MedAE: \" + str(median_absolute_error(y_train, lasso_log_mean_preds_train)))\n",
        "print(\"Train MSE (original): \" + str(mean_squared_error(np.exp(y_train) - 0.001, np.exp(lasso_log_mean_preds_train) - 0.001)))\n",
        "print(\"Train MAE (original): \" + str(mean_absolute_error(np.exp(y_train) - 0.001, np.exp(lasso_log_mean_preds_train) - 0.001)))\n",
        "print(\"Train MedAE (original): \" + str(median_absolute_error(np.exp(y_train) - 0.001, np.exp(lasso_log_mean_preds_train) - 0.001)))\n",
        "print(\"Train upper quartile (original): \" + str(np.quantile(abs(np.exp(y_train) - np.exp(lasso_log_mean_preds_train)), 0.75)))\n",
        "print(\"\\n\")\n",
        "print(\"Test R2: \" + str(r2_score(y_test, lasso_log_mean_preds_test)))\n",
        "print(\"Test R: \" + str(scipy.stats.pearsonr(np.array(y_test).flatten(), lasso_log_mean_preds_test)[0]))\n",
        "print(\"Test MSE: \" + str(mean_squared_error(y_test, lasso_log_mean_preds_test)))\n",
        "print(\"Test MAE: \" + str(mean_absolute_error(y_test, lasso_log_mean_preds_test)))\n",
        "print(\"Test MedAE: \" + str(median_absolute_error(y_test, lasso_log_mean_preds_test)))\n",
        "print(\"Test MSE (original): \" + str(mean_squared_error(np.exp(y_test) - 0.001, np.exp(lasso_log_mean_preds_test) - 0.001)))\n",
        "print(\"Test MAE (original): \" + str(mean_absolute_error(np.exp(y_test) - 0.001, np.exp(lasso_log_mean_preds_test) - 0.001)))\n",
        "print(\"Test MedAE (original): \" + str(median_absolute_error(np.exp(y_test) - 0.001, np.exp(lasso_log_mean_preds_test) - 0.001)))\n",
        "print(\"Test upper quartile (original): \" + str(np.quantile(abs(np.exp(y_test) - np.exp(lasso_log_mean_preds_test)), 0.75)))"
      ]
    },
    {
      "cell_type": "markdown",
      "metadata": {
        "id": "MBv8Fjad1q-k"
      },
      "source": [
        "#####  **Daily Max SO2 Regression (Cross-Validation):**"
      ]
    },
    {
      "cell_type": "code",
      "execution_count": null,
      "metadata": {
        "id": "8LK89zg44h0j"
      },
      "outputs": [],
      "source": [
        "endog = np.log(data[data['SO2_above_0'] == 1]['max_so2'] + 0.001)\n",
        "scaler = StandardScaler().fit(data[data['SO2_above_0'] == 1].iloc[:,6:318])\n",
        "exog = np.concatenate((\n",
        "        scaler.transform(data[data['SO2_above_0'] == 1].iloc[:,6:318]),\n",
        "        data[data['SO2_above_0'] == 1].iloc[:,318:323],\n",
        "), axis = 1)\n",
        "group = data[data['SO2_above_0'] == 1]['id']\n",
        "\n",
        "X_train, X_test, y_train, y_test = train_test_split(exog, endog, test_size=0.2, random_state=42, stratify=group)"
      ]
    },
    {
      "cell_type": "code",
      "execution_count": null,
      "metadata": {
        "id": "gKSXQ1O01q-l"
      },
      "outputs": [],
      "source": [
        "lasso_log_max = Pipeline([(\"imputer\", KNNImputer(n_neighbors=8, weights='uniform')),\n",
        "                           (\"regressor\", Lasso(alpha=0.1, max_iter=6000, tol=0.00001))])\n",
        "\n",
        "m1a, m2a, m3a, m4a, m5a, m6a, m7a, \\\n",
        "  m1b, m2b, m3b, m4b, m5b, m6b, m7b = cross_validate_fit_regression(lasso_log_max , X_train, y_train)"
      ]
    },
    {
      "cell_type": "code",
      "execution_count": null,
      "metadata": {
        "colab": {
          "base_uri": "https://localhost:8080/"
        },
        "id": "xhqpx4OW-Y-r",
        "outputId": "df227a99-4734-405a-e2bc-429855d0b0d3"
      },
      "outputs": [
        {
          "name": "stdout",
          "output_type": "stream",
          "text": [
            "R2: 0.13863163485599114\n",
            "r: 0.39582351829566825\n",
            "MAE: 1.137750330270834\n",
            "MedAE: 0.9855915915487634\n",
            "MAE (original): 3.6180353457139276\n",
            "MedAE (original): 0.8361312318641596\n",
            "upper quartile (original): 2.1003414300845376\n"
          ]
        }
      ],
      "source": [
        "print(\"R2: \" + str(np.mean(m1a)))\n",
        "print(\"r: \" + str(np.mean(m2a)))\n",
        "print(\"MAE: \" + str(np.mean(m3a)))\n",
        "print(\"MedAE: \" + str(np.mean(m4a)))\n",
        "print(\"MAE (original): \" + str(np.mean(m5a)))\n",
        "print(\"MedAE (original): \" + str(np.mean(m6a)))\n",
        "print(\"upper quartile (original): \" + str(np.mean(m7a)))"
      ]
    },
    {
      "cell_type": "markdown",
      "metadata": {
        "id": "CBYjX11I2C52"
      },
      "source": [
        "#####  **Daily Max SO2 Regression (Training & Testing):**"
      ]
    },
    {
      "cell_type": "code",
      "execution_count": null,
      "metadata": {
        "colab": {
          "base_uri": "https://localhost:8080/",
          "height": 145
        },
        "id": "M26et-MC53KX",
        "outputId": "23fa86fd-8df4-4617-cb08-250fafa97cc3"
      },
      "outputs": [
        {
          "data": {
            "text/html": [
              "<style>#sk-container-id-2 {\n",
              "  /* Definition of color scheme common for light and dark mode */\n",
              "  --sklearn-color-text: black;\n",
              "  --sklearn-color-line: gray;\n",
              "  /* Definition of color scheme for unfitted estimators */\n",
              "  --sklearn-color-unfitted-level-0: #fff5e6;\n",
              "  --sklearn-color-unfitted-level-1: #f6e4d2;\n",
              "  --sklearn-color-unfitted-level-2: #ffe0b3;\n",
              "  --sklearn-color-unfitted-level-3: chocolate;\n",
              "  /* Definition of color scheme for fitted estimators */\n",
              "  --sklearn-color-fitted-level-0: #f0f8ff;\n",
              "  --sklearn-color-fitted-level-1: #d4ebff;\n",
              "  --sklearn-color-fitted-level-2: #b3dbfd;\n",
              "  --sklearn-color-fitted-level-3: cornflowerblue;\n",
              "\n",
              "  /* Specific color for light theme */\n",
              "  --sklearn-color-text-on-default-background: var(--sg-text-color, var(--theme-code-foreground, var(--jp-content-font-color1, black)));\n",
              "  --sklearn-color-background: var(--sg-background-color, var(--theme-background, var(--jp-layout-color0, white)));\n",
              "  --sklearn-color-border-box: var(--sg-text-color, var(--theme-code-foreground, var(--jp-content-font-color1, black)));\n",
              "  --sklearn-color-icon: #696969;\n",
              "\n",
              "  @media (prefers-color-scheme: dark) {\n",
              "    /* Redefinition of color scheme for dark theme */\n",
              "    --sklearn-color-text-on-default-background: var(--sg-text-color, var(--theme-code-foreground, var(--jp-content-font-color1, white)));\n",
              "    --sklearn-color-background: var(--sg-background-color, var(--theme-background, var(--jp-layout-color0, #111)));\n",
              "    --sklearn-color-border-box: var(--sg-text-color, var(--theme-code-foreground, var(--jp-content-font-color1, white)));\n",
              "    --sklearn-color-icon: #878787;\n",
              "  }\n",
              "}\n",
              "\n",
              "#sk-container-id-2 {\n",
              "  color: var(--sklearn-color-text);\n",
              "}\n",
              "\n",
              "#sk-container-id-2 pre {\n",
              "  padding: 0;\n",
              "}\n",
              "\n",
              "#sk-container-id-2 input.sk-hidden--visually {\n",
              "  border: 0;\n",
              "  clip: rect(1px 1px 1px 1px);\n",
              "  clip: rect(1px, 1px, 1px, 1px);\n",
              "  height: 1px;\n",
              "  margin: -1px;\n",
              "  overflow: hidden;\n",
              "  padding: 0;\n",
              "  position: absolute;\n",
              "  width: 1px;\n",
              "}\n",
              "\n",
              "#sk-container-id-2 div.sk-dashed-wrapped {\n",
              "  border: 1px dashed var(--sklearn-color-line);\n",
              "  margin: 0 0.4em 0.5em 0.4em;\n",
              "  box-sizing: border-box;\n",
              "  padding-bottom: 0.4em;\n",
              "  background-color: var(--sklearn-color-background);\n",
              "}\n",
              "\n",
              "#sk-container-id-2 div.sk-container {\n",
              "  /* jupyter's `normalize.less` sets `[hidden] { display: none; }`\n",
              "     but bootstrap.min.css set `[hidden] { display: none !important; }`\n",
              "     so we also need the `!important` here to be able to override the\n",
              "     default hidden behavior on the sphinx rendered scikit-learn.org.\n",
              "     See: https://github.com/scikit-learn/scikit-learn/issues/21755 */\n",
              "  display: inline-block !important;\n",
              "  position: relative;\n",
              "}\n",
              "\n",
              "#sk-container-id-2 div.sk-text-repr-fallback {\n",
              "  display: none;\n",
              "}\n",
              "\n",
              "div.sk-parallel-item,\n",
              "div.sk-serial,\n",
              "div.sk-item {\n",
              "  /* draw centered vertical line to link estimators */\n",
              "  background-image: linear-gradient(var(--sklearn-color-text-on-default-background), var(--sklearn-color-text-on-default-background));\n",
              "  background-size: 2px 100%;\n",
              "  background-repeat: no-repeat;\n",
              "  background-position: center center;\n",
              "}\n",
              "\n",
              "/* Parallel-specific style estimator block */\n",
              "\n",
              "#sk-container-id-2 div.sk-parallel-item::after {\n",
              "  content: \"\";\n",
              "  width: 100%;\n",
              "  border-bottom: 2px solid var(--sklearn-color-text-on-default-background);\n",
              "  flex-grow: 1;\n",
              "}\n",
              "\n",
              "#sk-container-id-2 div.sk-parallel {\n",
              "  display: flex;\n",
              "  align-items: stretch;\n",
              "  justify-content: center;\n",
              "  background-color: var(--sklearn-color-background);\n",
              "  position: relative;\n",
              "}\n",
              "\n",
              "#sk-container-id-2 div.sk-parallel-item {\n",
              "  display: flex;\n",
              "  flex-direction: column;\n",
              "}\n",
              "\n",
              "#sk-container-id-2 div.sk-parallel-item:first-child::after {\n",
              "  align-self: flex-end;\n",
              "  width: 50%;\n",
              "}\n",
              "\n",
              "#sk-container-id-2 div.sk-parallel-item:last-child::after {\n",
              "  align-self: flex-start;\n",
              "  width: 50%;\n",
              "}\n",
              "\n",
              "#sk-container-id-2 div.sk-parallel-item:only-child::after {\n",
              "  width: 0;\n",
              "}\n",
              "\n",
              "/* Serial-specific style estimator block */\n",
              "\n",
              "#sk-container-id-2 div.sk-serial {\n",
              "  display: flex;\n",
              "  flex-direction: column;\n",
              "  align-items: center;\n",
              "  background-color: var(--sklearn-color-background);\n",
              "  padding-right: 1em;\n",
              "  padding-left: 1em;\n",
              "}\n",
              "\n",
              "\n",
              "/* Toggleable style: style used for estimator/Pipeline/ColumnTransformer box that is\n",
              "clickable and can be expanded/collapsed.\n",
              "- Pipeline and ColumnTransformer use this feature and define the default style\n",
              "- Estimators will overwrite some part of the style using the `sk-estimator` class\n",
              "*/\n",
              "\n",
              "/* Pipeline and ColumnTransformer style (default) */\n",
              "\n",
              "#sk-container-id-2 div.sk-toggleable {\n",
              "  /* Default theme specific background. It is overwritten whether we have a\n",
              "  specific estimator or a Pipeline/ColumnTransformer */\n",
              "  background-color: var(--sklearn-color-background);\n",
              "}\n",
              "\n",
              "/* Toggleable label */\n",
              "#sk-container-id-2 label.sk-toggleable__label {\n",
              "  cursor: pointer;\n",
              "  display: block;\n",
              "  width: 100%;\n",
              "  margin-bottom: 0;\n",
              "  padding: 0.5em;\n",
              "  box-sizing: border-box;\n",
              "  text-align: center;\n",
              "}\n",
              "\n",
              "#sk-container-id-2 label.sk-toggleable__label-arrow:before {\n",
              "  /* Arrow on the left of the label */\n",
              "  content: \"▸\";\n",
              "  float: left;\n",
              "  margin-right: 0.25em;\n",
              "  color: var(--sklearn-color-icon);\n",
              "}\n",
              "\n",
              "#sk-container-id-2 label.sk-toggleable__label-arrow:hover:before {\n",
              "  color: var(--sklearn-color-text);\n",
              "}\n",
              "\n",
              "/* Toggleable content - dropdown */\n",
              "\n",
              "#sk-container-id-2 div.sk-toggleable__content {\n",
              "  max-height: 0;\n",
              "  max-width: 0;\n",
              "  overflow: hidden;\n",
              "  text-align: left;\n",
              "  /* unfitted */\n",
              "  background-color: var(--sklearn-color-unfitted-level-0);\n",
              "}\n",
              "\n",
              "#sk-container-id-2 div.sk-toggleable__content.fitted {\n",
              "  /* fitted */\n",
              "  background-color: var(--sklearn-color-fitted-level-0);\n",
              "}\n",
              "\n",
              "#sk-container-id-2 div.sk-toggleable__content pre {\n",
              "  margin: 0.2em;\n",
              "  border-radius: 0.25em;\n",
              "  color: var(--sklearn-color-text);\n",
              "  /* unfitted */\n",
              "  background-color: var(--sklearn-color-unfitted-level-0);\n",
              "}\n",
              "\n",
              "#sk-container-id-2 div.sk-toggleable__content.fitted pre {\n",
              "  /* unfitted */\n",
              "  background-color: var(--sklearn-color-fitted-level-0);\n",
              "}\n",
              "\n",
              "#sk-container-id-2 input.sk-toggleable__control:checked~div.sk-toggleable__content {\n",
              "  /* Expand drop-down */\n",
              "  max-height: 200px;\n",
              "  max-width: 100%;\n",
              "  overflow: auto;\n",
              "}\n",
              "\n",
              "#sk-container-id-2 input.sk-toggleable__control:checked~label.sk-toggleable__label-arrow:before {\n",
              "  content: \"▾\";\n",
              "}\n",
              "\n",
              "/* Pipeline/ColumnTransformer-specific style */\n",
              "\n",
              "#sk-container-id-2 div.sk-label input.sk-toggleable__control:checked~label.sk-toggleable__label {\n",
              "  color: var(--sklearn-color-text);\n",
              "  background-color: var(--sklearn-color-unfitted-level-2);\n",
              "}\n",
              "\n",
              "#sk-container-id-2 div.sk-label.fitted input.sk-toggleable__control:checked~label.sk-toggleable__label {\n",
              "  background-color: var(--sklearn-color-fitted-level-2);\n",
              "}\n",
              "\n",
              "/* Estimator-specific style */\n",
              "\n",
              "/* Colorize estimator box */\n",
              "#sk-container-id-2 div.sk-estimator input.sk-toggleable__control:checked~label.sk-toggleable__label {\n",
              "  /* unfitted */\n",
              "  background-color: var(--sklearn-color-unfitted-level-2);\n",
              "}\n",
              "\n",
              "#sk-container-id-2 div.sk-estimator.fitted input.sk-toggleable__control:checked~label.sk-toggleable__label {\n",
              "  /* fitted */\n",
              "  background-color: var(--sklearn-color-fitted-level-2);\n",
              "}\n",
              "\n",
              "#sk-container-id-2 div.sk-label label.sk-toggleable__label,\n",
              "#sk-container-id-2 div.sk-label label {\n",
              "  /* The background is the default theme color */\n",
              "  color: var(--sklearn-color-text-on-default-background);\n",
              "}\n",
              "\n",
              "/* On hover, darken the color of the background */\n",
              "#sk-container-id-2 div.sk-label:hover label.sk-toggleable__label {\n",
              "  color: var(--sklearn-color-text);\n",
              "  background-color: var(--sklearn-color-unfitted-level-2);\n",
              "}\n",
              "\n",
              "/* Label box, darken color on hover, fitted */\n",
              "#sk-container-id-2 div.sk-label.fitted:hover label.sk-toggleable__label.fitted {\n",
              "  color: var(--sklearn-color-text);\n",
              "  background-color: var(--sklearn-color-fitted-level-2);\n",
              "}\n",
              "\n",
              "/* Estimator label */\n",
              "\n",
              "#sk-container-id-2 div.sk-label label {\n",
              "  font-family: monospace;\n",
              "  font-weight: bold;\n",
              "  display: inline-block;\n",
              "  line-height: 1.2em;\n",
              "}\n",
              "\n",
              "#sk-container-id-2 div.sk-label-container {\n",
              "  text-align: center;\n",
              "}\n",
              "\n",
              "/* Estimator-specific */\n",
              "#sk-container-id-2 div.sk-estimator {\n",
              "  font-family: monospace;\n",
              "  border: 1px dotted var(--sklearn-color-border-box);\n",
              "  border-radius: 0.25em;\n",
              "  box-sizing: border-box;\n",
              "  margin-bottom: 0.5em;\n",
              "  /* unfitted */\n",
              "  background-color: var(--sklearn-color-unfitted-level-0);\n",
              "}\n",
              "\n",
              "#sk-container-id-2 div.sk-estimator.fitted {\n",
              "  /* fitted */\n",
              "  background-color: var(--sklearn-color-fitted-level-0);\n",
              "}\n",
              "\n",
              "/* on hover */\n",
              "#sk-container-id-2 div.sk-estimator:hover {\n",
              "  /* unfitted */\n",
              "  background-color: var(--sklearn-color-unfitted-level-2);\n",
              "}\n",
              "\n",
              "#sk-container-id-2 div.sk-estimator.fitted:hover {\n",
              "  /* fitted */\n",
              "  background-color: var(--sklearn-color-fitted-level-2);\n",
              "}\n",
              "\n",
              "/* Specification for estimator info (e.g. \"i\" and \"?\") */\n",
              "\n",
              "/* Common style for \"i\" and \"?\" */\n",
              "\n",
              ".sk-estimator-doc-link,\n",
              "a:link.sk-estimator-doc-link,\n",
              "a:visited.sk-estimator-doc-link {\n",
              "  float: right;\n",
              "  font-size: smaller;\n",
              "  line-height: 1em;\n",
              "  font-family: monospace;\n",
              "  background-color: var(--sklearn-color-background);\n",
              "  border-radius: 1em;\n",
              "  height: 1em;\n",
              "  width: 1em;\n",
              "  text-decoration: none !important;\n",
              "  margin-left: 1ex;\n",
              "  /* unfitted */\n",
              "  border: var(--sklearn-color-unfitted-level-1) 1pt solid;\n",
              "  color: var(--sklearn-color-unfitted-level-1);\n",
              "}\n",
              "\n",
              ".sk-estimator-doc-link.fitted,\n",
              "a:link.sk-estimator-doc-link.fitted,\n",
              "a:visited.sk-estimator-doc-link.fitted {\n",
              "  /* fitted */\n",
              "  border: var(--sklearn-color-fitted-level-1) 1pt solid;\n",
              "  color: var(--sklearn-color-fitted-level-1);\n",
              "}\n",
              "\n",
              "/* On hover */\n",
              "div.sk-estimator:hover .sk-estimator-doc-link:hover,\n",
              ".sk-estimator-doc-link:hover,\n",
              "div.sk-label-container:hover .sk-estimator-doc-link:hover,\n",
              ".sk-estimator-doc-link:hover {\n",
              "  /* unfitted */\n",
              "  background-color: var(--sklearn-color-unfitted-level-3);\n",
              "  color: var(--sklearn-color-background);\n",
              "  text-decoration: none;\n",
              "}\n",
              "\n",
              "div.sk-estimator.fitted:hover .sk-estimator-doc-link.fitted:hover,\n",
              ".sk-estimator-doc-link.fitted:hover,\n",
              "div.sk-label-container:hover .sk-estimator-doc-link.fitted:hover,\n",
              ".sk-estimator-doc-link.fitted:hover {\n",
              "  /* fitted */\n",
              "  background-color: var(--sklearn-color-fitted-level-3);\n",
              "  color: var(--sklearn-color-background);\n",
              "  text-decoration: none;\n",
              "}\n",
              "\n",
              "/* Span, style for the box shown on hovering the info icon */\n",
              ".sk-estimator-doc-link span {\n",
              "  display: none;\n",
              "  z-index: 9999;\n",
              "  position: relative;\n",
              "  font-weight: normal;\n",
              "  right: .2ex;\n",
              "  padding: .5ex;\n",
              "  margin: .5ex;\n",
              "  width: min-content;\n",
              "  min-width: 20ex;\n",
              "  max-width: 50ex;\n",
              "  color: var(--sklearn-color-text);\n",
              "  box-shadow: 2pt 2pt 4pt #999;\n",
              "  /* unfitted */\n",
              "  background: var(--sklearn-color-unfitted-level-0);\n",
              "  border: .5pt solid var(--sklearn-color-unfitted-level-3);\n",
              "}\n",
              "\n",
              ".sk-estimator-doc-link.fitted span {\n",
              "  /* fitted */\n",
              "  background: var(--sklearn-color-fitted-level-0);\n",
              "  border: var(--sklearn-color-fitted-level-3);\n",
              "}\n",
              "\n",
              ".sk-estimator-doc-link:hover span {\n",
              "  display: block;\n",
              "}\n",
              "\n",
              "/* \"?\"-specific style due to the `<a>` HTML tag */\n",
              "\n",
              "#sk-container-id-2 a.estimator_doc_link {\n",
              "  float: right;\n",
              "  font-size: 1rem;\n",
              "  line-height: 1em;\n",
              "  font-family: monospace;\n",
              "  background-color: var(--sklearn-color-background);\n",
              "  border-radius: 1rem;\n",
              "  height: 1rem;\n",
              "  width: 1rem;\n",
              "  text-decoration: none;\n",
              "  /* unfitted */\n",
              "  color: var(--sklearn-color-unfitted-level-1);\n",
              "  border: var(--sklearn-color-unfitted-level-1) 1pt solid;\n",
              "}\n",
              "\n",
              "#sk-container-id-2 a.estimator_doc_link.fitted {\n",
              "  /* fitted */\n",
              "  border: var(--sklearn-color-fitted-level-1) 1pt solid;\n",
              "  color: var(--sklearn-color-fitted-level-1);\n",
              "}\n",
              "\n",
              "/* On hover */\n",
              "#sk-container-id-2 a.estimator_doc_link:hover {\n",
              "  /* unfitted */\n",
              "  background-color: var(--sklearn-color-unfitted-level-3);\n",
              "  color: var(--sklearn-color-background);\n",
              "  text-decoration: none;\n",
              "}\n",
              "\n",
              "#sk-container-id-2 a.estimator_doc_link.fitted:hover {\n",
              "  /* fitted */\n",
              "  background-color: var(--sklearn-color-fitted-level-3);\n",
              "}\n",
              "</style><div id=\"sk-container-id-2\" class=\"sk-top-container\"><div class=\"sk-text-repr-fallback\"><pre>Pipeline(steps=[(&#x27;imputer&#x27;, KNNImputer(n_neighbors=8)),\n",
              "                (&#x27;regressor&#x27;, Lasso(alpha=0.1, max_iter=6000, tol=1e-05))])</pre><b>In a Jupyter environment, please rerun this cell to show the HTML representation or trust the notebook. <br />On GitHub, the HTML representation is unable to render, please try loading this page with nbviewer.org.</b></div><div class=\"sk-container\" hidden><div class=\"sk-item sk-dashed-wrapped\"><div class=\"sk-label-container\"><div class=\"sk-label fitted sk-toggleable\"><input class=\"sk-toggleable__control sk-hidden--visually\" id=\"sk-estimator-id-4\" type=\"checkbox\" ><label for=\"sk-estimator-id-4\" class=\"sk-toggleable__label fitted sk-toggleable__label-arrow fitted\">&nbsp;&nbsp;Pipeline<a class=\"sk-estimator-doc-link fitted\" rel=\"noreferrer\" target=\"_blank\" href=\"https://scikit-learn.org/1.5/modules/generated/sklearn.pipeline.Pipeline.html\">?<span>Documentation for Pipeline</span></a><span class=\"sk-estimator-doc-link fitted\">i<span>Fitted</span></span></label><div class=\"sk-toggleable__content fitted\"><pre>Pipeline(steps=[(&#x27;imputer&#x27;, KNNImputer(n_neighbors=8)),\n",
              "                (&#x27;regressor&#x27;, Lasso(alpha=0.1, max_iter=6000, tol=1e-05))])</pre></div> </div></div><div class=\"sk-serial\"><div class=\"sk-item\"><div class=\"sk-estimator fitted sk-toggleable\"><input class=\"sk-toggleable__control sk-hidden--visually\" id=\"sk-estimator-id-5\" type=\"checkbox\" ><label for=\"sk-estimator-id-5\" class=\"sk-toggleable__label fitted sk-toggleable__label-arrow fitted\">&nbsp;KNNImputer<a class=\"sk-estimator-doc-link fitted\" rel=\"noreferrer\" target=\"_blank\" href=\"https://scikit-learn.org/1.5/modules/generated/sklearn.impute.KNNImputer.html\">?<span>Documentation for KNNImputer</span></a></label><div class=\"sk-toggleable__content fitted\"><pre>KNNImputer(n_neighbors=8)</pre></div> </div></div><div class=\"sk-item\"><div class=\"sk-estimator fitted sk-toggleable\"><input class=\"sk-toggleable__control sk-hidden--visually\" id=\"sk-estimator-id-6\" type=\"checkbox\" ><label for=\"sk-estimator-id-6\" class=\"sk-toggleable__label fitted sk-toggleable__label-arrow fitted\">&nbsp;Lasso<a class=\"sk-estimator-doc-link fitted\" rel=\"noreferrer\" target=\"_blank\" href=\"https://scikit-learn.org/1.5/modules/generated/sklearn.linear_model.Lasso.html\">?<span>Documentation for Lasso</span></a></label><div class=\"sk-toggleable__content fitted\"><pre>Lasso(alpha=0.1, max_iter=6000, tol=1e-05)</pre></div> </div></div></div></div></div></div>"
            ],
            "text/plain": [
              "Pipeline(steps=[('imputer', KNNImputer(n_neighbors=8)),\n",
              "                ('regressor', Lasso(alpha=0.1, max_iter=6000, tol=1e-05))])"
            ]
          },
          "execution_count": 27,
          "metadata": {},
          "output_type": "execute_result"
        }
      ],
      "source": [
        "lasso_log_max = Pipeline([(\"imputer\", KNNImputer(n_neighbors=8, weights='uniform')),\n",
        "                          (\"regressor\", Lasso(alpha=0.1, max_iter=6000, tol=0.00001))])\n",
        "lasso_log_max.fit(X_train, y_train)"
      ]
    },
    {
      "cell_type": "code",
      "execution_count": null,
      "metadata": {
        "id": "xhm0pyaH53ja"
      },
      "outputs": [],
      "source": [
        "lasso_log_max_preds_train = lasso_log_max.predict(X_train)\n",
        "lasso_log_max_preds_test = lasso_log_max.predict(X_test)"
      ]
    },
    {
      "cell_type": "code",
      "execution_count": null,
      "metadata": {},
      "outputs": [
        {
          "name": "stdout",
          "output_type": "stream",
          "text": [
            "Train R2: 0.1408098710316954\n",
            "Train R: 0.3954425259889201\n",
            "Train MSE: 1.9780005248698946\n",
            "Train MAE: 1.1377317584525082\n",
            "Train MedAE: 0.98617199234898\n",
            "Train MSE (original): 121.38983519885576\n",
            "Train MAE (original): 3.6178429434019392\n",
            "Train MedAE (original): 0.8338481120932044\n",
            "Train upper quartile (original): 2.092433919909164\n",
            "\n",
            "\n",
            "Test R2: 0.13985262352114858\n",
            "Test R: 0.39663758122390663\n",
            "Test MSE: 2.003068493604263\n",
            "Test MAE: 1.1526481659198766\n",
            "Test MedAE: 1.0089424450882516\n",
            "Test MSE (original): 141.9848451077848\n",
            "Test MAE (original): 3.558993142787851\n",
            "Test MedAE (original): 0.8226652434857926\n",
            "Test upper quartile (original): 1.8648098918976004\n"
          ]
        }
      ],
      "source": [
        "print(\"Train R2: \" + str(r2_score(y_train, lasso_log_max_preds_train)))\n",
        "print(\"Train R: \" + str(scipy.stats.pearsonr(np.array(y_train).flatten(), lasso_log_max_preds_train)[0]))\n",
        "print(\"Train MSE: \" + str(mean_squared_error(y_train, lasso_log_max_preds_train)))\n",
        "print(\"Train MAE: \" + str(mean_absolute_error(y_train, lasso_log_max_preds_train)))\n",
        "print(\"Train MedAE: \" + str(median_absolute_error(y_train, lasso_log_max_preds_train)))\n",
        "print(\"Train MSE (original): \" + str(mean_squared_error(np.exp(y_train) - 0.001, np.exp(lasso_log_max_preds_train) - 0.001)))\n",
        "print(\"Train MAE (original): \" + str(mean_absolute_error(np.exp(y_train) - 0.001, np.exp(lasso_log_max_preds_train) - 0.001)))\n",
        "print(\"Train MedAE (original): \" + str(median_absolute_error(np.exp(y_train) - 0.001, np.exp(lasso_log_max_preds_train) - 0.001)))\n",
        "print(\"Train upper quartile (original): \" + str(np.quantile(abs(np.exp(y_train) - np.exp(lasso_log_max_preds_train)), 0.75)))\n",
        "print(\"\\n\")\n",
        "print(\"Test R2: \" + str(r2_score(y_test, lasso_log_max_preds_test)))\n",
        "print(\"Test R: \" + str(scipy.stats.pearsonr(np.array(y_test).flatten(), lasso_log_max_preds_test)[0]))\n",
        "print(\"Test MSE: \" + str(mean_squared_error(y_test, lasso_log_max_preds_test)))\n",
        "print(\"Test MAE: \" + str(mean_absolute_error(y_test, lasso_log_max_preds_test)))\n",
        "print(\"Test MedAE: \" + str(median_absolute_error(y_test, lasso_log_max_preds_test)))\n",
        "print(\"Test MSE (original): \" + str(mean_squared_error(np.exp(y_test) - 0.001, np.exp(lasso_log_max_preds_test) - 0.001)))\n",
        "print(\"Test MAE (original): \" + str(mean_absolute_error(np.exp(y_test) - 0.001, np.exp(lasso_log_max_preds_test) - 0.001)))\n",
        "print(\"Test MedAE (original): \" + str(median_absolute_error(np.exp(y_test) - 0.001, np.exp(lasso_log_max_preds_test) - 0.001)))\n",
        "print(\"Test upper quartile (original): \" + str(np.quantile(abs(np.exp(y_test) - np.exp(lasso_log_max_preds_test)), 0.75)))"
      ]
    },
    {
      "cell_type": "markdown",
      "metadata": {
        "id": "ItgLidZPlqwc"
      },
      "source": [
        "####  **CONTROL 2) HGBM： only Meteorological and Land-Use Land-Cover features**"
      ]
    },
    {
      "cell_type": "markdown",
      "metadata": {
        "id": "qvaxxEtSs9sA"
      },
      "source": [
        "#####  **Binary Classification (Cross-Validation):**"
      ]
    },
    {
      "cell_type": "code",
      "execution_count": null,
      "metadata": {
        "id": "SigNz8Q9MVEZ"
      },
      "outputs": [],
      "source": [
        "y = data['SO2_above_0']\n",
        "X = data.iloc[:,6:317]\n",
        "\n",
        "X_train, X_test, y_train, y_test = train_test_split(X, y, test_size=0.2, random_state=42, stratify=y)"
      ]
    },
    {
      "cell_type": "code",
      "execution_count": null,
      "metadata": {
        "id": "Na71lUXa36Av"
      },
      "outputs": [],
      "source": [
        "binary_gbm = HistGradientBoostingClassifier(max_iter = 5000, learning_rate = 0.001,\n",
        "                                            max_depth = 5, max_leaf_nodes = 2 ** 5 - 1,\n",
        "                                            random_state=42,\n",
        "                                            class_weight={0: 1 / (Counter(data['SO2_above_0'])[0] / (Counter(data['SO2_above_0'])[1] + Counter(data['SO2_above_0'])[0])),\n",
        "                                                          1: 1 / (Counter(data['SO2_above_0'])[1] / (Counter(data['SO2_above_0'])[1] + Counter(data['SO2_above_0'])[0]))})\n",
        "\n",
        "accuracy, precision, recall, f1score = cross_validate_fit_binary_classification(binary_gbm , X_train, y_train)"
      ]
    },
    {
      "cell_type": "code",
      "execution_count": null,
      "metadata": {},
      "outputs": [
        {
          "name": "stdout",
          "output_type": "stream",
          "text": [
            "0.7615602200937437\n",
            "0.8324582873206413\n",
            "0.7615602200937437\n",
            "0.7836441838439161\n"
          ]
        }
      ],
      "source": [
        "print(np.mean([accuracy[n][0] for n in range(10)]))\n",
        "print(np.mean([precision[n][0] for n in range(10)]))\n",
        "print(np.mean([recall[n][0] for n in range(10)]))\n",
        "print(np.mean([f1score[n][0] for n in range(10)]))"
      ]
    },
    {
      "cell_type": "markdown",
      "metadata": {
        "id": "xwBS2AAitCGz"
      },
      "source": [
        "#####  **Binary Classification (Training & Testing):**"
      ]
    },
    {
      "cell_type": "code",
      "execution_count": null,
      "metadata": {
        "colab": {
          "base_uri": "https://localhost:8080/",
          "height": 127
        },
        "id": "UIiUHTXrDX6Q",
        "outputId": "466c4c55-81ae-4c41-97ac-e014ac058057"
      },
      "outputs": [
        {
          "data": {
            "text/html": [
              "<style>#sk-container-id-3 {color: black;}#sk-container-id-3 pre{padding: 0;}#sk-container-id-3 div.sk-toggleable {background-color: white;}#sk-container-id-3 label.sk-toggleable__label {cursor: pointer;display: block;width: 100%;margin-bottom: 0;padding: 0.3em;box-sizing: border-box;text-align: center;}#sk-container-id-3 label.sk-toggleable__label-arrow:before {content: \"▸\";float: left;margin-right: 0.25em;color: #696969;}#sk-container-id-3 label.sk-toggleable__label-arrow:hover:before {color: black;}#sk-container-id-3 div.sk-estimator:hover label.sk-toggleable__label-arrow:before {color: black;}#sk-container-id-3 div.sk-toggleable__content {max-height: 0;max-width: 0;overflow: hidden;text-align: left;background-color: #f0f8ff;}#sk-container-id-3 div.sk-toggleable__content pre {margin: 0.2em;color: black;border-radius: 0.25em;background-color: #f0f8ff;}#sk-container-id-3 input.sk-toggleable__control:checked~div.sk-toggleable__content {max-height: 200px;max-width: 100%;overflow: auto;}#sk-container-id-3 input.sk-toggleable__control:checked~label.sk-toggleable__label-arrow:before {content: \"▾\";}#sk-container-id-3 div.sk-estimator input.sk-toggleable__control:checked~label.sk-toggleable__label {background-color: #d4ebff;}#sk-container-id-3 div.sk-label input.sk-toggleable__control:checked~label.sk-toggleable__label {background-color: #d4ebff;}#sk-container-id-3 input.sk-hidden--visually {border: 0;clip: rect(1px 1px 1px 1px);clip: rect(1px, 1px, 1px, 1px);height: 1px;margin: -1px;overflow: hidden;padding: 0;position: absolute;width: 1px;}#sk-container-id-3 div.sk-estimator {font-family: monospace;background-color: #f0f8ff;border: 1px dotted black;border-radius: 0.25em;box-sizing: border-box;margin-bottom: 0.5em;}#sk-container-id-3 div.sk-estimator:hover {background-color: #d4ebff;}#sk-container-id-3 div.sk-parallel-item::after {content: \"\";width: 100%;border-bottom: 1px solid gray;flex-grow: 1;}#sk-container-id-3 div.sk-label:hover label.sk-toggleable__label {background-color: #d4ebff;}#sk-container-id-3 div.sk-serial::before {content: \"\";position: absolute;border-left: 1px solid gray;box-sizing: border-box;top: 0;bottom: 0;left: 50%;z-index: 0;}#sk-container-id-3 div.sk-serial {display: flex;flex-direction: column;align-items: center;background-color: white;padding-right: 0.2em;padding-left: 0.2em;position: relative;}#sk-container-id-3 div.sk-item {position: relative;z-index: 1;}#sk-container-id-3 div.sk-parallel {display: flex;align-items: stretch;justify-content: center;background-color: white;position: relative;}#sk-container-id-3 div.sk-item::before, #sk-container-id-3 div.sk-parallel-item::before {content: \"\";position: absolute;border-left: 1px solid gray;box-sizing: border-box;top: 0;bottom: 0;left: 50%;z-index: -1;}#sk-container-id-3 div.sk-parallel-item {display: flex;flex-direction: column;z-index: 1;position: relative;background-color: white;}#sk-container-id-3 div.sk-parallel-item:first-child::after {align-self: flex-end;width: 50%;}#sk-container-id-3 div.sk-parallel-item:last-child::after {align-self: flex-start;width: 50%;}#sk-container-id-3 div.sk-parallel-item:only-child::after {width: 0;}#sk-container-id-3 div.sk-dashed-wrapped {border: 1px dashed gray;margin: 0 0.4em 0.5em 0.4em;box-sizing: border-box;padding-bottom: 0.4em;background-color: white;}#sk-container-id-3 div.sk-label label {font-family: monospace;font-weight: bold;display: inline-block;line-height: 1.2em;}#sk-container-id-3 div.sk-label-container {text-align: center;}#sk-container-id-3 div.sk-container {/* jupyter's `normalize.less` sets `[hidden] { display: none; }` but bootstrap.min.css set `[hidden] { display: none !important; }` so we also need the `!important` here to be able to override the default hidden behavior on the sphinx rendered scikit-learn.org. See: https://github.com/scikit-learn/scikit-learn/issues/21755 */display: inline-block !important;position: relative;}#sk-container-id-3 div.sk-text-repr-fallback {display: none;}</style><div id=\"sk-container-id-3\" class=\"sk-top-container\"><div class=\"sk-text-repr-fallback\"><pre>HistGradientBoostingClassifier(class_weight={0: 5.597444089456869,\n",
              "                                             1: 1.2175121612230715},\n",
              "                               learning_rate=0.001, max_depth=5, max_iter=5000,\n",
              "                               random_state=42)</pre><b>In a Jupyter environment, please rerun this cell to show the HTML representation or trust the notebook. <br />On GitHub, the HTML representation is unable to render, please try loading this page with nbviewer.org.</b></div><div class=\"sk-container\" hidden><div class=\"sk-item\"><div class=\"sk-estimator sk-toggleable\"><input class=\"sk-toggleable__control sk-hidden--visually\" id=\"sk-estimator-id-3\" type=\"checkbox\" checked><label for=\"sk-estimator-id-3\" class=\"sk-toggleable__label sk-toggleable__label-arrow\">HistGradientBoostingClassifier</label><div class=\"sk-toggleable__content\"><pre>HistGradientBoostingClassifier(class_weight={0: 5.597444089456869,\n",
              "                                             1: 1.2175121612230715},\n",
              "                               learning_rate=0.001, max_depth=5, max_iter=5000,\n",
              "                               random_state=42)</pre></div></div></div></div></div>"
            ],
            "text/plain": [
              "HistGradientBoostingClassifier(class_weight={0: 5.597444089456869,\n",
              "                                             1: 1.2175121612230715},\n",
              "                               learning_rate=0.001, max_depth=5, max_iter=5000,\n",
              "                               random_state=42)"
            ]
          },
          "execution_count": 36,
          "metadata": {},
          "output_type": "execute_result"
        }
      ],
      "source": [
        "binary_gbm_control = HistGradientBoostingClassifier(max_iter = 5000, learning_rate = 0.001,\n",
        "                                                    max_depth = 5, max_leaf_nodes = 2 ** 5 - 1,\n",
        "                                                    random_state=42,\n",
        "                                                    class_weight={0: 1 / (Counter(data['SO2_above_0'])[0] / (Counter(data['SO2_above_0'])[1] + Counter(data['SO2_above_0'])[0])),\n",
        "                                                                  1: 1 / (Counter(data['SO2_above_0'])[1] / (Counter(data['SO2_above_0'])[1] + Counter(data['SO2_above_0'])[0]))})\n",
        "binary_gbm_control.fit(X_train, y_train)"
      ]
    },
    {
      "cell_type": "code",
      "execution_count": null,
      "metadata": {
        "id": "C_7HEKSpDbFG"
      },
      "outputs": [],
      "source": [
        "binary_control_preds_train = binary_gbm_control.predict(X_train)\n",
        "binary_control_preds_test = binary_gbm_control.predict(X_test)"
      ]
    },
    {
      "cell_type": "code",
      "execution_count": null,
      "metadata": {},
      "outputs": [
        {
          "name": "stdout",
          "output_type": "stream",
          "text": [
            "              precision    recall  f1-score   support\n",
            "\n",
            "           0       0.51      0.92      0.65      1252\n",
            "           1       0.98      0.81      0.88      5756\n",
            "\n",
            "    accuracy                           0.83      7008\n",
            "   macro avg       0.74      0.86      0.77      7008\n",
            "weighted avg       0.89      0.83      0.84      7008\n",
            "\n"
          ]
        }
      ],
      "source": [
        "print(classification_report(y_train, binary_control_preds_train))"
      ]
    },
    {
      "cell_type": "code",
      "execution_count": null,
      "metadata": {},
      "outputs": [
        {
          "data": {
            "text/plain": [
              "array([[1147,  105],\n",
              "       [1113, 4643]])"
            ]
          },
          "metadata": {},
          "output_type": "display_data"
        }
      ],
      "source": [
        "confusion_matrix(y_train, binary_control_preds_train)"
      ]
    },
    {
      "cell_type": "code",
      "execution_count": null,
      "metadata": {},
      "outputs": [
        {
          "name": "stdout",
          "output_type": "stream",
          "text": [
            "              precision    recall  f1-score   support\n",
            "\n",
            "           0       0.38      0.74      0.51       313\n",
            "           1       0.93      0.74      0.82      1439\n",
            "\n",
            "    accuracy                           0.74      1752\n",
            "   macro avg       0.66      0.74      0.67      1752\n",
            "weighted avg       0.83      0.74      0.77      1752\n",
            "\n"
          ]
        }
      ],
      "source": [
        "print(classification_report(y_test, binary_control_preds_test))"
      ]
    },
    {
      "cell_type": "code",
      "execution_count": null,
      "metadata": {},
      "outputs": [
        {
          "data": {
            "text/plain": [
              "array([[ 233,   80],\n",
              "       [ 374, 1065]])"
            ]
          },
          "metadata": {},
          "output_type": "display_data"
        }
      ],
      "source": [
        "confusion_matrix(y_test, binary_control_preds_test)"
      ]
    },
    {
      "cell_type": "markdown",
      "metadata": {
        "id": "3OZ1IG9zs6Uw"
      },
      "source": [
        "#####  **Daily Mean SO2 Regression (Cross-Validation):**"
      ]
    },
    {
      "cell_type": "code",
      "execution_count": null,
      "metadata": {
        "id": "S81A6tdhW94m"
      },
      "outputs": [],
      "source": [
        "endog = np.log(data[data['SO2_above_0'] == 1]['mean_so2'] + 0.001)\n",
        "scaler = StandardScaler().fit(data[data['SO2_above_0'] == 1].iloc[:,6:318])\n",
        "exog = np.concatenate((\n",
        "        scaler.transform(data[data['SO2_above_0'] == 1].iloc[:,6:318]),\n",
        "        data[data['SO2_above_0'] == 1].iloc[:,318:323],\n",
        "), axis = 1)\n",
        "group = data[data['SO2_above_0'] == 1]['id']\n",
        "\n",
        "X_train, X_test, y_train, y_test = train_test_split(exog, endog, test_size=0.2, random_state=42, stratify=group)"
      ]
    },
    {
      "cell_type": "code",
      "execution_count": null,
      "metadata": {
        "id": "J5ggwOla0P5B"
      },
      "outputs": [],
      "source": [
        "gbmlogmean = HistGradientBoostingRegressor(max_iter = 5000,\n",
        "                                           learning_rate = 0.001,\n",
        "                                           max_depth = 5,\n",
        "                                           max_leaf_nodes = 2 ** 5 - 1,\n",
        "                                           random_state=42)\n",
        "\n",
        "m1a, m2a, m3a, m4a, m5a, m6a, m7a, \\\n",
        "  m1b, m2b, m3b, m4b, m5b, m6b, m7b = cross_validate_fit_regression(gbmlogmean , X_train, y_train)"
      ]
    },
    {
      "cell_type": "code",
      "execution_count": null,
      "metadata": {},
      "outputs": [
        {
          "name": "stdout",
          "output_type": "stream",
          "text": [
            "R2: 0.3623530924707542\n",
            "r: 0.6145094487560907\n",
            "MAE: 0.9678119050368759\n",
            "MedAE: 0.7352449737947714\n",
            "MAE (original): 0.7314343492577107\n",
            "MedAE (original): 0.18060846515939846\n",
            "upper quartile (original): 0.44234374813507643\n"
          ]
        }
      ],
      "source": [
        "print(\"R2: \" + str(np.mean(m1a)))\n",
        "print(\"r: \" + str(np.mean(m2a)))\n",
        "print(\"MAE: \" + str(np.mean(m3a)))\n",
        "print(\"MedAE: \" + str(np.mean(m4a)))\n",
        "print(\"MAE (original): \" + str(np.mean(m5a)))\n",
        "print(\"MedAE (original): \" + str(np.mean(m6a)))\n",
        "print(\"upper quartile (original): \" + str(np.mean(m7a)))"
      ]
    },
    {
      "cell_type": "markdown",
      "metadata": {
        "id": "KjW5vebG31LG"
      },
      "source": [
        "#####  **Daily Mean SO2 Regression (Training & Testing):**"
      ]
    },
    {
      "cell_type": "code",
      "execution_count": null,
      "metadata": {
        "colab": {
          "base_uri": "https://localhost:8080/",
          "height": 93
        },
        "id": "rzg2oesPsylr",
        "outputId": "0a53184f-cf7f-4fed-ce8f-3fc1e92f83e3"
      },
      "outputs": [
        {
          "data": {
            "text/html": [
              "<style>#sk-container-id-1 {color: black;}#sk-container-id-1 pre{padding: 0;}#sk-container-id-1 div.sk-toggleable {background-color: white;}#sk-container-id-1 label.sk-toggleable__label {cursor: pointer;display: block;width: 100%;margin-bottom: 0;padding: 0.3em;box-sizing: border-box;text-align: center;}#sk-container-id-1 label.sk-toggleable__label-arrow:before {content: \"▸\";float: left;margin-right: 0.25em;color: #696969;}#sk-container-id-1 label.sk-toggleable__label-arrow:hover:before {color: black;}#sk-container-id-1 div.sk-estimator:hover label.sk-toggleable__label-arrow:before {color: black;}#sk-container-id-1 div.sk-toggleable__content {max-height: 0;max-width: 0;overflow: hidden;text-align: left;background-color: #f0f8ff;}#sk-container-id-1 div.sk-toggleable__content pre {margin: 0.2em;color: black;border-radius: 0.25em;background-color: #f0f8ff;}#sk-container-id-1 input.sk-toggleable__control:checked~div.sk-toggleable__content {max-height: 200px;max-width: 100%;overflow: auto;}#sk-container-id-1 input.sk-toggleable__control:checked~label.sk-toggleable__label-arrow:before {content: \"▾\";}#sk-container-id-1 div.sk-estimator input.sk-toggleable__control:checked~label.sk-toggleable__label {background-color: #d4ebff;}#sk-container-id-1 div.sk-label input.sk-toggleable__control:checked~label.sk-toggleable__label {background-color: #d4ebff;}#sk-container-id-1 input.sk-hidden--visually {border: 0;clip: rect(1px 1px 1px 1px);clip: rect(1px, 1px, 1px, 1px);height: 1px;margin: -1px;overflow: hidden;padding: 0;position: absolute;width: 1px;}#sk-container-id-1 div.sk-estimator {font-family: monospace;background-color: #f0f8ff;border: 1px dotted black;border-radius: 0.25em;box-sizing: border-box;margin-bottom: 0.5em;}#sk-container-id-1 div.sk-estimator:hover {background-color: #d4ebff;}#sk-container-id-1 div.sk-parallel-item::after {content: \"\";width: 100%;border-bottom: 1px solid gray;flex-grow: 1;}#sk-container-id-1 div.sk-label:hover label.sk-toggleable__label {background-color: #d4ebff;}#sk-container-id-1 div.sk-serial::before {content: \"\";position: absolute;border-left: 1px solid gray;box-sizing: border-box;top: 0;bottom: 0;left: 50%;z-index: 0;}#sk-container-id-1 div.sk-serial {display: flex;flex-direction: column;align-items: center;background-color: white;padding-right: 0.2em;padding-left: 0.2em;position: relative;}#sk-container-id-1 div.sk-item {position: relative;z-index: 1;}#sk-container-id-1 div.sk-parallel {display: flex;align-items: stretch;justify-content: center;background-color: white;position: relative;}#sk-container-id-1 div.sk-item::before, #sk-container-id-1 div.sk-parallel-item::before {content: \"\";position: absolute;border-left: 1px solid gray;box-sizing: border-box;top: 0;bottom: 0;left: 50%;z-index: -1;}#sk-container-id-1 div.sk-parallel-item {display: flex;flex-direction: column;z-index: 1;position: relative;background-color: white;}#sk-container-id-1 div.sk-parallel-item:first-child::after {align-self: flex-end;width: 50%;}#sk-container-id-1 div.sk-parallel-item:last-child::after {align-self: flex-start;width: 50%;}#sk-container-id-1 div.sk-parallel-item:only-child::after {width: 0;}#sk-container-id-1 div.sk-dashed-wrapped {border: 1px dashed gray;margin: 0 0.4em 0.5em 0.4em;box-sizing: border-box;padding-bottom: 0.4em;background-color: white;}#sk-container-id-1 div.sk-label label {font-family: monospace;font-weight: bold;display: inline-block;line-height: 1.2em;}#sk-container-id-1 div.sk-label-container {text-align: center;}#sk-container-id-1 div.sk-container {/* jupyter's `normalize.less` sets `[hidden] { display: none; }` but bootstrap.min.css set `[hidden] { display: none !important; }` so we also need the `!important` here to be able to override the default hidden behavior on the sphinx rendered scikit-learn.org. See: https://github.com/scikit-learn/scikit-learn/issues/21755 */display: inline-block !important;position: relative;}#sk-container-id-1 div.sk-text-repr-fallback {display: none;}</style><div id=\"sk-container-id-1\" class=\"sk-top-container\"><div class=\"sk-text-repr-fallback\"><pre>HistGradientBoostingRegressor(learning_rate=0.001, max_depth=5, max_iter=5000,\n",
              "                              random_state=42)</pre><b>In a Jupyter environment, please rerun this cell to show the HTML representation or trust the notebook. <br />On GitHub, the HTML representation is unable to render, please try loading this page with nbviewer.org.</b></div><div class=\"sk-container\" hidden><div class=\"sk-item\"><div class=\"sk-estimator sk-toggleable\"><input class=\"sk-toggleable__control sk-hidden--visually\" id=\"sk-estimator-id-1\" type=\"checkbox\" checked><label for=\"sk-estimator-id-1\" class=\"sk-toggleable__label sk-toggleable__label-arrow\">HistGradientBoostingRegressor</label><div class=\"sk-toggleable__content\"><pre>HistGradientBoostingRegressor(learning_rate=0.001, max_depth=5, max_iter=5000,\n",
              "                              random_state=42)</pre></div></div></div></div></div>"
            ],
            "text/plain": [
              "HistGradientBoostingRegressor(learning_rate=0.001, max_depth=5, max_iter=5000,\n",
              "                              random_state=42)"
            ]
          },
          "execution_count": 24,
          "metadata": {},
          "output_type": "execute_result"
        }
      ],
      "source": [
        "gbmlogmean_control = HistGradientBoostingRegressor(max_iter = 5000, learning_rate = 0.001,\n",
        "                                                  max_depth = 5, max_leaf_nodes = 2 ** 5 - 1,\n",
        "                                                  random_state=42)\n",
        "gbmlogmean_control.fit(X_train, y_train)"
      ]
    },
    {
      "cell_type": "code",
      "execution_count": null,
      "metadata": {
        "id": "vEszyws7s4Th"
      },
      "outputs": [],
      "source": [
        "gbmlogmean_control_preds_train = gbmlogmean_control.predict(X_train)\n",
        "gbmlogmean_control_preds_test = gbmlogmean_control.predict(X_test)"
      ]
    },
    {
      "cell_type": "code",
      "execution_count": null,
      "metadata": {},
      "outputs": [
        {
          "name": "stdout",
          "output_type": "stream",
          "text": [
            "Train R2: 0.5322119681617024\n",
            "Train R: 0.7667331708051086\n",
            "Train MSE: 1.2166865188612694\n",
            "Train MAE: 0.8316340356507674\n",
            "Train MedAE: 0.6354516778842864\n",
            "Train MAE (original): 4.365517573522495\n",
            "Train MAE (original): 0.6761531242386526\n",
            "Train MedAE (original): 0.1498870220075325\n",
            "Train upper quartile (original): 0.378153543249021\n",
            "\n",
            "\n",
            "Test R2: 0.3676424551359253\n",
            "Test R: 0.619193062197306\n",
            "Test MSE: 1.7128329817119154\n",
            "Test MAE: 0.9856529511686465\n",
            "Test MedAE: 0.7387912271165589\n",
            "Test MAE (original): 4.700790719158652\n",
            "Test MAE (original): 0.7207986461896725\n",
            "Test MedAE (original): 0.17143467099870585\n",
            "Test upper quartile (original): 0.4075431838473958\n"
          ]
        }
      ],
      "source": [
        "print(\"Train R2: \" + str(r2_score(y_train, gbmlogmean_control_preds_train)))\n",
        "print(\"Train R: \" + str(scipy.stats.pearsonr(np.array(y_train).flatten(), gbmlogmean_control_preds_train)[0]))\n",
        "print(\"Train MSE: \" + str(mean_squared_error(y_train, gbmlogmean_control_preds_train)))\n",
        "print(\"Train MAE: \" + str(mean_absolute_error(y_train, gbmlogmean_control_preds_train)))\n",
        "print(\"Train MedAE: \" + str(median_absolute_error(y_train, gbmlogmean_control_preds_train)))\n",
        "print(\"Train MAE (original): \" + str(mean_squared_error(np.exp(y_train) - 0.001, np.exp(gbmlogmean_control_preds_train) - 0.001)))\n",
        "print(\"Train MAE (original): \" + str(mean_absolute_error(np.exp(y_train) - 0.001, np.exp(gbmlogmean_control_preds_train) - 0.001)))\n",
        "print(\"Train MedAE (original): \" + str(median_absolute_error(np.exp(y_train) - 0.001, np.exp(gbmlogmean_control_preds_train) - 0.001)))\n",
        "print(\"Train upper quartile (original): \" + str(np.quantile(abs(np.exp(y_train) - np.exp(gbmlogmean_control_preds_train)), 0.75)))\n",
        "print(\"\\n\")\n",
        "print(\"Test R2: \" + str(r2_score(y_test, gbmlogmean_control_preds_test)))\n",
        "print(\"Test R: \" + str(scipy.stats.pearsonr(np.array(y_test).flatten(), gbmlogmean_control_preds_test)[0]))\n",
        "print(\"Test MSE: \" + str(mean_squared_error(y_test, gbmlogmean_control_preds_test)))\n",
        "print(\"Test MAE: \" + str(mean_absolute_error(y_test, gbmlogmean_control_preds_test)))\n",
        "print(\"Test MedAE: \" + str(median_absolute_error(y_test, gbmlogmean_control_preds_test)))\n",
        "print(\"Test MAE (original): \" + str(mean_squared_error(np.exp(y_test) - 0.001, np.exp(gbmlogmean_control_preds_test) - 0.001)))\n",
        "print(\"Test MAE (original): \" + str(mean_absolute_error(np.exp(y_test) - 0.001, np.exp(gbmlogmean_control_preds_test) - 0.001)))\n",
        "print(\"Test MedAE (original): \" + str(median_absolute_error(np.exp(y_test) - 0.001, np.exp(gbmlogmean_control_preds_test) - 0.001)))\n",
        "print(\"Test upper quartile (original): \" + str(np.quantile(abs(np.exp(y_test) - np.exp(gbmlogmean_control_preds_test)), 0.75)))"
      ]
    },
    {
      "cell_type": "markdown",
      "metadata": {
        "id": "dPAadD714vfQ"
      },
      "source": [
        "#####  **Daily Max SO2 Regression (Cross-Validation):**"
      ]
    },
    {
      "cell_type": "code",
      "execution_count": null,
      "metadata": {
        "id": "Grxwu3sZjxdM"
      },
      "outputs": [],
      "source": [
        "endog = np.log(data[data['SO2_above_0'] == 1]['max_so2'] + 0.001)\n",
        "scaler = StandardScaler().fit(data[data['SO2_above_0'] == 1].iloc[:,6:318])\n",
        "exog = np.concatenate((\n",
        "        scaler.transform(data[data['SO2_above_0'] == 1].iloc[:,6:318]),\n",
        "        data[data['SO2_above_0'] == 1].iloc[:,318:323],\n",
        "), axis = 1)\n",
        "group = data[data['SO2_above_0'] == 1]['id']\n",
        "\n",
        "X_train, X_test, y_train, y_test = train_test_split(exog, endog, test_size=0.2, random_state=42, stratify=group)"
      ]
    },
    {
      "cell_type": "code",
      "execution_count": null,
      "metadata": {
        "id": "Av91BWTt5QtX"
      },
      "outputs": [],
      "source": [
        "gbmlogmean = HistGradientBoostingRegressor(max_iter = 5000,\n",
        "                                           learning_rate = 0.001,\n",
        "                                           max_depth = 5,\n",
        "                                           max_leaf_nodes = 2 ** 5 - 1,\n",
        "                                           random_state=42)\n",
        "\n",
        "m1a, m2a, m3a, m4a, m5a, m6a, m7a, \\\n",
        "  m1b, m2b, m3b, m4b, m5b, m6b, m7b = cross_validate_fit_regression(gbmlogmean , X_train, y_train)"
      ]
    },
    {
      "cell_type": "code",
      "execution_count": null,
      "metadata": {},
      "outputs": [
        {
          "name": "stdout",
          "output_type": "stream",
          "text": [
            "R2: 0.39470496481786266\n",
            "r: 0.6416712689622848\n",
            "MAE: 0.923676755044237\n",
            "MedAE: 0.7534499728978206\n",
            "MAE (original): 3.241800960974367\n",
            "MedAE (original): 0.7152887557910284\n",
            "upper quartile (original): 2.0144860134703064\n"
          ]
        }
      ],
      "source": [
        "print(\"R2: \" + str(np.mean(m1a)))\n",
        "print(\"r: \" + str(np.mean(m2a)))\n",
        "print(\"MAE: \" + str(np.mean(m3a)))\n",
        "print(\"MedAE: \" + str(np.mean(m4a)))\n",
        "print(\"MAE (original): \" + str(np.mean(m5a)))\n",
        "print(\"MedAE (original): \" + str(np.mean(m6a)))\n",
        "print(\"upper quartile (original): \" + str(np.mean(m7a)))"
      ]
    },
    {
      "cell_type": "markdown",
      "metadata": {
        "id": "FhKtF6p641nX"
      },
      "source": [
        "#####  **Daily Max SO2 Regression (Training & Testing):**"
      ]
    },
    {
      "cell_type": "code",
      "execution_count": null,
      "metadata": {
        "colab": {
          "base_uri": "https://localhost:8080/",
          "height": 93
        },
        "id": "YIcvZNnYuR7P",
        "outputId": "41a06f93-c42c-47fe-9d23-56db650dddb5"
      },
      "outputs": [
        {
          "data": {
            "text/html": [
              "<style>#sk-container-id-2 {color: black;}#sk-container-id-2 pre{padding: 0;}#sk-container-id-2 div.sk-toggleable {background-color: white;}#sk-container-id-2 label.sk-toggleable__label {cursor: pointer;display: block;width: 100%;margin-bottom: 0;padding: 0.3em;box-sizing: border-box;text-align: center;}#sk-container-id-2 label.sk-toggleable__label-arrow:before {content: \"▸\";float: left;margin-right: 0.25em;color: #696969;}#sk-container-id-2 label.sk-toggleable__label-arrow:hover:before {color: black;}#sk-container-id-2 div.sk-estimator:hover label.sk-toggleable__label-arrow:before {color: black;}#sk-container-id-2 div.sk-toggleable__content {max-height: 0;max-width: 0;overflow: hidden;text-align: left;background-color: #f0f8ff;}#sk-container-id-2 div.sk-toggleable__content pre {margin: 0.2em;color: black;border-radius: 0.25em;background-color: #f0f8ff;}#sk-container-id-2 input.sk-toggleable__control:checked~div.sk-toggleable__content {max-height: 200px;max-width: 100%;overflow: auto;}#sk-container-id-2 input.sk-toggleable__control:checked~label.sk-toggleable__label-arrow:before {content: \"▾\";}#sk-container-id-2 div.sk-estimator input.sk-toggleable__control:checked~label.sk-toggleable__label {background-color: #d4ebff;}#sk-container-id-2 div.sk-label input.sk-toggleable__control:checked~label.sk-toggleable__label {background-color: #d4ebff;}#sk-container-id-2 input.sk-hidden--visually {border: 0;clip: rect(1px 1px 1px 1px);clip: rect(1px, 1px, 1px, 1px);height: 1px;margin: -1px;overflow: hidden;padding: 0;position: absolute;width: 1px;}#sk-container-id-2 div.sk-estimator {font-family: monospace;background-color: #f0f8ff;border: 1px dotted black;border-radius: 0.25em;box-sizing: border-box;margin-bottom: 0.5em;}#sk-container-id-2 div.sk-estimator:hover {background-color: #d4ebff;}#sk-container-id-2 div.sk-parallel-item::after {content: \"\";width: 100%;border-bottom: 1px solid gray;flex-grow: 1;}#sk-container-id-2 div.sk-label:hover label.sk-toggleable__label {background-color: #d4ebff;}#sk-container-id-2 div.sk-serial::before {content: \"\";position: absolute;border-left: 1px solid gray;box-sizing: border-box;top: 0;bottom: 0;left: 50%;z-index: 0;}#sk-container-id-2 div.sk-serial {display: flex;flex-direction: column;align-items: center;background-color: white;padding-right: 0.2em;padding-left: 0.2em;position: relative;}#sk-container-id-2 div.sk-item {position: relative;z-index: 1;}#sk-container-id-2 div.sk-parallel {display: flex;align-items: stretch;justify-content: center;background-color: white;position: relative;}#sk-container-id-2 div.sk-item::before, #sk-container-id-2 div.sk-parallel-item::before {content: \"\";position: absolute;border-left: 1px solid gray;box-sizing: border-box;top: 0;bottom: 0;left: 50%;z-index: -1;}#sk-container-id-2 div.sk-parallel-item {display: flex;flex-direction: column;z-index: 1;position: relative;background-color: white;}#sk-container-id-2 div.sk-parallel-item:first-child::after {align-self: flex-end;width: 50%;}#sk-container-id-2 div.sk-parallel-item:last-child::after {align-self: flex-start;width: 50%;}#sk-container-id-2 div.sk-parallel-item:only-child::after {width: 0;}#sk-container-id-2 div.sk-dashed-wrapped {border: 1px dashed gray;margin: 0 0.4em 0.5em 0.4em;box-sizing: border-box;padding-bottom: 0.4em;background-color: white;}#sk-container-id-2 div.sk-label label {font-family: monospace;font-weight: bold;display: inline-block;line-height: 1.2em;}#sk-container-id-2 div.sk-label-container {text-align: center;}#sk-container-id-2 div.sk-container {/* jupyter's `normalize.less` sets `[hidden] { display: none; }` but bootstrap.min.css set `[hidden] { display: none !important; }` so we also need the `!important` here to be able to override the default hidden behavior on the sphinx rendered scikit-learn.org. See: https://github.com/scikit-learn/scikit-learn/issues/21755 */display: inline-block !important;position: relative;}#sk-container-id-2 div.sk-text-repr-fallback {display: none;}</style><div id=\"sk-container-id-2\" class=\"sk-top-container\"><div class=\"sk-text-repr-fallback\"><pre>HistGradientBoostingRegressor(learning_rate=0.001, max_depth=5, max_iter=5000,\n",
              "                              random_state=42)</pre><b>In a Jupyter environment, please rerun this cell to show the HTML representation or trust the notebook. <br />On GitHub, the HTML representation is unable to render, please try loading this page with nbviewer.org.</b></div><div class=\"sk-container\" hidden><div class=\"sk-item\"><div class=\"sk-estimator sk-toggleable\"><input class=\"sk-toggleable__control sk-hidden--visually\" id=\"sk-estimator-id-2\" type=\"checkbox\" checked><label for=\"sk-estimator-id-2\" class=\"sk-toggleable__label sk-toggleable__label-arrow\">HistGradientBoostingRegressor</label><div class=\"sk-toggleable__content\"><pre>HistGradientBoostingRegressor(learning_rate=0.001, max_depth=5, max_iter=5000,\n",
              "                              random_state=42)</pre></div></div></div></div></div>"
            ],
            "text/plain": [
              "HistGradientBoostingRegressor(learning_rate=0.001, max_depth=5, max_iter=5000,\n",
              "                              random_state=42)"
            ]
          },
          "execution_count": 30,
          "metadata": {},
          "output_type": "execute_result"
        }
      ],
      "source": [
        "gbmlogmax_control = HistGradientBoostingRegressor(max_iter = 5000, learning_rate = 0.001,\n",
        "                                                  max_depth = 5, max_leaf_nodes = 2 ** 5 - 1,\n",
        "                                                  random_state=42)\n",
        "gbmlogmax_control.fit(X_train, y_train)"
      ]
    },
    {
      "cell_type": "code",
      "execution_count": null,
      "metadata": {
        "id": "9r7t85-IuR7h"
      },
      "outputs": [],
      "source": [
        "gbmlogmax_control_preds_train = gbmlogmax_control.predict(X_train)\n",
        "gbmlogmax_control_preds_test = gbmlogmax_control.predict(X_test)"
      ]
    },
    {
      "cell_type": "code",
      "execution_count": null,
      "metadata": {},
      "outputs": [
        {
          "name": "stdout",
          "output_type": "stream",
          "text": [
            "Train R2: 0.5630121619834944\n",
            "Train R: 0.7839886251065744\n",
            "Train MSE: 1.0060196734293427\n",
            "Train MAE: 0.7852594017849734\n",
            "Train MedAE: 0.6432782234248068\n",
            "Train MSE (original): 104.12534505279909\n",
            "Train MAE (original): 2.999215945748895\n",
            "Train MedAE (original): 0.5761387535688619\n",
            "Train upper quartile (original): 1.6677278227683348\n",
            "\n",
            "\n",
            "Test R2: 0.4019843113562235\n",
            "Test R: 0.6479161578908418\n",
            "Test MSE: 1.3926292369885027\n",
            "Test MAE: 0.9356295965017764\n",
            "Test MedAE: 0.7684654204643037\n",
            "Test MSE (original): 132.18242593857715\n",
            "Test MAE (original): 3.223446006803147\n",
            "Test MedAE (original): 0.6968297673032124\n",
            "Test upper quartile (original): 1.865206781020686\n"
          ]
        }
      ],
      "source": [
        "print(\"Train R2: \" + str(r2_score(y_train, gbmlogmax_control_preds_train)))\n",
        "print(\"Train R: \" + str(scipy.stats.pearsonr(np.array(y_train).flatten(), gbmlogmax_control_preds_train)[0]))\n",
        "print(\"Train MSE: \" + str(mean_squared_error(y_train, gbmlogmax_control_preds_train)))\n",
        "print(\"Train MAE: \" + str(mean_absolute_error(y_train, gbmlogmax_control_preds_train)))\n",
        "print(\"Train MedAE: \" + str(median_absolute_error(y_train, gbmlogmax_control_preds_train)))\n",
        "print(\"Train MSE (original): \" + str(mean_squared_error(np.exp(y_train) - 0.001, np.exp(gbmlogmax_control_preds_train) - 0.001)))\n",
        "print(\"Train MAE (original): \" + str(mean_absolute_error(np.exp(y_train) - 0.001, np.exp(gbmlogmax_control_preds_train) - 0.001)))\n",
        "print(\"Train MedAE (original): \" + str(median_absolute_error(np.exp(y_train) - 0.001, np.exp(gbmlogmax_control_preds_train) - 0.001)))\n",
        "print(\"Train upper quartile (original): \" + str(np.quantile(abs(np.exp(y_train) - np.exp(gbmlogmax_control_preds_train)), 0.75)))\n",
        "print(\"\\n\")\n",
        "print(\"Test R2: \" + str(r2_score(y_test, gbmlogmax_control_preds_test)))\n",
        "print(\"Test R: \" + str(scipy.stats.pearsonr(np.array(y_test).flatten(), gbmlogmax_control_preds_test)[0]))\n",
        "print(\"Test MSE: \" + str(mean_squared_error(y_test, gbmlogmax_control_preds_test)))\n",
        "print(\"Test MAE: \" + str(mean_absolute_error(y_test, gbmlogmax_control_preds_test)))\n",
        "print(\"Test MedAE: \" + str(median_absolute_error(y_test, gbmlogmax_control_preds_test)))\n",
        "print(\"Test MSE (original): \" + str(mean_squared_error(np.exp(y_test) - 0.001, np.exp(gbmlogmax_control_preds_test) - 0.001)))\n",
        "print(\"Test MAE (original): \" + str(mean_absolute_error(np.exp(y_test) - 0.001, np.exp(gbmlogmax_control_preds_test) - 0.001)))\n",
        "print(\"Test MedAE (original): \" + str(median_absolute_error(np.exp(y_test) - 0.001, np.exp(gbmlogmax_control_preds_test) - 0.001)))\n",
        "print(\"Test upper quartile (original): \" + str(np.quantile(abs(np.exp(y_test) - np.exp(gbmlogmax_control_preds_test)), 0.75)))"
      ]
    },
    {
      "cell_type": "markdown",
      "metadata": {
        "id": "pRofKs0t5cWx"
      },
      "source": [
        "####  **FINAL 3) HGBM： Full features with Spatiotemporally-lagged Surface Monitored SO2**"
      ]
    },
    {
      "cell_type": "markdown",
      "metadata": {
        "id": "zJ8KSVn65vVS"
      },
      "source": [
        "#####  **Binary Classification (Cross-Validation):**"
      ]
    },
    {
      "cell_type": "code",
      "execution_count": null,
      "metadata": {
        "id": "_D-5AaEg8BL0"
      },
      "outputs": [],
      "source": [
        "y = data['SO2_above_0']\n",
        "X = np.array(data.iloc[:,6:-1])\n",
        "\n",
        "X_train, X_test, y_train, y_test = train_test_split(X, y, test_size=0.2, random_state=42, stratify=y)"
      ]
    },
    {
      "cell_type": "code",
      "execution_count": null,
      "metadata": {
        "id": "oPOsnjI28BoK"
      },
      "outputs": [],
      "source": [
        "binary_gbm = HistGradientBoostingClassifier(max_iter = 5000, learning_rate = 0.001,\n",
        "                                            max_depth = 5, max_leaf_nodes = 2 ** 5 - 1,\n",
        "                                            random_state=42,\n",
        "                                            class_weight={0: 1 / (Counter(data['SO2_above_0'])[0] / (Counter(data['SO2_above_0'])[1] + Counter(data['SO2_above_0'])[0])),\n",
        "                                                          1: 1 / (Counter(data['SO2_above_0'])[1] / (Counter(data['SO2_above_0'])[1] + Counter(data['SO2_above_0'])[0]))})\n",
        "\n",
        "accuracy, precision, recall, f1score = cross_validate_fit_binary_classification(binary_gbm , X_train, y_train)"
      ]
    },
    {
      "cell_type": "code",
      "execution_count": null,
      "metadata": {},
      "outputs": [
        {
          "name": "stdout",
          "output_type": "stream",
          "text": [
            "0.8323336050540044\n",
            "0.8642892493149613\n",
            "0.8323336050540044\n",
            "0.8429701228542724\n"
          ]
        }
      ],
      "source": [
        "print(np.mean([accuracy[n][0] for n in range(10)]))\n",
        "print(np.mean([precision[n][0] for n in range(10)]))\n",
        "print(np.mean([recall[n][0] for n in range(10)]))\n",
        "print(np.mean([f1score[n][0] for n in range(10)]))"
      ]
    },
    {
      "cell_type": "markdown",
      "metadata": {
        "id": "2fbZWs9M5v3o"
      },
      "source": [
        "#####  **Binary Classification (Training & Testing):**"
      ]
    },
    {
      "cell_type": "code",
      "execution_count": null,
      "metadata": {
        "colab": {
          "base_uri": "https://localhost:8080/",
          "height": 127
        },
        "id": "9fDAylPcXlxc",
        "outputId": "9c466d2e-9422-41ef-88ba-c8f1326c62a5"
      },
      "outputs": [
        {
          "data": {
            "text/html": [
              "<style>#sk-container-id-2 {color: black;}#sk-container-id-2 pre{padding: 0;}#sk-container-id-2 div.sk-toggleable {background-color: white;}#sk-container-id-2 label.sk-toggleable__label {cursor: pointer;display: block;width: 100%;margin-bottom: 0;padding: 0.3em;box-sizing: border-box;text-align: center;}#sk-container-id-2 label.sk-toggleable__label-arrow:before {content: \"▸\";float: left;margin-right: 0.25em;color: #696969;}#sk-container-id-2 label.sk-toggleable__label-arrow:hover:before {color: black;}#sk-container-id-2 div.sk-estimator:hover label.sk-toggleable__label-arrow:before {color: black;}#sk-container-id-2 div.sk-toggleable__content {max-height: 0;max-width: 0;overflow: hidden;text-align: left;background-color: #f0f8ff;}#sk-container-id-2 div.sk-toggleable__content pre {margin: 0.2em;color: black;border-radius: 0.25em;background-color: #f0f8ff;}#sk-container-id-2 input.sk-toggleable__control:checked~div.sk-toggleable__content {max-height: 200px;max-width: 100%;overflow: auto;}#sk-container-id-2 input.sk-toggleable__control:checked~label.sk-toggleable__label-arrow:before {content: \"▾\";}#sk-container-id-2 div.sk-estimator input.sk-toggleable__control:checked~label.sk-toggleable__label {background-color: #d4ebff;}#sk-container-id-2 div.sk-label input.sk-toggleable__control:checked~label.sk-toggleable__label {background-color: #d4ebff;}#sk-container-id-2 input.sk-hidden--visually {border: 0;clip: rect(1px 1px 1px 1px);clip: rect(1px, 1px, 1px, 1px);height: 1px;margin: -1px;overflow: hidden;padding: 0;position: absolute;width: 1px;}#sk-container-id-2 div.sk-estimator {font-family: monospace;background-color: #f0f8ff;border: 1px dotted black;border-radius: 0.25em;box-sizing: border-box;margin-bottom: 0.5em;}#sk-container-id-2 div.sk-estimator:hover {background-color: #d4ebff;}#sk-container-id-2 div.sk-parallel-item::after {content: \"\";width: 100%;border-bottom: 1px solid gray;flex-grow: 1;}#sk-container-id-2 div.sk-label:hover label.sk-toggleable__label {background-color: #d4ebff;}#sk-container-id-2 div.sk-serial::before {content: \"\";position: absolute;border-left: 1px solid gray;box-sizing: border-box;top: 0;bottom: 0;left: 50%;z-index: 0;}#sk-container-id-2 div.sk-serial {display: flex;flex-direction: column;align-items: center;background-color: white;padding-right: 0.2em;padding-left: 0.2em;position: relative;}#sk-container-id-2 div.sk-item {position: relative;z-index: 1;}#sk-container-id-2 div.sk-parallel {display: flex;align-items: stretch;justify-content: center;background-color: white;position: relative;}#sk-container-id-2 div.sk-item::before, #sk-container-id-2 div.sk-parallel-item::before {content: \"\";position: absolute;border-left: 1px solid gray;box-sizing: border-box;top: 0;bottom: 0;left: 50%;z-index: -1;}#sk-container-id-2 div.sk-parallel-item {display: flex;flex-direction: column;z-index: 1;position: relative;background-color: white;}#sk-container-id-2 div.sk-parallel-item:first-child::after {align-self: flex-end;width: 50%;}#sk-container-id-2 div.sk-parallel-item:last-child::after {align-self: flex-start;width: 50%;}#sk-container-id-2 div.sk-parallel-item:only-child::after {width: 0;}#sk-container-id-2 div.sk-dashed-wrapped {border: 1px dashed gray;margin: 0 0.4em 0.5em 0.4em;box-sizing: border-box;padding-bottom: 0.4em;background-color: white;}#sk-container-id-2 div.sk-label label {font-family: monospace;font-weight: bold;display: inline-block;line-height: 1.2em;}#sk-container-id-2 div.sk-label-container {text-align: center;}#sk-container-id-2 div.sk-container {/* jupyter's `normalize.less` sets `[hidden] { display: none; }` but bootstrap.min.css set `[hidden] { display: none !important; }` so we also need the `!important` here to be able to override the default hidden behavior on the sphinx rendered scikit-learn.org. See: https://github.com/scikit-learn/scikit-learn/issues/21755 */display: inline-block !important;position: relative;}#sk-container-id-2 div.sk-text-repr-fallback {display: none;}</style><div id=\"sk-container-id-2\" class=\"sk-top-container\"><div class=\"sk-text-repr-fallback\"><pre>HistGradientBoostingClassifier(class_weight={0: 5.597444089456869,\n",
              "                                             1: 1.2175121612230715},\n",
              "                               learning_rate=0.001, max_depth=5, max_iter=5000,\n",
              "                               random_state=42)</pre><b>In a Jupyter environment, please rerun this cell to show the HTML representation or trust the notebook. <br />On GitHub, the HTML representation is unable to render, please try loading this page with nbviewer.org.</b></div><div class=\"sk-container\" hidden><div class=\"sk-item\"><div class=\"sk-estimator sk-toggleable\"><input class=\"sk-toggleable__control sk-hidden--visually\" id=\"sk-estimator-id-2\" type=\"checkbox\" checked><label for=\"sk-estimator-id-2\" class=\"sk-toggleable__label sk-toggleable__label-arrow\">HistGradientBoostingClassifier</label><div class=\"sk-toggleable__content\"><pre>HistGradientBoostingClassifier(class_weight={0: 5.597444089456869,\n",
              "                                             1: 1.2175121612230715},\n",
              "                               learning_rate=0.001, max_depth=5, max_iter=5000,\n",
              "                               random_state=42)</pre></div></div></div></div></div>"
            ],
            "text/plain": [
              "HistGradientBoostingClassifier(class_weight={0: 5.597444089456869,\n",
              "                                             1: 1.2175121612230715},\n",
              "                               learning_rate=0.001, max_depth=5, max_iter=5000,\n",
              "                               random_state=42)"
            ]
          },
          "execution_count": 28,
          "metadata": {},
          "output_type": "execute_result"
        }
      ],
      "source": [
        "binary_gbm = HistGradientBoostingClassifier(max_iter = 5000, learning_rate = 0.001,\n",
        "                                            max_depth = 5, max_leaf_nodes = 2 ** 5 - 1,\n",
        "                                            random_state=42,\n",
        "                                            class_weight={0: 1 / (Counter(data['SO2_above_0'])[0] / (Counter(data['SO2_above_0'])[1] + Counter(data['SO2_above_0'])[0])),\n",
        "                                                          1: 1 / (Counter(data['SO2_above_0'])[1] / (Counter(data['SO2_above_0'])[1] + Counter(data['SO2_above_0'])[0]))})\n",
        "binary_gbm.fit(X_train, y_train)"
      ]
    },
    {
      "cell_type": "code",
      "execution_count": null,
      "metadata": {
        "id": "E-7uIKBxdeoZ"
      },
      "outputs": [],
      "source": [
        "binary_preds_train = binary_gbm.predict(X_train)\n",
        "binary_preds_test = binary_gbm.predict(X_test)"
      ]
    },
    {
      "cell_type": "code",
      "execution_count": null,
      "metadata": {
        "colab": {
          "base_uri": "https://localhost:8080/"
        },
        "id": "tRyInBwC2GNn",
        "outputId": "e207fa95-2393-4c33-f5f0-c0f1d263dce6"
      },
      "outputs": [
        {
          "name": "stdout",
          "output_type": "stream",
          "text": [
            "              precision    recall  f1-score   support\n",
            "\n",
            "           0       0.65      0.97      0.78      1252\n",
            "           1       0.99      0.89      0.94      5756\n",
            "\n",
            "    accuracy                           0.90      7008\n",
            "   macro avg       0.82      0.93      0.86      7008\n",
            "weighted avg       0.93      0.90      0.91      7008\n",
            "\n"
          ]
        }
      ],
      "source": [
        "print(classification_report(y_train, binary_preds_train))"
      ]
    },
    {
      "cell_type": "code",
      "execution_count": null,
      "metadata": {},
      "outputs": [
        {
          "data": {
            "text/plain": [
              "array([[1211,   41],\n",
              "       [ 650, 5106]])"
            ]
          },
          "metadata": {},
          "output_type": "display_data"
        }
      ],
      "source": [
        "confusion_matrix(y_train, binary_preds_train)"
      ]
    },
    {
      "cell_type": "code",
      "execution_count": null,
      "metadata": {},
      "outputs": [
        {
          "name": "stdout",
          "output_type": "stream",
          "text": [
            "              precision    recall  f1-score   support\n",
            "\n",
            "           0       0.51      0.78      0.61       313\n",
            "           1       0.95      0.84      0.89      1439\n",
            "\n",
            "    accuracy                           0.83      1752\n",
            "   macro avg       0.73      0.81      0.75      1752\n",
            "weighted avg       0.87      0.83      0.84      1752\n",
            "\n"
          ]
        }
      ],
      "source": [
        "print(classification_report(y_test, binary_preds_test))"
      ]
    },
    {
      "cell_type": "code",
      "execution_count": null,
      "metadata": {},
      "outputs": [
        {
          "data": {
            "text/plain": [
              "array([[ 244,   69],\n",
              "       [ 237, 1202]])"
            ]
          },
          "metadata": {},
          "output_type": "display_data"
        }
      ],
      "source": [
        "confusion_matrix(y_test, binary_preds_test)"
      ]
    },
    {
      "cell_type": "markdown",
      "metadata": {
        "id": "EDp7w5tW9vq0"
      },
      "source": [
        "#####  **Daily Mean SO2 Regression (Cross-Validation):**"
      ]
    },
    {
      "cell_type": "code",
      "execution_count": null,
      "metadata": {
        "id": "E1pR9lEu9vq0"
      },
      "outputs": [],
      "source": [
        "endog = np.log(data[data['SO2_above_0'] == 1]['mean_so2'] + 0.001)\n",
        "scaler = StandardScaler().fit(data[data['SO2_above_0'] == 1].iloc[:,6:318])\n",
        "exog = np.concatenate((\n",
        "        scaler.transform(data[data['SO2_above_0'] == 1].iloc[:,6:318]),\n",
        "        data[data['SO2_above_0'] == 1].iloc[:,318:359],\n",
        "), axis = 1)\n",
        "group = data[data['SO2_above_0'] == 1]['id']\n",
        "\n",
        "X_train, X_test, y_train, y_test = train_test_split(exog, endog, test_size=0.2, random_state=42, stratify=group)"
      ]
    },
    {
      "cell_type": "code",
      "execution_count": null,
      "metadata": {
        "id": "G6GMquoV9vq1"
      },
      "outputs": [],
      "source": [
        "gbmlogmean = HistGradientBoostingRegressor(max_iter = 5000,\n",
        "                                           learning_rate = 0.001,\n",
        "                                           max_depth = 5,\n",
        "                                           max_leaf_nodes = 2 ** 5 - 1,\n",
        "                                           random_state=42)\n",
        "\n",
        "m1a, m2a, m3a, m4a, m5a, m6a, m7a, \\\n",
        "  m1b, m2b, m3b, m4b, m5b, m6b, m7b = cross_validate_fit_regression(gbmlogmean , X_train, y_train)"
      ]
    },
    {
      "cell_type": "code",
      "execution_count": null,
      "metadata": {},
      "outputs": [
        {
          "name": "stdout",
          "output_type": "stream",
          "text": [
            "R2: 0.45128175050607977\n",
            "r: 0.6777348841536721\n",
            "MAE: 0.8748860605515034\n",
            "MedAE: 0.6159551290053347\n",
            "MAE (original): 0.6344249071627328\n",
            "MedAE (original): 0.15549580620025627\n",
            "upper quartile (original): 0.40072953864965344\n"
          ]
        }
      ],
      "source": [
        "print(\"R2: \" + str(np.mean(m1a)))\n",
        "print(\"r: \" + str(np.mean(m2a)))\n",
        "print(\"MAE: \" + str(np.mean(m3a)))\n",
        "print(\"MedAE: \" + str(np.mean(m4a)))\n",
        "print(\"MAE (original): \" + str(np.mean(m5a)))\n",
        "print(\"MedAE (original): \" + str(np.mean(m6a)))\n",
        "print(\"upper quartile (original): \" + str(np.mean(m7a)))"
      ]
    },
    {
      "cell_type": "markdown",
      "metadata": {
        "id": "tGPzK4UL93SN"
      },
      "source": [
        "#####  **Daily Mean SO2 Regression (Training & Testing):**"
      ]
    },
    {
      "cell_type": "code",
      "execution_count": null,
      "metadata": {
        "colab": {
          "base_uri": "https://localhost:8080/",
          "height": 93
        },
        "id": "OYZUCJ7oeUM_",
        "outputId": "070356d3-95ac-471d-fba3-35766b384495"
      },
      "outputs": [
        {
          "data": {
            "text/html": [
              "<style>#sk-container-id-1 {color: black;}#sk-container-id-1 pre{padding: 0;}#sk-container-id-1 div.sk-toggleable {background-color: white;}#sk-container-id-1 label.sk-toggleable__label {cursor: pointer;display: block;width: 100%;margin-bottom: 0;padding: 0.3em;box-sizing: border-box;text-align: center;}#sk-container-id-1 label.sk-toggleable__label-arrow:before {content: \"▸\";float: left;margin-right: 0.25em;color: #696969;}#sk-container-id-1 label.sk-toggleable__label-arrow:hover:before {color: black;}#sk-container-id-1 div.sk-estimator:hover label.sk-toggleable__label-arrow:before {color: black;}#sk-container-id-1 div.sk-toggleable__content {max-height: 0;max-width: 0;overflow: hidden;text-align: left;background-color: #f0f8ff;}#sk-container-id-1 div.sk-toggleable__content pre {margin: 0.2em;color: black;border-radius: 0.25em;background-color: #f0f8ff;}#sk-container-id-1 input.sk-toggleable__control:checked~div.sk-toggleable__content {max-height: 200px;max-width: 100%;overflow: auto;}#sk-container-id-1 input.sk-toggleable__control:checked~label.sk-toggleable__label-arrow:before {content: \"▾\";}#sk-container-id-1 div.sk-estimator input.sk-toggleable__control:checked~label.sk-toggleable__label {background-color: #d4ebff;}#sk-container-id-1 div.sk-label input.sk-toggleable__control:checked~label.sk-toggleable__label {background-color: #d4ebff;}#sk-container-id-1 input.sk-hidden--visually {border: 0;clip: rect(1px 1px 1px 1px);clip: rect(1px, 1px, 1px, 1px);height: 1px;margin: -1px;overflow: hidden;padding: 0;position: absolute;width: 1px;}#sk-container-id-1 div.sk-estimator {font-family: monospace;background-color: #f0f8ff;border: 1px dotted black;border-radius: 0.25em;box-sizing: border-box;margin-bottom: 0.5em;}#sk-container-id-1 div.sk-estimator:hover {background-color: #d4ebff;}#sk-container-id-1 div.sk-parallel-item::after {content: \"\";width: 100%;border-bottom: 1px solid gray;flex-grow: 1;}#sk-container-id-1 div.sk-label:hover label.sk-toggleable__label {background-color: #d4ebff;}#sk-container-id-1 div.sk-serial::before {content: \"\";position: absolute;border-left: 1px solid gray;box-sizing: border-box;top: 0;bottom: 0;left: 50%;z-index: 0;}#sk-container-id-1 div.sk-serial {display: flex;flex-direction: column;align-items: center;background-color: white;padding-right: 0.2em;padding-left: 0.2em;position: relative;}#sk-container-id-1 div.sk-item {position: relative;z-index: 1;}#sk-container-id-1 div.sk-parallel {display: flex;align-items: stretch;justify-content: center;background-color: white;position: relative;}#sk-container-id-1 div.sk-item::before, #sk-container-id-1 div.sk-parallel-item::before {content: \"\";position: absolute;border-left: 1px solid gray;box-sizing: border-box;top: 0;bottom: 0;left: 50%;z-index: -1;}#sk-container-id-1 div.sk-parallel-item {display: flex;flex-direction: column;z-index: 1;position: relative;background-color: white;}#sk-container-id-1 div.sk-parallel-item:first-child::after {align-self: flex-end;width: 50%;}#sk-container-id-1 div.sk-parallel-item:last-child::after {align-self: flex-start;width: 50%;}#sk-container-id-1 div.sk-parallel-item:only-child::after {width: 0;}#sk-container-id-1 div.sk-dashed-wrapped {border: 1px dashed gray;margin: 0 0.4em 0.5em 0.4em;box-sizing: border-box;padding-bottom: 0.4em;background-color: white;}#sk-container-id-1 div.sk-label label {font-family: monospace;font-weight: bold;display: inline-block;line-height: 1.2em;}#sk-container-id-1 div.sk-label-container {text-align: center;}#sk-container-id-1 div.sk-container {/* jupyter's `normalize.less` sets `[hidden] { display: none; }` but bootstrap.min.css set `[hidden] { display: none !important; }` so we also need the `!important` here to be able to override the default hidden behavior on the sphinx rendered scikit-learn.org. See: https://github.com/scikit-learn/scikit-learn/issues/21755 */display: inline-block !important;position: relative;}#sk-container-id-1 div.sk-text-repr-fallback {display: none;}</style><div id=\"sk-container-id-1\" class=\"sk-top-container\"><div class=\"sk-text-repr-fallback\"><pre>HistGradientBoostingRegressor(learning_rate=0.001, max_depth=5, max_iter=5000,\n",
              "                              random_state=42)</pre><b>In a Jupyter environment, please rerun this cell to show the HTML representation or trust the notebook. <br />On GitHub, the HTML representation is unable to render, please try loading this page with nbviewer.org.</b></div><div class=\"sk-container\" hidden><div class=\"sk-item\"><div class=\"sk-estimator sk-toggleable\"><input class=\"sk-toggleable__control sk-hidden--visually\" id=\"sk-estimator-id-1\" type=\"checkbox\" checked><label for=\"sk-estimator-id-1\" class=\"sk-toggleable__label sk-toggleable__label-arrow\">HistGradientBoostingRegressor</label><div class=\"sk-toggleable__content\"><pre>HistGradientBoostingRegressor(learning_rate=0.001, max_depth=5, max_iter=5000,\n",
              "                              random_state=42)</pre></div></div></div></div></div>"
            ],
            "text/plain": [
              "HistGradientBoostingRegressor(learning_rate=0.001, max_depth=5, max_iter=5000,\n",
              "                              random_state=42)"
            ]
          },
          "execution_count": 21,
          "metadata": {},
          "output_type": "execute_result"
        }
      ],
      "source": [
        "gbmlogmean = HistGradientBoostingRegressor(max_iter = 5000, learning_rate = 0.001,\n",
        "                                           max_depth = 5, max_leaf_nodes = 2 ** 5 - 1,\n",
        "                                           random_state=42)\n",
        "gbmlogmean.fit(X_train, y_train)"
      ]
    },
    {
      "cell_type": "code",
      "execution_count": null,
      "metadata": {
        "id": "UoZdI51meUNM"
      },
      "outputs": [],
      "source": [
        "gbmlogmean_preds_train = gbmlogmean.predict(X_train)\n",
        "gbmlogmean_preds_test = gbmlogmean.predict(X_test)"
      ]
    },
    {
      "cell_type": "code",
      "execution_count": null,
      "metadata": {},
      "outputs": [
        {
          "name": "stdout",
          "output_type": "stream",
          "text": [
            "Train R2: 0.6295469533165862\n",
            "Train R: 0.812082792624095\n",
            "Train MSE: 0.963524496339826\n",
            "Train MAE: 0.7205678517501773\n",
            "Train MedAE: 0.5092074118412466\n",
            "Train MSE (original): 3.052470116366343\n",
            "Train MAE (original): 0.5508581774386284\n",
            "Train MedAE (original): 0.12268311537476262\n",
            "Train upper quartile (original): 0.3212563715786113\n",
            "\n",
            "\n",
            "Test R2: 0.45898711252159374\n",
            "Test R: 0.6812661844751344\n",
            "Test MSE: 1.4654126051479281\n",
            "Test MAE: 0.8849909509900246\n",
            "Test MedAE: 0.6300311211122835\n",
            "Test MSE (original): 3.4043310105598588\n",
            "Test MAE (original): 0.6212939734905499\n",
            "Test MedAE (original): 0.14288496160380298\n",
            "Test upper quartile (original): 0.3974519757707491\n"
          ]
        }
      ],
      "source": [
        "print(\"Train R2: \" + str(r2_score(y_train, gbmlogmean_preds_train)))\n",
        "print(\"Train R: \" + str(scipy.stats.pearsonr(np.array(y_train).flatten(), gbmlogmean_preds_train)[0]))\n",
        "print(\"Train MSE: \" + str(mean_squared_error(y_train, gbmlogmean_preds_train)))\n",
        "print(\"Train MAE: \" + str(mean_absolute_error(y_train, gbmlogmean_preds_train)))\n",
        "print(\"Train MedAE: \" + str(median_absolute_error(y_train, gbmlogmean_preds_train)))\n",
        "print(\"Train MSE (original): \" + str(mean_squared_error(np.exp(y_train) - 0.001, np.exp(gbmlogmean_preds_train) - 0.001)))\n",
        "print(\"Train MAE (original): \" + str(mean_absolute_error(np.exp(y_train) - 0.001, np.exp(gbmlogmean_preds_train) - 0.001)))\n",
        "print(\"Train MedAE (original): \" + str(median_absolute_error(np.exp(y_train) - 0.001, np.exp(gbmlogmean_preds_train) - 0.001)))\n",
        "print(\"Train upper quartile (original): \" + str(np.quantile(abs(np.exp(y_train) - np.exp(gbmlogmean_preds_train)), 0.75)))\n",
        "print(\"\\n\")\n",
        "print(\"Test R2: \" + str(r2_score(y_test, gbmlogmean_preds_test)))\n",
        "print(\"Test R: \" + str(scipy.stats.pearsonr(np.array(y_test).flatten(), gbmlogmean_preds_test)[0]))\n",
        "print(\"Test MSE: \" + str(mean_squared_error(y_test, gbmlogmean_preds_test)))\n",
        "print(\"Test MAE: \" + str(mean_absolute_error(y_test, gbmlogmean_preds_test)))\n",
        "print(\"Test MedAE: \" + str(median_absolute_error(y_test, gbmlogmean_preds_test)))\n",
        "print(\"Test MSE (original): \" + str(mean_squared_error(np.exp(y_test) - 0.001, np.exp(gbmlogmean_preds_test) - 0.001)))\n",
        "print(\"Test MAE (original): \" + str(mean_absolute_error(np.exp(y_test) - 0.001, np.exp(gbmlogmean_preds_test) - 0.001)))\n",
        "print(\"Test MedAE (original): \" + str(median_absolute_error(np.exp(y_test) - 0.001, np.exp(gbmlogmean_preds_test) - 0.001)))\n",
        "print(\"Test upper quartile (original): \" + str(np.quantile(abs(np.exp(y_test) - np.exp(gbmlogmean_preds_test)), 0.75)))"
      ]
    },
    {
      "cell_type": "markdown",
      "metadata": {
        "id": "q-dprpG--Vtm"
      },
      "source": [
        "#####  **Daily Max SO2 Regression (Cross-Validation):**"
      ]
    },
    {
      "cell_type": "code",
      "execution_count": null,
      "metadata": {
        "id": "GcWquqxd-bCS"
      },
      "outputs": [],
      "source": [
        "endog = np.log(data[data['SO2_above_0'] == 1]['max_so2'] + 0.001)\n",
        "scaler = StandardScaler().fit(data[data['SO2_above_0'] == 1].iloc[:,6:318])\n",
        "exog = np.concatenate((\n",
        "        scaler.transform(data[data['SO2_above_0'] == 1].iloc[:,6:318]),\n",
        "        data[data['SO2_above_0'] == 1].iloc[:,318:359],\n",
        "), axis = 1)\n",
        "group = data[data['SO2_above_0'] == 1]['id']\n",
        "\n",
        "X_train, X_test, y_train, y_test = train_test_split(exog, endog, test_size=0.2, random_state=42, stratify=group)"
      ]
    },
    {
      "cell_type": "code",
      "execution_count": null,
      "metadata": {
        "id": "WnlYmIyc-b1Z"
      },
      "outputs": [],
      "source": [
        "gbmlogmax = HistGradientBoostingRegressor(max_iter = 5000,\n",
        "                                          learning_rate = 0.001,\n",
        "                                          max_depth = 5,\n",
        "                                          max_leaf_nodes = 2 ** 5 - 1,\n",
        "                                          random_state=42)\n",
        "\n",
        "m1a, m2a, m3a, m4a, m5a, m6a, m7a, \\\n",
        "  m1b, m2b, m3b, m4b, m5b, m6b, m7b = cross_validate_fit_regression(gbmlogmean , X_train, y_train)"
      ]
    },
    {
      "cell_type": "code",
      "execution_count": null,
      "metadata": {},
      "outputs": [
        {
          "name": "stdout",
          "output_type": "stream",
          "text": [
            "R2: 0.4424022210311069\n",
            "r: 0.6727928463114373\n",
            "MAE: 0.8722778094855291\n",
            "MedAE: 0.7035495289828263\n",
            "MAE (original): 3.041886535165683\n",
            "MedAE (original): 0.664642210316139\n",
            "upper quartile (original): 2.0568198067102132\n"
          ]
        }
      ],
      "source": [
        "print(\"R2: \" + str(np.mean(m1a)))\n",
        "print(\"r: \" + str(np.mean(m2a)))\n",
        "print(\"MAE: \" + str(np.mean(m3a)))\n",
        "print(\"MedAE: \" + str(np.mean(m4a)))\n",
        "print(\"MAE (original): \" + str(np.mean(m5a)))\n",
        "print(\"MedAE (original): \" + str(np.mean(m6a)))\n",
        "print(\"upper quartile (original): \" + str(np.mean(m7a)))"
      ]
    },
    {
      "cell_type": "markdown",
      "metadata": {
        "id": "V8vsCv60-r74"
      },
      "source": [
        "#####  **Daily Max SO2 Regression (Training & Testing):**"
      ]
    },
    {
      "cell_type": "code",
      "execution_count": null,
      "metadata": {
        "colab": {
          "base_uri": "https://localhost:8080/",
          "height": 93
        },
        "id": "NzrAP92cgyx8",
        "outputId": "a5528829-4630-4911-c232-2d7b18b47ce8"
      },
      "outputs": [
        {
          "data": {
            "text/html": [
              "<style>#sk-container-id-2 {color: black;}#sk-container-id-2 pre{padding: 0;}#sk-container-id-2 div.sk-toggleable {background-color: white;}#sk-container-id-2 label.sk-toggleable__label {cursor: pointer;display: block;width: 100%;margin-bottom: 0;padding: 0.3em;box-sizing: border-box;text-align: center;}#sk-container-id-2 label.sk-toggleable__label-arrow:before {content: \"▸\";float: left;margin-right: 0.25em;color: #696969;}#sk-container-id-2 label.sk-toggleable__label-arrow:hover:before {color: black;}#sk-container-id-2 div.sk-estimator:hover label.sk-toggleable__label-arrow:before {color: black;}#sk-container-id-2 div.sk-toggleable__content {max-height: 0;max-width: 0;overflow: hidden;text-align: left;background-color: #f0f8ff;}#sk-container-id-2 div.sk-toggleable__content pre {margin: 0.2em;color: black;border-radius: 0.25em;background-color: #f0f8ff;}#sk-container-id-2 input.sk-toggleable__control:checked~div.sk-toggleable__content {max-height: 200px;max-width: 100%;overflow: auto;}#sk-container-id-2 input.sk-toggleable__control:checked~label.sk-toggleable__label-arrow:before {content: \"▾\";}#sk-container-id-2 div.sk-estimator input.sk-toggleable__control:checked~label.sk-toggleable__label {background-color: #d4ebff;}#sk-container-id-2 div.sk-label input.sk-toggleable__control:checked~label.sk-toggleable__label {background-color: #d4ebff;}#sk-container-id-2 input.sk-hidden--visually {border: 0;clip: rect(1px 1px 1px 1px);clip: rect(1px, 1px, 1px, 1px);height: 1px;margin: -1px;overflow: hidden;padding: 0;position: absolute;width: 1px;}#sk-container-id-2 div.sk-estimator {font-family: monospace;background-color: #f0f8ff;border: 1px dotted black;border-radius: 0.25em;box-sizing: border-box;margin-bottom: 0.5em;}#sk-container-id-2 div.sk-estimator:hover {background-color: #d4ebff;}#sk-container-id-2 div.sk-parallel-item::after {content: \"\";width: 100%;border-bottom: 1px solid gray;flex-grow: 1;}#sk-container-id-2 div.sk-label:hover label.sk-toggleable__label {background-color: #d4ebff;}#sk-container-id-2 div.sk-serial::before {content: \"\";position: absolute;border-left: 1px solid gray;box-sizing: border-box;top: 0;bottom: 0;left: 50%;z-index: 0;}#sk-container-id-2 div.sk-serial {display: flex;flex-direction: column;align-items: center;background-color: white;padding-right: 0.2em;padding-left: 0.2em;position: relative;}#sk-container-id-2 div.sk-item {position: relative;z-index: 1;}#sk-container-id-2 div.sk-parallel {display: flex;align-items: stretch;justify-content: center;background-color: white;position: relative;}#sk-container-id-2 div.sk-item::before, #sk-container-id-2 div.sk-parallel-item::before {content: \"\";position: absolute;border-left: 1px solid gray;box-sizing: border-box;top: 0;bottom: 0;left: 50%;z-index: -1;}#sk-container-id-2 div.sk-parallel-item {display: flex;flex-direction: column;z-index: 1;position: relative;background-color: white;}#sk-container-id-2 div.sk-parallel-item:first-child::after {align-self: flex-end;width: 50%;}#sk-container-id-2 div.sk-parallel-item:last-child::after {align-self: flex-start;width: 50%;}#sk-container-id-2 div.sk-parallel-item:only-child::after {width: 0;}#sk-container-id-2 div.sk-dashed-wrapped {border: 1px dashed gray;margin: 0 0.4em 0.5em 0.4em;box-sizing: border-box;padding-bottom: 0.4em;background-color: white;}#sk-container-id-2 div.sk-label label {font-family: monospace;font-weight: bold;display: inline-block;line-height: 1.2em;}#sk-container-id-2 div.sk-label-container {text-align: center;}#sk-container-id-2 div.sk-container {/* jupyter's `normalize.less` sets `[hidden] { display: none; }` but bootstrap.min.css set `[hidden] { display: none !important; }` so we also need the `!important` here to be able to override the default hidden behavior on the sphinx rendered scikit-learn.org. See: https://github.com/scikit-learn/scikit-learn/issues/21755 */display: inline-block !important;position: relative;}#sk-container-id-2 div.sk-text-repr-fallback {display: none;}</style><div id=\"sk-container-id-2\" class=\"sk-top-container\"><div class=\"sk-text-repr-fallback\"><pre>HistGradientBoostingRegressor(learning_rate=0.001, max_depth=5, max_iter=5000,\n",
              "                              random_state=42)</pre><b>In a Jupyter environment, please rerun this cell to show the HTML representation or trust the notebook. <br />On GitHub, the HTML representation is unable to render, please try loading this page with nbviewer.org.</b></div><div class=\"sk-container\" hidden><div class=\"sk-item\"><div class=\"sk-estimator sk-toggleable\"><input class=\"sk-toggleable__control sk-hidden--visually\" id=\"sk-estimator-id-2\" type=\"checkbox\" checked><label for=\"sk-estimator-id-2\" class=\"sk-toggleable__label sk-toggleable__label-arrow\">HistGradientBoostingRegressor</label><div class=\"sk-toggleable__content\"><pre>HistGradientBoostingRegressor(learning_rate=0.001, max_depth=5, max_iter=5000,\n",
              "                              random_state=42)</pre></div></div></div></div></div>"
            ],
            "text/plain": [
              "HistGradientBoostingRegressor(learning_rate=0.001, max_depth=5, max_iter=5000,\n",
              "                              random_state=42)"
            ]
          },
          "execution_count": 28,
          "metadata": {},
          "output_type": "execute_result"
        }
      ],
      "source": [
        "gbmlogmax = HistGradientBoostingRegressor(max_iter = 5000, learning_rate = 0.001,\n",
        "                                          max_depth = 5, max_leaf_nodes = 2 ** 5 - 1,\n",
        "                                          random_state=42)\n",
        "gbmlogmax.fit(X_train, y_train)"
      ]
    },
    {
      "cell_type": "code",
      "execution_count": null,
      "metadata": {
        "id": "ReaSRWhxgyyN"
      },
      "outputs": [],
      "source": [
        "gbmlogmax_preds_train = gbmlogmax.predict(X_train)\n",
        "gbmlogmax_preds_test = gbmlogmax.predict(X_test)"
      ]
    },
    {
      "cell_type": "code",
      "execution_count": null,
      "metadata": {},
      "outputs": [
        {
          "name": "stdout",
          "output_type": "stream",
          "text": [
            "Train R2: 0.6214034620469683\n",
            "Train R: 0.8095507871095845\n",
            "Train MSE: 0.8715930566896064\n",
            "Train MAE: 0.7206934175938562\n",
            "Train MedAE: 0.5756101093992164\n",
            "Train MSE (original): 92.08018861769848\n",
            "Train MAE (original): 2.6798933323335588\n",
            "Train MedAE (original): 0.5202511198855675\n",
            "Train upper quartile (original): 1.5996077478844821\n",
            "\n",
            "\n",
            "Test R2: 0.4431854085157316\n",
            "Test R: 0.6704217838596339\n",
            "Test MSE: 1.2966821680571499\n",
            "Test MAE: 0.885910569740831\n",
            "Test MedAE: 0.7034364936615795\n",
            "Test MSE (original): 124.8812656227077\n",
            "Test MAE (original): 3.0144548101393327\n",
            "Test MedAE (original): 0.6659236938216544\n",
            "Test upper quartile (original): 1.7447238494640906\n"
          ]
        }
      ],
      "source": [
        "print(\"Train R2: \" + str(r2_score(y_train, gbmlogmax_preds_train)))\n",
        "print(\"Train R: \" + str(scipy.stats.pearsonr(np.array(y_train).flatten(), gbmlogmax_preds_train)[0]))\n",
        "print(\"Train MSE: \" + str(mean_squared_error(y_train, gbmlogmax_preds_train)))\n",
        "print(\"Train MAE: \" + str(mean_absolute_error(y_train, gbmlogmax_preds_train)))\n",
        "print(\"Train MedAE: \" + str(median_absolute_error(y_train, gbmlogmax_preds_train)))\n",
        "print(\"Train MSE (original): \" + str(mean_squared_error(np.exp(y_train) - 0.001, np.exp(gbmlogmax_preds_train) - 0.001)))\n",
        "print(\"Train MAE (original): \" + str(mean_absolute_error(np.exp(y_train) - 0.001, np.exp(gbmlogmax_preds_train) - 0.001)))\n",
        "print(\"Train MedAE (original): \" + str(median_absolute_error(np.exp(y_train) - 0.001, np.exp(gbmlogmax_preds_train) - 0.001)))\n",
        "print(\"Train upper quartile (original): \" + str(np.quantile(abs(np.exp(y_train) - np.exp(gbmlogmax_preds_train)), 0.75)))\n",
        "print(\"\\n\")\n",
        "print(\"Test R2: \" + str(r2_score(y_test, gbmlogmax_preds_test)))\n",
        "print(\"Test R: \" + str(scipy.stats.pearsonr(np.array(y_test).flatten(), gbmlogmax_preds_test)[0]))\n",
        "print(\"Test MSE: \" + str(mean_squared_error(y_test, gbmlogmax_preds_test)))\n",
        "print(\"Test MAE: \" + str(mean_absolute_error(y_test, gbmlogmax_preds_test)))\n",
        "print(\"Test MedAE: \" + str(median_absolute_error(y_test, gbmlogmax_preds_test)))\n",
        "print(\"Test MSE (original): \" + str(mean_squared_error(np.exp(y_test) - 0.001, np.exp(gbmlogmax_preds_test) - 0.001)))\n",
        "print(\"Test MAE (original): \" + str(mean_absolute_error(np.exp(y_test) - 0.001, np.exp(gbmlogmax_preds_test) - 0.001)))\n",
        "print(\"Test MedAE (original): \" + str(median_absolute_error(np.exp(y_test) - 0.001, np.exp(gbmlogmax_preds_test) - 0.001)))\n",
        "print(\"Test upper quartile (original): \" + str(np.quantile(abs(np.exp(y_test) - np.exp(gbmlogmax_preds_test)), 0.75)))"
      ]
    }
  ],
  "metadata": {
    "colab": {
      "provenance": []
    },
    "kernelspec": {
      "display_name": "Python 3",
      "name": "python3"
    },
    "language_info": {
      "name": "python"
    }
  },
  "nbformat": 4,
  "nbformat_minor": 0
}
